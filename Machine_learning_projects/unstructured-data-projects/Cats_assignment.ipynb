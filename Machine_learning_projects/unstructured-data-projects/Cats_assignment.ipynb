{
  "nbformat": 4,
  "nbformat_minor": 0,
  "metadata": {
    "colab": {
      "name": "Cats_assignment.ipynb",
      "provenance": [],
      "collapsed_sections": [],
      "toc_visible": true
    },
    "kernelspec": {
      "name": "python3",
      "display_name": "Python 3"
    },
    "language_info": {
      "name": "python"
    },
    "accelerator": "GPU"
  },
  "cells": [
    {
      "cell_type": "markdown",
      "metadata": {
        "id": "mkCDxXwuV763"
      },
      "source": [
        "## CAT BREED DETECTION ( USING INCEPTION NN )\n",
        "As mandatory part of assignment for the machine learning internship"
      ]
    },
    {
      "cell_type": "markdown",
      "metadata": {
        "id": "4rSxl2IvsAKE"
      },
      "source": [
        "# **1.Libraries**"
      ]
    },
    {
      "cell_type": "markdown",
      "metadata": {
        "id": "HoU6butPWXHi"
      },
      "source": [
        "**Importing required libraries**"
      ]
    },
    {
      "cell_type": "code",
      "metadata": {
        "id": "a-8AbgB2TOzK"
      },
      "source": [
        "import pandas as pd\n",
        "import numpy as np\n",
        "import tensorflow as tf\n",
        "\n",
        "from tensorflow.keras.layers import Input\n",
        "from tensorflow.keras.layers import Conv2D\n",
        "from tensorflow.keras.layers import MaxPooling2D\n",
        "from tensorflow.keras.layers import AveragePooling2D\n",
        "from tensorflow.keras.layers import Dropout \n",
        "from tensorflow.keras.layers import Dense\n",
        "from tensorflow.keras.layers import Concatenate\n",
        "from tensorflow.keras.layers import Activation\n",
        "from tensorflow.keras.layers import Add\n",
        "from tensorflow.keras.layers import Flatten\n",
        "from tensorflow.nn import local_response_normalization\n",
        "\n",
        "import os\n",
        "import re\n",
        "\n",
        "import imageio\n",
        "\n",
        "import matplotlib.pyplot as plt\n",
        "%matplotlib inline\n",
        "plt.rcParams['figure.figsize'] = (5.0, 4.0) # set default size of plots\n",
        "plt.rcParams['image.interpolation'] = 'nearest'\n",
        "plt.rcParams['image.cmap'] = 'gray'\n",
        "\n",
        "%load_ext autoreload\n",
        "%autoreload 2\n",
        "\n",
        "np.random.seed(1)"
      ],
      "execution_count": null,
      "outputs": []
    },
    {
      "cell_type": "markdown",
      "metadata": {
        "id": "3W1e_j58r4iS"
      },
      "source": [
        "# **2. Data**"
      ]
    },
    {
      "cell_type": "markdown",
      "metadata": {
        "id": "glYCn2qjWbC1"
      },
      "source": [
        "**Reading the cats data set and storing as a pandas dataframe**"
      ]
    },
    {
      "cell_type": "code",
      "metadata": {
        "id": "pH1ff_bmU27I"
      },
      "source": [
        "cats = pd.read_csv(\"/content/drive/MyDrive/Colab Notebooks/Data/data/cats.csv\")"
      ],
      "execution_count": 2,
      "outputs": []
    },
    {
      "cell_type": "markdown",
      "metadata": {
        "id": "plO3p19EsYHw"
      },
      "source": [
        "**Exploring the data set**"
      ]
    },
    {
      "cell_type": "code",
      "metadata": {
        "colab": {
          "base_uri": "https://localhost:8080/",
          "height": 326
        },
        "id": "u-nDxpj0VAO2",
        "outputId": "97d4118a-aa75-4ab9-e2ba-ca3990187b9b"
      },
      "source": [
        "cats.head()"
      ],
      "execution_count": 3,
      "outputs": [
        {
          "output_type": "execute_result",
          "data": {
            "text/html": [
              "<div>\n",
              "<style scoped>\n",
              "    .dataframe tbody tr th:only-of-type {\n",
              "        vertical-align: middle;\n",
              "    }\n",
              "\n",
              "    .dataframe tbody tr th {\n",
              "        vertical-align: top;\n",
              "    }\n",
              "\n",
              "    .dataframe thead th {\n",
              "        text-align: right;\n",
              "    }\n",
              "</style>\n",
              "<table border=\"1\" class=\"dataframe\">\n",
              "  <thead>\n",
              "    <tr style=\"text-align: right;\">\n",
              "      <th></th>\n",
              "      <th>Unnamed: 0</th>\n",
              "      <th>id</th>\n",
              "      <th>url</th>\n",
              "      <th>type</th>\n",
              "      <th>age</th>\n",
              "      <th>gender</th>\n",
              "      <th>size</th>\n",
              "      <th>coat</th>\n",
              "      <th>breed</th>\n",
              "      <th>photos</th>\n",
              "      <th>med_photos</th>\n",
              "    </tr>\n",
              "  </thead>\n",
              "  <tbody>\n",
              "    <tr>\n",
              "      <th>0</th>\n",
              "      <td>0</td>\n",
              "      <td>46744842</td>\n",
              "      <td>https://www.petfinder.com/cat/arianna-46744842...</td>\n",
              "      <td>Cat</td>\n",
              "      <td>Adult</td>\n",
              "      <td>Female</td>\n",
              "      <td>Medium</td>\n",
              "      <td>NaN</td>\n",
              "      <td>Abyssinian</td>\n",
              "      <td>[{'small': 'https://dl5zpyw5k3jeb.cloudfront.n...</td>\n",
              "      <td>['https://dl5zpyw5k3jeb.cloudfront.net/photos/...</td>\n",
              "    </tr>\n",
              "    <tr>\n",
              "      <th>1</th>\n",
              "      <td>1</td>\n",
              "      <td>46717321</td>\n",
              "      <td>https://www.petfinder.com/cat/ozzy-46717321/oh...</td>\n",
              "      <td>Cat</td>\n",
              "      <td>Adult</td>\n",
              "      <td>Male</td>\n",
              "      <td>Extra Large</td>\n",
              "      <td>NaN</td>\n",
              "      <td>Abyssinian</td>\n",
              "      <td>[{'small': 'https://dl5zpyw5k3jeb.cloudfront.n...</td>\n",
              "      <td>['https://dl5zpyw5k3jeb.cloudfront.net/photos/...</td>\n",
              "    </tr>\n",
              "    <tr>\n",
              "      <th>2</th>\n",
              "      <td>2</td>\n",
              "      <td>46626338</td>\n",
              "      <td>https://www.petfinder.com/cat/zena-46626338/ca...</td>\n",
              "      <td>Cat</td>\n",
              "      <td>Senior</td>\n",
              "      <td>Female</td>\n",
              "      <td>Medium</td>\n",
              "      <td>NaN</td>\n",
              "      <td>Abyssinian</td>\n",
              "      <td>[{'small': 'https://dl5zpyw5k3jeb.cloudfront.n...</td>\n",
              "      <td>['https://dl5zpyw5k3jeb.cloudfront.net/photos/...</td>\n",
              "    </tr>\n",
              "    <tr>\n",
              "      <th>3</th>\n",
              "      <td>3</td>\n",
              "      <td>46620170</td>\n",
              "      <td>https://www.petfinder.com/cat/mika-46620170/ca...</td>\n",
              "      <td>Cat</td>\n",
              "      <td>Baby</td>\n",
              "      <td>Female</td>\n",
              "      <td>Small</td>\n",
              "      <td>Short</td>\n",
              "      <td>Abyssinian</td>\n",
              "      <td>[{'small': 'https://dl5zpyw5k3jeb.cloudfront.n...</td>\n",
              "      <td>['https://dl5zpyw5k3jeb.cloudfront.net/photos/...</td>\n",
              "    </tr>\n",
              "    <tr>\n",
              "      <th>4</th>\n",
              "      <td>4</td>\n",
              "      <td>46582751</td>\n",
              "      <td>https://www.petfinder.com/cat/ruby-46582751/fl...</td>\n",
              "      <td>Cat</td>\n",
              "      <td>Young</td>\n",
              "      <td>Female</td>\n",
              "      <td>Medium</td>\n",
              "      <td>NaN</td>\n",
              "      <td>Abyssinian</td>\n",
              "      <td>[{'small': 'https://dl5zpyw5k3jeb.cloudfront.n...</td>\n",
              "      <td>['https://dl5zpyw5k3jeb.cloudfront.net/photos/...</td>\n",
              "    </tr>\n",
              "  </tbody>\n",
              "</table>\n",
              "</div>"
            ],
            "text/plain": [
              "   Unnamed: 0  ...                                         med_photos\n",
              "0           0  ...  ['https://dl5zpyw5k3jeb.cloudfront.net/photos/...\n",
              "1           1  ...  ['https://dl5zpyw5k3jeb.cloudfront.net/photos/...\n",
              "2           2  ...  ['https://dl5zpyw5k3jeb.cloudfront.net/photos/...\n",
              "3           3  ...  ['https://dl5zpyw5k3jeb.cloudfront.net/photos/...\n",
              "4           4  ...  ['https://dl5zpyw5k3jeb.cloudfront.net/photos/...\n",
              "\n",
              "[5 rows x 11 columns]"
            ]
          },
          "metadata": {
            "tags": []
          },
          "execution_count": 3
        }
      ]
    },
    {
      "cell_type": "markdown",
      "metadata": {
        "id": "u3fjeLtd89dq"
      },
      "source": [
        "**keeping only those rows which have required breeds in the breed column of cats dataset**"
      ]
    },
    {
      "cell_type": "code",
      "metadata": {
        "id": "JXuJsBFdDOki"
      },
      "source": [
        "required_breeds = [\"Bombay\", \"Calico\", \"Burmese\", \"Himalayan\",\n",
        "\"Munchkin\", \"Ragdoll\", \"Siberian\", \"British Shorthair\", \"Russian Blue\", \"Dilute Calico\"]"
      ],
      "execution_count": 3,
      "outputs": []
    },
    {
      "cell_type": "code",
      "metadata": {
        "id": "5j-MdLvz7wxh"
      },
      "source": [
        "cats = cats[cats[\"breed\"].isin(required_breeds)]"
      ],
      "execution_count": 4,
      "outputs": []
    },
    {
      "cell_type": "code",
      "metadata": {
        "colab": {
          "base_uri": "https://localhost:8080/",
          "height": 326
        },
        "id": "Oe23hL3J8Wru",
        "outputId": "6153645e-e74e-46b6-d6eb-00075c240172"
      },
      "source": [
        "cats.head()"
      ],
      "execution_count": 6,
      "outputs": [
        {
          "output_type": "execute_result",
          "data": {
            "text/html": [
              "<div>\n",
              "<style scoped>\n",
              "    .dataframe tbody tr th:only-of-type {\n",
              "        vertical-align: middle;\n",
              "    }\n",
              "\n",
              "    .dataframe tbody tr th {\n",
              "        vertical-align: top;\n",
              "    }\n",
              "\n",
              "    .dataframe thead th {\n",
              "        text-align: right;\n",
              "    }\n",
              "</style>\n",
              "<table border=\"1\" class=\"dataframe\">\n",
              "  <thead>\n",
              "    <tr style=\"text-align: right;\">\n",
              "      <th></th>\n",
              "      <th>Unnamed: 0</th>\n",
              "      <th>id</th>\n",
              "      <th>url</th>\n",
              "      <th>type</th>\n",
              "      <th>age</th>\n",
              "      <th>gender</th>\n",
              "      <th>size</th>\n",
              "      <th>coat</th>\n",
              "      <th>breed</th>\n",
              "      <th>photos</th>\n",
              "      <th>med_photos</th>\n",
              "    </tr>\n",
              "  </thead>\n",
              "  <tbody>\n",
              "    <tr>\n",
              "      <th>8045</th>\n",
              "      <td>8918</td>\n",
              "      <td>46749057</td>\n",
              "      <td>https://www.petfinder.com/cat/midnight-is-magi...</td>\n",
              "      <td>Cat</td>\n",
              "      <td>Baby</td>\n",
              "      <td>Male</td>\n",
              "      <td>Medium</td>\n",
              "      <td>Medium</td>\n",
              "      <td>Bombay</td>\n",
              "      <td>[{'small': 'https://dl5zpyw5k3jeb.cloudfront.n...</td>\n",
              "      <td>['https://dl5zpyw5k3jeb.cloudfront.net/photos/...</td>\n",
              "    </tr>\n",
              "    <tr>\n",
              "      <th>8046</th>\n",
              "      <td>8919</td>\n",
              "      <td>46748774</td>\n",
              "      <td>https://www.petfinder.com/cat/sweetness-sarah-...</td>\n",
              "      <td>Cat</td>\n",
              "      <td>Baby</td>\n",
              "      <td>Female</td>\n",
              "      <td>Medium</td>\n",
              "      <td>Short</td>\n",
              "      <td>Bombay</td>\n",
              "      <td>[{'small': 'https://dl5zpyw5k3jeb.cloudfront.n...</td>\n",
              "      <td>['https://dl5zpyw5k3jeb.cloudfront.net/photos/...</td>\n",
              "    </tr>\n",
              "    <tr>\n",
              "      <th>8047</th>\n",
              "      <td>8920</td>\n",
              "      <td>46748733</td>\n",
              "      <td>https://www.petfinder.com/cat/stella-is-a-star...</td>\n",
              "      <td>Cat</td>\n",
              "      <td>Baby</td>\n",
              "      <td>Female</td>\n",
              "      <td>Medium</td>\n",
              "      <td>Short</td>\n",
              "      <td>Bombay</td>\n",
              "      <td>[{'small': 'https://dl5zpyw5k3jeb.cloudfront.n...</td>\n",
              "      <td>['https://dl5zpyw5k3jeb.cloudfront.net/photos/...</td>\n",
              "    </tr>\n",
              "    <tr>\n",
              "      <th>8048</th>\n",
              "      <td>8921</td>\n",
              "      <td>46732469</td>\n",
              "      <td>https://www.petfinder.com/cat/maggie-46732469/...</td>\n",
              "      <td>Cat</td>\n",
              "      <td>Adult</td>\n",
              "      <td>Female</td>\n",
              "      <td>Large</td>\n",
              "      <td>Short</td>\n",
              "      <td>Bombay</td>\n",
              "      <td>[{'small': 'https://dl5zpyw5k3jeb.cloudfront.n...</td>\n",
              "      <td>['https://dl5zpyw5k3jeb.cloudfront.net/photos/...</td>\n",
              "    </tr>\n",
              "    <tr>\n",
              "      <th>8049</th>\n",
              "      <td>8922</td>\n",
              "      <td>46709293</td>\n",
              "      <td>https://www.petfinder.com/cat/elm-46709293/ny/...</td>\n",
              "      <td>Cat</td>\n",
              "      <td>Baby</td>\n",
              "      <td>Female</td>\n",
              "      <td>Small</td>\n",
              "      <td>Short</td>\n",
              "      <td>Bombay</td>\n",
              "      <td>[{'small': 'https://dl5zpyw5k3jeb.cloudfront.n...</td>\n",
              "      <td>['https://dl5zpyw5k3jeb.cloudfront.net/photos/...</td>\n",
              "    </tr>\n",
              "  </tbody>\n",
              "</table>\n",
              "</div>"
            ],
            "text/plain": [
              "      Unnamed: 0  ...                                         med_photos\n",
              "8045        8918  ...  ['https://dl5zpyw5k3jeb.cloudfront.net/photos/...\n",
              "8046        8919  ...  ['https://dl5zpyw5k3jeb.cloudfront.net/photos/...\n",
              "8047        8920  ...  ['https://dl5zpyw5k3jeb.cloudfront.net/photos/...\n",
              "8048        8921  ...  ['https://dl5zpyw5k3jeb.cloudfront.net/photos/...\n",
              "8049        8922  ...  ['https://dl5zpyw5k3jeb.cloudfront.net/photos/...\n",
              "\n",
              "[5 rows x 11 columns]"
            ]
          },
          "metadata": {
            "tags": []
          },
          "execution_count": 6
        }
      ]
    },
    {
      "cell_type": "markdown",
      "metadata": {
        "id": "EXpMXDNI-8oK"
      },
      "source": [
        "**checking the dataframe**"
      ]
    },
    {
      "cell_type": "code",
      "metadata": {
        "colab": {
          "base_uri": "https://localhost:8080/"
        },
        "id": "LCh784Rq-7z7",
        "outputId": "ea133f30-d710-4e7c-ab6e-e9e0b0b9871f"
      },
      "source": [
        "cats.info()"
      ],
      "execution_count": 7,
      "outputs": [
        {
          "output_type": "stream",
          "text": [
            "<class 'pandas.core.frame.DataFrame'>\n",
            "Int64Index: 15271 entries, 8045 to 53404\n",
            "Data columns (total 11 columns):\n",
            " #   Column      Non-Null Count  Dtype \n",
            "---  ------      --------------  ----- \n",
            " 0   Unnamed: 0  15271 non-null  int64 \n",
            " 1   id          15271 non-null  int64 \n",
            " 2   url         15271 non-null  object\n",
            " 3   type        15271 non-null  object\n",
            " 4   age         15271 non-null  object\n",
            " 5   gender      15271 non-null  object\n",
            " 6   size        15271 non-null  object\n",
            " 7   coat        10351 non-null  object\n",
            " 8   breed       15271 non-null  object\n",
            " 9   photos      15271 non-null  object\n",
            " 10  med_photos  15271 non-null  object\n",
            "dtypes: int64(2), object(9)\n",
            "memory usage: 1.4+ MB\n"
          ],
          "name": "stdout"
        }
      ]
    },
    {
      "cell_type": "markdown",
      "metadata": {
        "id": "rxhUVkuq9n8k"
      },
      "source": [
        "**Keeping only the breed and id column.**"
      ]
    },
    {
      "cell_type": "code",
      "metadata": {
        "id": "acmmJKCa9HC3"
      },
      "source": [
        "cats = cats[[\"id\",\"breed\"]]"
      ],
      "execution_count": 5,
      "outputs": []
    },
    {
      "cell_type": "code",
      "metadata": {
        "colab": {
          "base_uri": "https://localhost:8080/"
        },
        "id": "-1vTVSFSdJx8",
        "outputId": "8fbabcc6-e7f0-4698-9970-6b213db15b9e"
      },
      "source": [
        "cats[\"breed\"].unique()"
      ],
      "execution_count": 9,
      "outputs": [
        {
          "output_type": "execute_result",
          "data": {
            "text/plain": [
              "array(['Bombay', 'British Shorthair', 'Burmese', 'Calico',\n",
              "       'Dilute Calico', 'Himalayan', 'Munchkin', 'Ragdoll',\n",
              "       'Russian Blue', 'Siberian'], dtype=object)"
            ]
          },
          "metadata": {
            "tags": []
          },
          "execution_count": 9
        }
      ]
    },
    {
      "cell_type": "code",
      "metadata": {
        "colab": {
          "base_uri": "https://localhost:8080/",
          "height": 204
        },
        "id": "QZrS7xt99y6g",
        "outputId": "763366b2-ced4-4843-de48-3b2230853466"
      },
      "source": [
        "cats.head()"
      ],
      "execution_count": 10,
      "outputs": [
        {
          "output_type": "execute_result",
          "data": {
            "text/html": [
              "<div>\n",
              "<style scoped>\n",
              "    .dataframe tbody tr th:only-of-type {\n",
              "        vertical-align: middle;\n",
              "    }\n",
              "\n",
              "    .dataframe tbody tr th {\n",
              "        vertical-align: top;\n",
              "    }\n",
              "\n",
              "    .dataframe thead th {\n",
              "        text-align: right;\n",
              "    }\n",
              "</style>\n",
              "<table border=\"1\" class=\"dataframe\">\n",
              "  <thead>\n",
              "    <tr style=\"text-align: right;\">\n",
              "      <th></th>\n",
              "      <th>id</th>\n",
              "      <th>breed</th>\n",
              "    </tr>\n",
              "  </thead>\n",
              "  <tbody>\n",
              "    <tr>\n",
              "      <th>8045</th>\n",
              "      <td>46749057</td>\n",
              "      <td>Bombay</td>\n",
              "    </tr>\n",
              "    <tr>\n",
              "      <th>8046</th>\n",
              "      <td>46748774</td>\n",
              "      <td>Bombay</td>\n",
              "    </tr>\n",
              "    <tr>\n",
              "      <th>8047</th>\n",
              "      <td>46748733</td>\n",
              "      <td>Bombay</td>\n",
              "    </tr>\n",
              "    <tr>\n",
              "      <th>8048</th>\n",
              "      <td>46732469</td>\n",
              "      <td>Bombay</td>\n",
              "    </tr>\n",
              "    <tr>\n",
              "      <th>8049</th>\n",
              "      <td>46709293</td>\n",
              "      <td>Bombay</td>\n",
              "    </tr>\n",
              "  </tbody>\n",
              "</table>\n",
              "</div>"
            ],
            "text/plain": [
              "            id   breed\n",
              "8045  46749057  Bombay\n",
              "8046  46748774  Bombay\n",
              "8047  46748733  Bombay\n",
              "8048  46732469  Bombay\n",
              "8049  46709293  Bombay"
            ]
          },
          "metadata": {
            "tags": []
          },
          "execution_count": 10
        }
      ]
    },
    {
      "cell_type": "code",
      "metadata": {
        "id": "uvz_625ooPNS"
      },
      "source": [
        "cats = cats.reset_index(drop=True)"
      ],
      "execution_count": 6,
      "outputs": []
    },
    {
      "cell_type": "code",
      "metadata": {
        "colab": {
          "base_uri": "https://localhost:8080/",
          "height": 204
        },
        "id": "6aJnE0vPowoh",
        "outputId": "8c5d61d2-2b56-4e80-fc64-e2a0016e738e"
      },
      "source": [
        "cats.head()"
      ],
      "execution_count": 12,
      "outputs": [
        {
          "output_type": "execute_result",
          "data": {
            "text/html": [
              "<div>\n",
              "<style scoped>\n",
              "    .dataframe tbody tr th:only-of-type {\n",
              "        vertical-align: middle;\n",
              "    }\n",
              "\n",
              "    .dataframe tbody tr th {\n",
              "        vertical-align: top;\n",
              "    }\n",
              "\n",
              "    .dataframe thead th {\n",
              "        text-align: right;\n",
              "    }\n",
              "</style>\n",
              "<table border=\"1\" class=\"dataframe\">\n",
              "  <thead>\n",
              "    <tr style=\"text-align: right;\">\n",
              "      <th></th>\n",
              "      <th>id</th>\n",
              "      <th>breed</th>\n",
              "    </tr>\n",
              "  </thead>\n",
              "  <tbody>\n",
              "    <tr>\n",
              "      <th>0</th>\n",
              "      <td>46749057</td>\n",
              "      <td>Bombay</td>\n",
              "    </tr>\n",
              "    <tr>\n",
              "      <th>1</th>\n",
              "      <td>46748774</td>\n",
              "      <td>Bombay</td>\n",
              "    </tr>\n",
              "    <tr>\n",
              "      <th>2</th>\n",
              "      <td>46748733</td>\n",
              "      <td>Bombay</td>\n",
              "    </tr>\n",
              "    <tr>\n",
              "      <th>3</th>\n",
              "      <td>46732469</td>\n",
              "      <td>Bombay</td>\n",
              "    </tr>\n",
              "    <tr>\n",
              "      <th>4</th>\n",
              "      <td>46709293</td>\n",
              "      <td>Bombay</td>\n",
              "    </tr>\n",
              "  </tbody>\n",
              "</table>\n",
              "</div>"
            ],
            "text/plain": [
              "         id   breed\n",
              "0  46749057  Bombay\n",
              "1  46748774  Bombay\n",
              "2  46748733  Bombay\n",
              "3  46732469  Bombay\n",
              "4  46709293  Bombay"
            ]
          },
          "metadata": {
            "tags": []
          },
          "execution_count": 12
        }
      ]
    },
    {
      "cell_type": "markdown",
      "metadata": {
        "id": "pO-KWupIaeZV"
      },
      "source": [
        "**Getting images from the directory**"
      ]
    },
    {
      "cell_type": "markdown",
      "metadata": {
        "id": "jWurAM__eMUu"
      },
      "source": [
        "images are named diff than the ids but begin with the id,\n",
        "\n",
        "\n",
        "we are making list of all images in library and than we can import than by checking the strings"
      ]
    },
    {
      "cell_type": "code",
      "metadata": {
        "id": "i7uPX4HTasaa"
      },
      "source": [
        "dir_list = {}"
      ],
      "execution_count": 7,
      "outputs": []
    },
    {
      "cell_type": "markdown",
      "metadata": {
        "id": "Jy6oLuvW1Z3m"
      },
      "source": [
        "We are importing file names only from only those breeds that we require"
      ]
    },
    {
      "cell_type": "code",
      "metadata": {
        "id": "rekmglVc2qWB"
      },
      "source": [
        "for i in required_breeds:\n",
        "    temp = os.listdir(f\"/content/drive/MyDrive/Colab Notebooks/Data/images/{i}\")\n",
        "    dir_list[f\"{i}\"] = temp "
      ],
      "execution_count": 8,
      "outputs": []
    },
    {
      "cell_type": "markdown",
      "metadata": {
        "id": "gg2qSsho2OAu"
      },
      "source": [
        "saving the fileadresses\n",
        "\n",
        "as the filenames are not same to id we compile a re pattern which starts with the id and search for the respective filenames\n",
        "\n",
        "Also some entries present dont have any corresponding image we are dropping the whole row linked to those"
      ]
    },
    {
      "cell_type": "code",
      "metadata": {
        "id": "VxGBI_uidr_v",
        "colab": {
          "base_uri": "https://localhost:8080/"
        },
        "outputId": "33ae820c-101e-4f64-b649-a1b330fe0ca6"
      },
      "source": [
        "fileadresses = []\n",
        "for ind in cats.index:\n",
        "    id = cats[\"id\"][ind]\n",
        "    r = re.compile(f\"^{id}\")\n",
        "    breed = cats[\"breed\"][ind]\n",
        "    temp = list(filter(r.match, dir_list[breed]))\n",
        "    if len(temp) == 0:\n",
        "        print(id)\n",
        "        cats.drop(index = ind, inplace = True)\n",
        "        continue\n",
        "    temp = temp[0]\n",
        "    fileadresses.append(f\"/content/drive/MyDrive/Colab Notebooks/Data/images/{breed}/{temp}\")"
      ],
      "execution_count": 9,
      "outputs": [
        {
          "output_type": "stream",
          "text": [
            "46532774\n",
            "46523635\n",
            "46616855\n",
            "46430050\n",
            "46351687\n",
            "46630175\n",
            "46612646\n"
          ],
          "name": "stdout"
        }
      ]
    },
    {
      "cell_type": "markdown",
      "metadata": {
        "id": "Ufo_CxCUE5HJ"
      },
      "source": [
        "checking to make sure the column entries are corresponding"
      ]
    },
    {
      "cell_type": "code",
      "metadata": {
        "colab": {
          "base_uri": "https://localhost:8080/"
        },
        "id": "Dfo_Uc-33aP6",
        "outputId": "fb229605-007e-4100-a3f5-5662b792b296"
      },
      "source": [
        "print(fileadresses[8])\n",
        "print(cats[\"id\"][8])"
      ],
      "execution_count": 16,
      "outputs": [
        {
          "output_type": "stream",
          "text": [
            "/content/drive/MyDrive/Colab Notebooks/Data/images/Bombay/46672330_87.jpg\n",
            "46672330\n"
          ],
          "name": "stdout"
        }
      ]
    },
    {
      "cell_type": "markdown",
      "metadata": {
        "id": "Z92narbUFC2J"
      },
      "source": [
        "reseting cats index again "
      ]
    },
    {
      "cell_type": "code",
      "metadata": {
        "id": "S2L94fu9EtEX"
      },
      "source": [
        "cats = cats.reset_index(drop=True)"
      ],
      "execution_count": 10,
      "outputs": []
    },
    {
      "cell_type": "code",
      "metadata": {
        "colab": {
          "base_uri": "https://localhost:8080/"
        },
        "id": "mH-e9IxsFFvT",
        "outputId": "2a8eeb4f-338e-4472-afa5-4b1756f01ea1"
      },
      "source": [
        "cats.info()"
      ],
      "execution_count": 18,
      "outputs": [
        {
          "output_type": "stream",
          "text": [
            "<class 'pandas.core.frame.DataFrame'>\n",
            "RangeIndex: 15264 entries, 0 to 15263\n",
            "Data columns (total 2 columns):\n",
            " #   Column  Non-Null Count  Dtype \n",
            "---  ------  --------------  ----- \n",
            " 0   id      15264 non-null  int64 \n",
            " 1   breed   15264 non-null  object\n",
            "dtypes: int64(1), object(1)\n",
            "memory usage: 238.6+ KB\n"
          ],
          "name": "stdout"
        }
      ]
    },
    {
      "cell_type": "code",
      "metadata": {
        "colab": {
          "base_uri": "https://localhost:8080/",
          "height": 303
        },
        "id": "WVxqVWu1FIoM",
        "outputId": "c292348f-1972-416e-abe1-e229ebf6520a"
      },
      "source": [
        "img = imageio.imread(fileadresses[7000])\n",
        "plt.imshow(img)\n",
        "print(cats[\"breed\"][7000],cats[\"id\"][7000])\n",
        "print(fileadresses[7000])"
      ],
      "execution_count": 19,
      "outputs": [
        {
          "output_type": "stream",
          "text": [
            "Dilute Calico 40676093\n",
            "/content/drive/MyDrive/Colab Notebooks/Data/images/Dilute Calico/40676093_2811.jpg\n"
          ],
          "name": "stdout"
        },
        {
          "output_type": "display_data",
          "data": {
            "image/png": "[encoded data removed]",
            "text/plain": [
              "<Figure size 432x288 with 1 Axes>"
            ]
          },
          "metadata": {
            "tags": [],
            "needs_background": "light"
          }
        }
      ]
    },
    {
      "cell_type": "code",
      "metadata": {
        "id": "8t6mfQcjSm51"
      },
      "source": [
        "cats[\"adresses\"] = fileadresses"
      ],
      "execution_count": 11,
      "outputs": []
    },
    {
      "cell_type": "code",
      "metadata": {
        "id": "1qykvppSCFCC"
      },
      "source": [
        "train, val, test = np.split(cats.sample(frac=1, random_state=42),[int(.6*len(cats)), int(.8*len(cats))])"
      ],
      "execution_count": 12,
      "outputs": []
    },
    {
      "cell_type": "code",
      "metadata": {
        "colab": {
          "base_uri": "https://localhost:8080/"
        },
        "id": "4FoqC4qWRMGN",
        "outputId": "ad96e0a3-a1db-4ed8-8a74-555e5f4d988b"
      },
      "source": [
        "len(train),len(test),len(val)"
      ],
      "execution_count": 22,
      "outputs": [
        {
          "output_type": "execute_result",
          "data": {
            "text/plain": [
              "(9158, 3053, 3053)"
            ]
          },
          "metadata": {
            "tags": []
          },
          "execution_count": 22
        }
      ]
    },
    {
      "cell_type": "markdown",
      "metadata": {
        "id": "PnAamM0dCARE"
      },
      "source": [
        "**Forming train val test Datasets**\n",
        "\n",
        "\n",
        "firstly we have to compute the one hot vectors for the breeds"
      ]
    },
    {
      "cell_type": "code",
      "metadata": {
        "id": "vNUnMwUwWsND"
      },
      "source": [
        "required_breeds = np.unique(cats[\"breed\"])"
      ],
      "execution_count": 13,
      "outputs": []
    },
    {
      "cell_type": "code",
      "metadata": {
        "id": "QZ0C3p54WbyV"
      },
      "source": [
        "def one_hot(df,required_breeds):\n",
        "    boolean_breeds = [(breed == np.array(required_breeds)).astype(int) for breed in df]\n",
        "    breeds = tf.constant(boolean_breeds)\n",
        "    return breeds"
      ],
      "execution_count": 27,
      "outputs": []
    },
    {
      "cell_type": "markdown",
      "metadata": {
        "id": "dBgjNf3I-WLZ"
      },
      "source": [
        "Saving the images into tensors and preprocessing them \n",
        "\n",
        "Converting them into shape (224, 224) with three channels"
      ]
    },
    {
      "cell_type": "code",
      "metadata": {
        "id": "K6hPcz5lXSi_"
      },
      "source": [
        "def form_dataset(adresses, breeds):\n",
        "    image_filenames = tf.constant(adresses)\n",
        "    dataset = tf.data.Dataset.from_tensor_slices((image_filenames, (breeds, breeds, breeds)))\n",
        "    return dataset"
      ],
      "execution_count": 25,
      "outputs": []
    },
    {
      "cell_type": "code",
      "metadata": {
        "id": "7ZUSbxgn8veQ"
      },
      "source": [
        "def process_path(fileadresses, breeds):\n",
        "    img = tf.io.read_file(fileadresses)\n",
        "    img = tf.image.decode_jpeg(img, channels=3)\n",
        "    img = tf.image.convert_image_dtype(img, tf.float32)\n",
        "    return img, breeds\n",
        "\n",
        "def preprocess(image, breeds):\n",
        "    input_image = tf.image.resize(image, (224, 224), method='nearest')\n",
        "\n",
        "    input_image = input_image / 255.\n",
        "    return input_image, breeds\n"
      ],
      "execution_count": 26,
      "outputs": []
    },
    {
      "cell_type": "markdown",
      "metadata": {
        "id": "HAohou4iY1r8"
      },
      "source": [
        "train data sets"
      ]
    },
    {
      "cell_type": "code",
      "metadata": {
        "id": "SkJ5ZKrCXuNb"
      },
      "source": [
        "train_breeds = one_hot(train[\"breed\"], required_breeds)\n",
        "train_dataset = form_dataset(train[\"adresses\"], train_breeds)\n",
        "train_image_ds = train_dataset.map(process_path)\n",
        "processed_train_image_ds = train_image_ds.map(preprocess)"
      ],
      "execution_count": 27,
      "outputs": []
    },
    {
      "cell_type": "markdown",
      "metadata": {
        "id": "UWj5PPIwaF7g"
      },
      "source": [
        "Val data sets"
      ]
    },
    {
      "cell_type": "code",
      "metadata": {
        "id": "BXplgCMcOv6l"
      },
      "source": [
        "val_breeds = one_hot(val[\"breed\"], required_breeds)\n",
        "val_dataset = form_dataset(val[\"adresses\"], val_breeds)\n",
        "val_image_ds = val_dataset.map(process_path)\n",
        "processed_val_image_ds = val_image_ds.map(preprocess)"
      ],
      "execution_count": 28,
      "outputs": []
    },
    {
      "cell_type": "markdown",
      "metadata": {
        "id": "boI0aZnrai6G"
      },
      "source": [
        "test data sets"
      ]
    },
    {
      "cell_type": "code",
      "metadata": {
        "id": "f_WLt0o5XQsv"
      },
      "source": [
        "def form_dataset_test(adresses):\n",
        "    image_filenames = tf.constant(adresses)\n",
        "    dataset = tf.data.Dataset.from_tensor_slices(image_filenames)\n",
        "    return dataset\n",
        "\n",
        "def process_path_test(fileadresses):\n",
        "    img = tf.io.read_file(fileadresses)\n",
        "    img = tf.image.decode_jpeg(img, channels=3)\n",
        "    img = tf.image.convert_image_dtype(img, tf.float32)\n",
        "    return img\n",
        "\n",
        "def preprocess_test(image):\n",
        "    input_image = tf.image.resize(image, (224, 224), method='nearest')\n",
        "\n",
        "    input_image = input_image / 255.\n",
        "    return input_image"
      ],
      "execution_count": 14,
      "outputs": []
    },
    {
      "cell_type": "code",
      "metadata": {
        "id": "hgnEk6vaakmi"
      },
      "source": [
        "test_breeds = one_hot(test[\"breed\"], required_breeds)\n",
        "test_dataset = form_dataset_test(test[\"adresses\"])\n",
        "test_image_ds = test_dataset.map(process_path_test)\n",
        "processed_test_image_ds = test_image_ds.map(preprocess_test)"
      ],
      "execution_count": 28,
      "outputs": []
    },
    {
      "cell_type": "markdown",
      "metadata": {
        "id": "i7IoJUqlblAk"
      },
      "source": [
        "#3.Model\n",
        "\n",
        "forming the required inception model fro the classification purposes\n",
        "\n",
        "we used the googleNet netwrok from research paper **Going deeper with convolutions**. (https://arxiv.org/pdf/1409.4842.pdf)"
      ]
    },
    {
      "cell_type": "code",
      "metadata": {
        "id": "zeYVdE_7bkLf"
      },
      "source": [
        "def inception_block(input, no_1x1, no_3x3,\n",
        "                    no_3x3_reduce,no_5x5,no_5x5_reduce,pool, average_pool = False, Max_pool = False):\n",
        "    x = input\n",
        "    #optional maxpooling layer\n",
        "    if Max_pool == True:\n",
        "        x = MaxPooling2D(pool_size=(3, 3), strides=2,padding='same')(x)\n",
        "\n",
        "    # first branch\n",
        "    x1 = Conv2D(no_1x1, 1, activation = 'relu',padding='same')(x)\n",
        "\n",
        "    # second branch\n",
        "    x2 = Conv2D(no_3x3_reduce, 1, activation = 'relu',padding='same')(x)\n",
        "    x2 = Conv2D(no_3x3, 3, activation = 'relu',padding='same')(x2)\n",
        "\n",
        "    # third branch\n",
        "    x3 = Conv2D(no_5x5_reduce, 1, activation = 'relu',padding='same')(x)\n",
        "    x3 = Conv2D(no_5x5, 5, activation = 'relu',padding='same')(x3)\n",
        "\n",
        "    # fourth branch\n",
        "    x4 = MaxPooling2D(pool_size=(3, 3), strides=1, padding='same')(x)\n",
        "    x4 = Conv2D(pool, 1, activation = 'relu',padding='same')(x4)\n",
        "\n",
        "    x_joined = Concatenate(axis = -1)([x1,x2,x3,x4])\n",
        "    #optional branch for auxilary output\n",
        "    if average_pool == True:\n",
        "        x5 = AveragePooling2D(pool_size=(5, 5), strides=3, padding='valid')(x)\n",
        "        x5 = Conv2D(128, 1, activation = 'relu', strides=1, padding='same')(x5)\n",
        "        x5 = Flatten()(x5)\n",
        "        x5 = Dense(1024,  activation = 'relu')(x5)\n",
        "        x5 = Dropout(0.7)(x5)\n",
        "        x5 = Dense(10, activation = 'softmax')(x5)\n",
        "        output = Activation('softmax')(x5)\n",
        "        return x_joined, output\n",
        "\n",
        "    return x_joined"
      ],
      "execution_count": 19,
      "outputs": []
    },
    {
      "cell_type": "code",
      "metadata": {
        "id": "X1g96TJzbj9q"
      },
      "source": [
        "\n",
        "def cat_classifier(input_size=(224, 224, 3)):\n",
        "    inputs = Input(input_size)\n",
        "\n",
        "    # pre inception blocks\n",
        "    x = Conv2D(64, 7, strides = 2, activation = 'relu', padding='same')(inputs)\n",
        "    x = MaxPooling2D(pool_size=(3, 3), strides=2, padding='same')(x)\n",
        "    x = local_response_normalization(x)\n",
        "    x = Conv2D(64, 1, activation = 'relu')(x)\n",
        "    x = Conv2D(192, 3, activation = 'relu', padding='same')(x)\n",
        "    x = local_response_normalization(x)\n",
        "\n",
        "    #block1\n",
        "    x = inception_block(x, no_1x1 = 64, no_3x3 = 128,\n",
        "                    no_3x3_reduce = 96, no_5x5 = 32, no_5x5_reduce = 16, pool = 32,Max_pool = True, )\n",
        "\n",
        "    #block2\n",
        "    x = inception_block(x, no_1x1 = 128, no_3x3 = 192,\n",
        "                    no_3x3_reduce = 128, no_5x5 = 96, no_5x5_reduce = 32, pool = 64)\n",
        "    \n",
        "    #block3\n",
        "    x = inception_block(x, no_1x1 = 192, no_3x3 = 208,\n",
        "                    no_3x3_reduce = 96, no_5x5 = 48, no_5x5_reduce = 16, pool = 64, Max_pool = True)     \n",
        "    \n",
        "    #block4\n",
        "    x, aux_out1 = inception_block(x, no_1x1 = 160, no_3x3 = 224,\n",
        "                    no_3x3_reduce = 112, no_5x5 = 64, no_5x5_reduce = 24, pool = 64, average_pool = True)      \n",
        "    \n",
        "    #block5\n",
        "    x = inception_block(x, no_1x1 = 128, no_3x3 = 256,\n",
        "                    no_3x3_reduce = 128, no_5x5 = 64, no_5x5_reduce = 24, pool = 64)\n",
        "    \n",
        "    #block6\n",
        "    x = inception_block(x, no_1x1 = 112, no_3x3 = 288,\n",
        "                    no_3x3_reduce = 144, no_5x5 = 64, no_5x5_reduce = 32, pool = 64)\n",
        "    \n",
        "    #block7\n",
        "    x, aux_out2 = inception_block(x, no_1x1 = 256, no_3x3 = 320,\n",
        "                    no_3x3_reduce = 160, no_5x5 = 128, no_5x5_reduce = 32, pool = 128, average_pool = True)     \n",
        "    \n",
        "    #block8\n",
        "    x = inception_block(x, no_1x1 = 256, no_3x3 = 320,\n",
        "                    no_3x3_reduce = 160, no_5x5 = 128, no_5x5_reduce = 32, pool = 128, Max_pool = True)    \n",
        "\n",
        "    #block9      \n",
        "    x = inception_block(x, no_1x1 = 384, no_3x3 = 384,\n",
        "                    no_3x3_reduce = 192, no_5x5 = 128, no_5x5_reduce = 48, pool = 128)\n",
        "\n",
        "    x = AveragePooling2D(pool_size=(7, 7), strides= 1)(x)\n",
        "    x = Flatten()(x)\n",
        "    x = Dropout(0.4)(x)\n",
        "    x = Dense(10)(x)\n",
        "    output = Activation('softmax')(x)\n",
        "\n",
        "    model = tf.keras.Model(inputs=inputs, outputs=[aux_out1, aux_out2, output])\n",
        "\n",
        "    return model"
      ],
      "execution_count": 18,
      "outputs": []
    },
    {
      "cell_type": "code",
      "metadata": {
        "colab": {
          "base_uri": "https://localhost:8080/"
        },
        "id": "9m9U_lF2OgjB",
        "outputId": "27460e67-b933-41fc-8c21-71016ebe7966"
      },
      "source": [
        "model = cat_classifier()\n",
        "model.summary()"
      ],
      "execution_count": 32,
      "outputs": [
        {
          "output_type": "stream",
          "text": [
            "Model: \"model\"\n",
            "__________________________________________________________________________________________________\n",
            "Layer (type)                    Output Shape         Param #     Connected to                     \n",
            "==================================================================================================\n",
            "input_1 (InputLayer)            [(None, 224, 224, 3) 0                                            \n",
            "__________________________________________________________________________________________________\n",
            "conv2d (Conv2D)                 (None, 112, 112, 64) 9472        input_1[0][0]                    \n",
            "__________________________________________________________________________________________________\n",
            "max_pooling2d (MaxPooling2D)    (None, 56, 56, 64)   0           conv2d[0][0]                     \n",
            "__________________________________________________________________________________________________\n",
            "tf.nn.local_response_normalizat (None, 56, 56, 64)   0           max_pooling2d[0][0]              \n",
            "__________________________________________________________________________________________________\n",
            "conv2d_1 (Conv2D)               (None, 56, 56, 64)   4160        tf.nn.local_response_normalizatio\n",
            "__________________________________________________________________________________________________\n",
            "conv2d_2 (Conv2D)               (None, 56, 56, 192)  110784      conv2d_1[0][0]                   \n",
            "__________________________________________________________________________________________________\n",
            "tf.nn.local_response_normalizat (None, 56, 56, 192)  0           conv2d_2[0][0]                   \n",
            "__________________________________________________________________________________________________\n",
            "max_pooling2d_1 (MaxPooling2D)  (None, 28, 28, 192)  0           tf.nn.local_response_normalizatio\n",
            "__________________________________________________________________________________________________\n",
            "conv2d_4 (Conv2D)               (None, 28, 28, 96)   18528       max_pooling2d_1[0][0]            \n",
            "__________________________________________________________________________________________________\n",
            "conv2d_6 (Conv2D)               (None, 28, 28, 16)   3088        max_pooling2d_1[0][0]            \n",
            "__________________________________________________________________________________________________\n",
            "max_pooling2d_2 (MaxPooling2D)  (None, 28, 28, 192)  0           max_pooling2d_1[0][0]            \n",
            "__________________________________________________________________________________________________\n",
            "conv2d_3 (Conv2D)               (None, 28, 28, 64)   12352       max_pooling2d_1[0][0]            \n",
            "__________________________________________________________________________________________________\n",
            "conv2d_5 (Conv2D)               (None, 28, 28, 128)  110720      conv2d_4[0][0]                   \n",
            "__________________________________________________________________________________________________\n",
            "conv2d_7 (Conv2D)               (None, 28, 28, 32)   12832       conv2d_6[0][0]                   \n",
            "__________________________________________________________________________________________________\n",
            "conv2d_8 (Conv2D)               (None, 28, 28, 32)   6176        max_pooling2d_2[0][0]            \n",
            "__________________________________________________________________________________________________\n",
            "concatenate (Concatenate)       (None, 28, 28, 256)  0           conv2d_3[0][0]                   \n",
            "                                                                 conv2d_5[0][0]                   \n",
            "                                                                 conv2d_7[0][0]                   \n",
            "                                                                 conv2d_8[0][0]                   \n",
            "__________________________________________________________________________________________________\n",
            "conv2d_10 (Conv2D)              (None, 28, 28, 128)  32896       concatenate[0][0]                \n",
            "__________________________________________________________________________________________________\n",
            "conv2d_12 (Conv2D)              (None, 28, 28, 32)   8224        concatenate[0][0]                \n",
            "__________________________________________________________________________________________________\n",
            "max_pooling2d_3 (MaxPooling2D)  (None, 28, 28, 256)  0           concatenate[0][0]                \n",
            "__________________________________________________________________________________________________\n",
            "conv2d_9 (Conv2D)               (None, 28, 28, 128)  32896       concatenate[0][0]                \n",
            "__________________________________________________________________________________________________\n",
            "conv2d_11 (Conv2D)              (None, 28, 28, 192)  221376      conv2d_10[0][0]                  \n",
            "__________________________________________________________________________________________________\n",
            "conv2d_13 (Conv2D)              (None, 28, 28, 96)   76896       conv2d_12[0][0]                  \n",
            "__________________________________________________________________________________________________\n",
            "conv2d_14 (Conv2D)              (None, 28, 28, 64)   16448       max_pooling2d_3[0][0]            \n",
            "__________________________________________________________________________________________________\n",
            "concatenate_1 (Concatenate)     (None, 28, 28, 480)  0           conv2d_9[0][0]                   \n",
            "                                                                 conv2d_11[0][0]                  \n",
            "                                                                 conv2d_13[0][0]                  \n",
            "                                                                 conv2d_14[0][0]                  \n",
            "__________________________________________________________________________________________________\n",
            "max_pooling2d_4 (MaxPooling2D)  (None, 14, 14, 480)  0           concatenate_1[0][0]              \n",
            "__________________________________________________________________________________________________\n",
            "conv2d_16 (Conv2D)              (None, 14, 14, 96)   46176       max_pooling2d_4[0][0]            \n",
            "__________________________________________________________________________________________________\n",
            "conv2d_18 (Conv2D)              (None, 14, 14, 16)   7696        max_pooling2d_4[0][0]            \n",
            "__________________________________________________________________________________________________\n",
            "max_pooling2d_5 (MaxPooling2D)  (None, 14, 14, 480)  0           max_pooling2d_4[0][0]            \n",
            "__________________________________________________________________________________________________\n",
            "conv2d_15 (Conv2D)              (None, 14, 14, 192)  92352       max_pooling2d_4[0][0]            \n",
            "__________________________________________________________________________________________________\n",
            "conv2d_17 (Conv2D)              (None, 14, 14, 208)  179920      conv2d_16[0][0]                  \n",
            "__________________________________________________________________________________________________\n",
            "conv2d_19 (Conv2D)              (None, 14, 14, 48)   19248       conv2d_18[0][0]                  \n",
            "__________________________________________________________________________________________________\n",
            "conv2d_20 (Conv2D)              (None, 14, 14, 64)   30784       max_pooling2d_5[0][0]            \n",
            "__________________________________________________________________________________________________\n",
            "concatenate_2 (Concatenate)     (None, 14, 14, 512)  0           conv2d_15[0][0]                  \n",
            "                                                                 conv2d_17[0][0]                  \n",
            "                                                                 conv2d_19[0][0]                  \n",
            "                                                                 conv2d_20[0][0]                  \n",
            "__________________________________________________________________________________________________\n",
            "conv2d_22 (Conv2D)              (None, 14, 14, 112)  57456       concatenate_2[0][0]              \n",
            "__________________________________________________________________________________________________\n",
            "conv2d_24 (Conv2D)              (None, 14, 14, 24)   12312       concatenate_2[0][0]              \n",
            "__________________________________________________________________________________________________\n",
            "max_pooling2d_6 (MaxPooling2D)  (None, 14, 14, 512)  0           concatenate_2[0][0]              \n",
            "__________________________________________________________________________________________________\n",
            "conv2d_21 (Conv2D)              (None, 14, 14, 160)  82080       concatenate_2[0][0]              \n",
            "__________________________________________________________________________________________________\n",
            "conv2d_23 (Conv2D)              (None, 14, 14, 224)  226016      conv2d_22[0][0]                  \n",
            "__________________________________________________________________________________________________\n",
            "conv2d_25 (Conv2D)              (None, 14, 14, 64)   38464       conv2d_24[0][0]                  \n",
            "__________________________________________________________________________________________________\n",
            "conv2d_26 (Conv2D)              (None, 14, 14, 64)   32832       max_pooling2d_6[0][0]            \n",
            "__________________________________________________________________________________________________\n",
            "concatenate_3 (Concatenate)     (None, 14, 14, 512)  0           conv2d_21[0][0]                  \n",
            "                                                                 conv2d_23[0][0]                  \n",
            "                                                                 conv2d_25[0][0]                  \n",
            "                                                                 conv2d_26[0][0]                  \n",
            "__________________________________________________________________________________________________\n",
            "conv2d_29 (Conv2D)              (None, 14, 14, 128)  65664       concatenate_3[0][0]              \n",
            "__________________________________________________________________________________________________\n",
            "conv2d_31 (Conv2D)              (None, 14, 14, 24)   12312       concatenate_3[0][0]              \n",
            "__________________________________________________________________________________________________\n",
            "max_pooling2d_7 (MaxPooling2D)  (None, 14, 14, 512)  0           concatenate_3[0][0]              \n",
            "__________________________________________________________________________________________________\n",
            "conv2d_28 (Conv2D)              (None, 14, 14, 128)  65664       concatenate_3[0][0]              \n",
            "__________________________________________________________________________________________________\n",
            "conv2d_30 (Conv2D)              (None, 14, 14, 256)  295168      conv2d_29[0][0]                  \n",
            "__________________________________________________________________________________________________\n",
            "conv2d_32 (Conv2D)              (None, 14, 14, 64)   38464       conv2d_31[0][0]                  \n",
            "__________________________________________________________________________________________________\n",
            "conv2d_33 (Conv2D)              (None, 14, 14, 64)   32832       max_pooling2d_7[0][0]            \n",
            "__________________________________________________________________________________________________\n",
            "concatenate_4 (Concatenate)     (None, 14, 14, 512)  0           conv2d_28[0][0]                  \n",
            "                                                                 conv2d_30[0][0]                  \n",
            "                                                                 conv2d_32[0][0]                  \n",
            "                                                                 conv2d_33[0][0]                  \n",
            "__________________________________________________________________________________________________\n",
            "conv2d_35 (Conv2D)              (None, 14, 14, 144)  73872       concatenate_4[0][0]              \n",
            "__________________________________________________________________________________________________\n",
            "conv2d_37 (Conv2D)              (None, 14, 14, 32)   16416       concatenate_4[0][0]              \n",
            "__________________________________________________________________________________________________\n",
            "max_pooling2d_8 (MaxPooling2D)  (None, 14, 14, 512)  0           concatenate_4[0][0]              \n",
            "__________________________________________________________________________________________________\n",
            "conv2d_34 (Conv2D)              (None, 14, 14, 112)  57456       concatenate_4[0][0]              \n",
            "__________________________________________________________________________________________________\n",
            "conv2d_36 (Conv2D)              (None, 14, 14, 288)  373536      conv2d_35[0][0]                  \n",
            "__________________________________________________________________________________________________\n",
            "conv2d_38 (Conv2D)              (None, 14, 14, 64)   51264       conv2d_37[0][0]                  \n",
            "__________________________________________________________________________________________________\n",
            "conv2d_39 (Conv2D)              (None, 14, 14, 64)   32832       max_pooling2d_8[0][0]            \n",
            "__________________________________________________________________________________________________\n",
            "concatenate_5 (Concatenate)     (None, 14, 14, 528)  0           conv2d_34[0][0]                  \n",
            "                                                                 conv2d_36[0][0]                  \n",
            "                                                                 conv2d_38[0][0]                  \n",
            "                                                                 conv2d_39[0][0]                  \n",
            "__________________________________________________________________________________________________\n",
            "conv2d_41 (Conv2D)              (None, 14, 14, 160)  84640       concatenate_5[0][0]              \n",
            "__________________________________________________________________________________________________\n",
            "conv2d_43 (Conv2D)              (None, 14, 14, 32)   16928       concatenate_5[0][0]              \n",
            "__________________________________________________________________________________________________\n",
            "max_pooling2d_9 (MaxPooling2D)  (None, 14, 14, 528)  0           concatenate_5[0][0]              \n",
            "__________________________________________________________________________________________________\n",
            "conv2d_40 (Conv2D)              (None, 14, 14, 256)  135424      concatenate_5[0][0]              \n",
            "__________________________________________________________________________________________________\n",
            "conv2d_42 (Conv2D)              (None, 14, 14, 320)  461120      conv2d_41[0][0]                  \n",
            "__________________________________________________________________________________________________\n",
            "conv2d_44 (Conv2D)              (None, 14, 14, 128)  102528      conv2d_43[0][0]                  \n",
            "__________________________________________________________________________________________________\n",
            "conv2d_45 (Conv2D)              (None, 14, 14, 128)  67712       max_pooling2d_9[0][0]            \n",
            "__________________________________________________________________________________________________\n",
            "concatenate_6 (Concatenate)     (None, 14, 14, 832)  0           conv2d_40[0][0]                  \n",
            "                                                                 conv2d_42[0][0]                  \n",
            "                                                                 conv2d_44[0][0]                  \n",
            "                                                                 conv2d_45[0][0]                  \n",
            "__________________________________________________________________________________________________\n",
            "max_pooling2d_10 (MaxPooling2D) (None, 7, 7, 832)    0           concatenate_6[0][0]              \n",
            "__________________________________________________________________________________________________\n",
            "conv2d_48 (Conv2D)              (None, 7, 7, 160)    133280      max_pooling2d_10[0][0]           \n",
            "__________________________________________________________________________________________________\n",
            "conv2d_50 (Conv2D)              (None, 7, 7, 32)     26656       max_pooling2d_10[0][0]           \n",
            "__________________________________________________________________________________________________\n",
            "max_pooling2d_11 (MaxPooling2D) (None, 7, 7, 832)    0           max_pooling2d_10[0][0]           \n",
            "__________________________________________________________________________________________________\n",
            "conv2d_47 (Conv2D)              (None, 7, 7, 256)    213248      max_pooling2d_10[0][0]           \n",
            "__________________________________________________________________________________________________\n",
            "conv2d_49 (Conv2D)              (None, 7, 7, 320)    461120      conv2d_48[0][0]                  \n",
            "__________________________________________________________________________________________________\n",
            "conv2d_51 (Conv2D)              (None, 7, 7, 128)    102528      conv2d_50[0][0]                  \n",
            "__________________________________________________________________________________________________\n",
            "conv2d_52 (Conv2D)              (None, 7, 7, 128)    106624      max_pooling2d_11[0][0]           \n",
            "__________________________________________________________________________________________________\n",
            "concatenate_7 (Concatenate)     (None, 7, 7, 832)    0           conv2d_47[0][0]                  \n",
            "                                                                 conv2d_49[0][0]                  \n",
            "                                                                 conv2d_51[0][0]                  \n",
            "                                                                 conv2d_52[0][0]                  \n",
            "__________________________________________________________________________________________________\n",
            "conv2d_54 (Conv2D)              (None, 7, 7, 192)    159936      concatenate_7[0][0]              \n",
            "__________________________________________________________________________________________________\n",
            "conv2d_56 (Conv2D)              (None, 7, 7, 48)     39984       concatenate_7[0][0]              \n",
            "__________________________________________________________________________________________________\n",
            "max_pooling2d_12 (MaxPooling2D) (None, 7, 7, 832)    0           concatenate_7[0][0]              \n",
            "__________________________________________________________________________________________________\n",
            "average_pooling2d (AveragePooli (None, 4, 4, 512)    0           concatenate_2[0][0]              \n",
            "__________________________________________________________________________________________________\n",
            "average_pooling2d_1 (AveragePoo (None, 4, 4, 528)    0           concatenate_5[0][0]              \n",
            "__________________________________________________________________________________________________\n",
            "conv2d_53 (Conv2D)              (None, 7, 7, 384)    319872      concatenate_7[0][0]              \n",
            "__________________________________________________________________________________________________\n",
            "conv2d_55 (Conv2D)              (None, 7, 7, 384)    663936      conv2d_54[0][0]                  \n",
            "__________________________________________________________________________________________________\n",
            "conv2d_57 (Conv2D)              (None, 7, 7, 128)    153728      conv2d_56[0][0]                  \n",
            "__________________________________________________________________________________________________\n",
            "conv2d_58 (Conv2D)              (None, 7, 7, 128)    106624      max_pooling2d_12[0][0]           \n",
            "__________________________________________________________________________________________________\n",
            "conv2d_27 (Conv2D)              (None, 4, 4, 128)    65664       average_pooling2d[0][0]          \n",
            "__________________________________________________________________________________________________\n",
            "conv2d_46 (Conv2D)              (None, 4, 4, 128)    67712       average_pooling2d_1[0][0]        \n",
            "__________________________________________________________________________________________________\n",
            "concatenate_8 (Concatenate)     (None, 7, 7, 1024)   0           conv2d_53[0][0]                  \n",
            "                                                                 conv2d_55[0][0]                  \n",
            "                                                                 conv2d_57[0][0]                  \n",
            "                                                                 conv2d_58[0][0]                  \n",
            "__________________________________________________________________________________________________\n",
            "flatten (Flatten)               (None, 2048)         0           conv2d_27[0][0]                  \n",
            "__________________________________________________________________________________________________\n",
            "flatten_1 (Flatten)             (None, 2048)         0           conv2d_46[0][0]                  \n",
            "__________________________________________________________________________________________________\n",
            "average_pooling2d_2 (AveragePoo (None, 1, 1, 1024)   0           concatenate_8[0][0]              \n",
            "__________________________________________________________________________________________________\n",
            "dense (Dense)                   (None, 1024)         2098176     flatten[0][0]                    \n",
            "__________________________________________________________________________________________________\n",
            "dense_2 (Dense)                 (None, 1024)         2098176     flatten_1[0][0]                  \n",
            "__________________________________________________________________________________________________\n",
            "flatten_2 (Flatten)             (None, 1024)         0           average_pooling2d_2[0][0]        \n",
            "__________________________________________________________________________________________________\n",
            "dropout (Dropout)               (None, 1024)         0           dense[0][0]                      \n",
            "__________________________________________________________________________________________________\n",
            "dropout_1 (Dropout)             (None, 1024)         0           dense_2[0][0]                    \n",
            "__________________________________________________________________________________________________\n",
            "dropout_2 (Dropout)             (None, 1024)         0           flatten_2[0][0]                  \n",
            "__________________________________________________________________________________________________\n",
            "dense_1 (Dense)                 (None, 10)           10250       dropout[0][0]                    \n",
            "__________________________________________________________________________________________________\n",
            "dense_3 (Dense)                 (None, 10)           10250       dropout_1[0][0]                  \n",
            "__________________________________________________________________________________________________\n",
            "dense_4 (Dense)                 (None, 10)           10250       dropout_2[0][0]                  \n",
            "__________________________________________________________________________________________________\n",
            "activation (Activation)         (None, 10)           0           dense_1[0][0]                    \n",
            "__________________________________________________________________________________________________\n",
            "activation_1 (Activation)       (None, 10)           0           dense_3[0][0]                    \n",
            "__________________________________________________________________________________________________\n",
            "activation_2 (Activation)       (None, 10)           0           dense_4[0][0]                    \n",
            "==================================================================================================\n",
            "Total params: 10,334,030\n",
            "Trainable params: 10,334,030\n",
            "Non-trainable params: 0\n",
            "__________________________________________________________________________________________________\n"
          ],
          "name": "stdout"
        }
      ]
    },
    {
      "cell_type": "code",
      "metadata": {
        "id": "Cy8bazUrOuqJ"
      },
      "source": [
        "model.compile(loss='categorical_crossentropy', optimizer='adam', metrics=['accuracy'], loss_weights = [0.3/1.6,0.3/1.6,1/1.6])"
      ],
      "execution_count": 33,
      "outputs": []
    },
    {
      "cell_type": "code",
      "metadata": {
        "id": "UjA6JWEiO0rF"
      },
      "source": [
        "EPOCHS = 40\n",
        "BUFFER_SIZE = 500\n",
        "BATCH_SIZE = 32\n",
        "processed_train_image_ds.batch(BATCH_SIZE)\n",
        "train_dataset = processed_train_image_ds.cache().shuffle(BUFFER_SIZE).batch(BATCH_SIZE)\n",
        "processed_val_image_ds.batch(BATCH_SIZE)\n",
        "val_dataset = processed_val_image_ds.cache().shuffle(BUFFER_SIZE).batch(BATCH_SIZE)\n"
      ],
      "execution_count": 34,
      "outputs": []
    },
    {
      "cell_type": "code",
      "metadata": {
        "colab": {
          "base_uri": "https://localhost:8080/"
        },
        "id": "bgecMPIn1-TW",
        "outputId": "fe78de66-b0af-48cd-a23c-e95ab81d4833"
      },
      "source": [
        "print(processed_train_image_ds.element_spec)\n",
        "print(processed_val_image_ds.element_spec)"
      ],
      "execution_count": 35,
      "outputs": [
        {
          "output_type": "stream",
          "text": [
            "(TensorSpec(shape=(224, 224, 3), dtype=tf.float32, name=None), (TensorSpec(shape=(10,), dtype=tf.int32, name=None), TensorSpec(shape=(10,), dtype=tf.int32, name=None), TensorSpec(shape=(10,), dtype=tf.int32, name=None)))\n",
            "(TensorSpec(shape=(224, 224, 3), dtype=tf.float32, name=None), (TensorSpec(shape=(10,), dtype=tf.int32, name=None), TensorSpec(shape=(10,), dtype=tf.int32, name=None), TensorSpec(shape=(10,), dtype=tf.int32, name=None)))\n"
          ],
          "name": "stdout"
        }
      ]
    },
    {
      "cell_type": "code",
      "metadata": {
        "colab": {
          "base_uri": "https://localhost:8080/"
        },
        "id": "jWfNfAa2z6UH",
        "outputId": "800a91a0-1b8c-4701-f4c6-f32ae1c3bc17"
      },
      "source": [
        "history = model.fit(train_dataset, epochs=EPOCHS, \n",
        "            validation_data=val_dataset,\n",
        "            validation_freq=1)"
      ],
      "execution_count": 36,
      "outputs": [
        {
          "output_type": "stream",
          "text": [
            "Epoch 1/40\n",
            "287/287 [==============================] - 312s 977ms/step - loss: 2.0815 - activation_loss: 2.2141 - activation_1_loss: 2.2131 - activation_2_loss: 2.0022 - activation_accuracy: 0.2196 - activation_1_accuracy: 0.2277 - activation_2_accuracy: 0.2201 - val_loss: 2.0793 - val_activation_loss: 2.2135 - val_activation_1_loss: 2.2142 - val_activation_2_loss: 1.9985 - val_activation_accuracy: 0.2159 - val_activation_1_accuracy: 0.2159 - val_activation_2_accuracy: 0.2159\n",
            "Epoch 2/40\n",
            "287/287 [==============================] - 75s 262ms/step - loss: 2.0679 - activation_loss: 2.2079 - activation_1_loss: 2.2075 - activation_2_loss: 1.9841 - activation_accuracy: 0.2257 - activation_1_accuracy: 0.2252 - activation_2_accuracy: 0.2213 - val_loss: 2.0794 - val_activation_loss: 2.2139 - val_activation_1_loss: 2.2135 - val_activation_2_loss: 1.9989 - val_activation_accuracy: 0.2159 - val_activation_1_accuracy: 0.2159 - val_activation_2_accuracy: 0.2159\n",
            "Epoch 3/40\n",
            "287/287 [==============================] - 75s 261ms/step - loss: 2.0686 - activation_loss: 2.2074 - activation_1_loss: 2.2089 - activation_2_loss: 1.9849 - activation_accuracy: 0.2238 - activation_1_accuracy: 0.2226 - activation_2_accuracy: 0.2235 - val_loss: 2.0792 - val_activation_loss: 2.2135 - val_activation_1_loss: 2.2139 - val_activation_2_loss: 1.9985 - val_activation_accuracy: 0.2159 - val_activation_1_accuracy: 0.2159 - val_activation_2_accuracy: 0.2159\n",
            "Epoch 4/40\n",
            "287/287 [==============================] - 75s 261ms/step - loss: 2.0671 - activation_loss: 2.2075 - activation_1_loss: 2.2073 - activation_2_loss: 1.9829 - activation_accuracy: 0.2212 - activation_1_accuracy: 0.2208 - activation_2_accuracy: 0.2243 - val_loss: 2.0791 - val_activation_loss: 2.2133 - val_activation_1_loss: 2.2136 - val_activation_2_loss: 1.9984 - val_activation_accuracy: 0.2159 - val_activation_1_accuracy: 0.2159 - val_activation_2_accuracy: 0.2034\n",
            "Epoch 5/40\n",
            "287/287 [==============================] - 75s 261ms/step - loss: 2.0679 - activation_loss: 2.2076 - activation_1_loss: 2.2081 - activation_2_loss: 1.9840 - activation_accuracy: 0.2168 - activation_1_accuracy: 0.2192 - activation_2_accuracy: 0.2202 - val_loss: 2.0790 - val_activation_loss: 2.2137 - val_activation_1_loss: 2.2139 - val_activation_2_loss: 1.9981 - val_activation_accuracy: 0.2159 - val_activation_1_accuracy: 0.2159 - val_activation_2_accuracy: 0.2159\n",
            "Epoch 6/40\n",
            "287/287 [==============================] - 75s 261ms/step - loss: 2.0669 - activation_loss: 2.2078 - activation_1_loss: 2.2060 - activation_2_loss: 1.9829 - activation_accuracy: 0.2164 - activation_1_accuracy: 0.2256 - activation_2_accuracy: 0.2193 - val_loss: 2.0824 - val_activation_loss: 2.2147 - val_activation_1_loss: 2.2152 - val_activation_2_loss: 2.0029 - val_activation_accuracy: 0.2159 - val_activation_1_accuracy: 0.2159 - val_activation_2_accuracy: 0.2159\n",
            "Epoch 7/40\n",
            "287/287 [==============================] - 75s 261ms/step - loss: 2.0668 - activation_loss: 2.2071 - activation_1_loss: 2.2066 - activation_2_loss: 1.9828 - activation_accuracy: 0.2216 - activation_1_accuracy: 0.2243 - activation_2_accuracy: 0.2193 - val_loss: 2.0801 - val_activation_loss: 2.2136 - val_activation_1_loss: 2.2138 - val_activation_2_loss: 2.0000 - val_activation_accuracy: 0.2159 - val_activation_1_accuracy: 0.2159 - val_activation_2_accuracy: 0.2159\n",
            "Epoch 8/40\n",
            "287/287 [==============================] - 75s 261ms/step - loss: 2.0659 - activation_loss: 2.2066 - activation_1_loss: 2.2070 - activation_2_loss: 1.9813 - activation_accuracy: 0.2200 - activation_1_accuracy: 0.2221 - activation_2_accuracy: 0.2243 - val_loss: 2.0800 - val_activation_loss: 2.2144 - val_activation_1_loss: 2.2138 - val_activation_2_loss: 1.9996 - val_activation_accuracy: 0.2159 - val_activation_1_accuracy: 0.2159 - val_activation_2_accuracy: 0.2159\n",
            "Epoch 9/40\n",
            "287/287 [==============================] - 75s 261ms/step - loss: 2.0669 - activation_loss: 2.2063 - activation_1_loss: 2.2075 - activation_2_loss: 1.9829 - activation_accuracy: 0.2224 - activation_1_accuracy: 0.2214 - activation_2_accuracy: 0.2222 - val_loss: 2.0798 - val_activation_loss: 2.2138 - val_activation_1_loss: 2.2134 - val_activation_2_loss: 1.9995 - val_activation_accuracy: 0.2159 - val_activation_1_accuracy: 0.2159 - val_activation_2_accuracy: 0.2159\n",
            "Epoch 10/40\n",
            "287/287 [==============================] - 75s 261ms/step - loss: 2.0660 - activation_loss: 2.2071 - activation_1_loss: 2.2066 - activation_2_loss: 1.9815 - activation_accuracy: 0.2206 - activation_1_accuracy: 0.2219 - activation_2_accuracy: 0.2238 - val_loss: 2.0803 - val_activation_loss: 2.2132 - val_activation_1_loss: 2.2135 - val_activation_2_loss: 2.0005 - val_activation_accuracy: 0.2159 - val_activation_1_accuracy: 0.2159 - val_activation_2_accuracy: 0.2159\n",
            "Epoch 11/40\n",
            "287/287 [==============================] - 75s 261ms/step - loss: 2.0653 - activation_loss: 2.2064 - activation_1_loss: 2.2067 - activation_2_loss: 1.9806 - activation_accuracy: 0.2225 - activation_1_accuracy: 0.2226 - activation_2_accuracy: 0.2181 - val_loss: 2.0806 - val_activation_loss: 2.2135 - val_activation_1_loss: 2.2137 - val_activation_2_loss: 2.0008 - val_activation_accuracy: 0.2159 - val_activation_1_accuracy: 0.2159 - val_activation_2_accuracy: 0.2159\n",
            "Epoch 12/40\n",
            "287/287 [==============================] - 75s 261ms/step - loss: 2.0653 - activation_loss: 2.2065 - activation_1_loss: 2.2060 - activation_2_loss: 1.9807 - activation_accuracy: 0.2248 - activation_1_accuracy: 0.2220 - activation_2_accuracy: 0.2229 - val_loss: 2.0803 - val_activation_loss: 2.2140 - val_activation_1_loss: 2.2140 - val_activation_2_loss: 2.0002 - val_activation_accuracy: 0.2159 - val_activation_1_accuracy: 0.2159 - val_activation_2_accuracy: 0.2159\n",
            "Epoch 13/40\n",
            "287/287 [==============================] - 75s 261ms/step - loss: 2.0651 - activation_loss: 2.2061 - activation_1_loss: 2.2064 - activation_2_loss: 1.9804 - activation_accuracy: 0.2217 - activation_1_accuracy: 0.2238 - activation_2_accuracy: 0.2188 - val_loss: 2.0799 - val_activation_loss: 2.2137 - val_activation_1_loss: 2.2137 - val_activation_2_loss: 1.9997 - val_activation_accuracy: 0.2159 - val_activation_1_accuracy: 0.2159 - val_activation_2_accuracy: 0.2159\n",
            "Epoch 14/40\n",
            "287/287 [==============================] - 75s 261ms/step - loss: 2.0654 - activation_loss: 2.2059 - activation_1_loss: 2.2062 - activation_2_loss: 1.9811 - activation_accuracy: 0.2218 - activation_1_accuracy: 0.2228 - activation_2_accuracy: 0.2233 - val_loss: 2.0805 - val_activation_loss: 2.2139 - val_activation_1_loss: 2.2137 - val_activation_2_loss: 2.0005 - val_activation_accuracy: 0.2159 - val_activation_1_accuracy: 0.2159 - val_activation_2_accuracy: 0.2159\n",
            "Epoch 15/40\n",
            "287/287 [==============================] - 75s 262ms/step - loss: 2.0652 - activation_loss: 2.2061 - activation_1_loss: 2.2060 - activation_2_loss: 1.9807 - activation_accuracy: 0.2246 - activation_1_accuracy: 0.2196 - activation_2_accuracy: 0.2202 - val_loss: 2.0797 - val_activation_loss: 2.2136 - val_activation_1_loss: 2.2138 - val_activation_2_loss: 1.9992 - val_activation_accuracy: 0.2159 - val_activation_1_accuracy: 0.2159 - val_activation_2_accuracy: 0.2159\n",
            "Epoch 16/40\n",
            "287/287 [==============================] - 75s 262ms/step - loss: 2.0653 - activation_loss: 2.2065 - activation_1_loss: 2.2065 - activation_2_loss: 1.9805 - activation_accuracy: 0.2200 - activation_1_accuracy: 0.2185 - activation_2_accuracy: 0.2202 - val_loss: 2.0803 - val_activation_loss: 2.2135 - val_activation_1_loss: 2.2135 - val_activation_2_loss: 2.0004 - val_activation_accuracy: 0.2159 - val_activation_1_accuracy: 0.2159 - val_activation_2_accuracy: 0.2159\n",
            "Epoch 17/40\n",
            "287/287 [==============================] - 75s 262ms/step - loss: 2.0646 - activation_loss: 2.2060 - activation_1_loss: 2.2058 - activation_2_loss: 1.9798 - activation_accuracy: 0.2259 - activation_1_accuracy: 0.2278 - activation_2_accuracy: 0.2236 - val_loss: 2.0807 - val_activation_loss: 2.2137 - val_activation_1_loss: 2.2138 - val_activation_2_loss: 2.0008 - val_activation_accuracy: 0.2159 - val_activation_1_accuracy: 0.2159 - val_activation_2_accuracy: 0.2159\n",
            "Epoch 18/40\n",
            "287/287 [==============================] - 75s 262ms/step - loss: 2.0652 - activation_loss: 2.2058 - activation_1_loss: 2.2064 - activation_2_loss: 1.9807 - activation_accuracy: 0.2235 - activation_1_accuracy: 0.2212 - activation_2_accuracy: 0.2189 - val_loss: 2.0795 - val_activation_loss: 2.2137 - val_activation_1_loss: 2.2135 - val_activation_2_loss: 1.9990 - val_activation_accuracy: 0.2159 - val_activation_1_accuracy: 0.2159 - val_activation_2_accuracy: 0.2159\n",
            "Epoch 19/40\n",
            "287/287 [==============================] - 75s 261ms/step - loss: 2.0651 - activation_loss: 2.2058 - activation_1_loss: 2.2060 - activation_2_loss: 1.9806 - activation_accuracy: 0.2259 - activation_1_accuracy: 0.2264 - activation_2_accuracy: 0.2248 - val_loss: 2.0807 - val_activation_loss: 2.2139 - val_activation_1_loss: 2.2137 - val_activation_2_loss: 2.0008 - val_activation_accuracy: 0.2159 - val_activation_1_accuracy: 0.2159 - val_activation_2_accuracy: 0.2159\n",
            "Epoch 20/40\n",
            "287/287 [==============================] - 75s 261ms/step - loss: 2.0651 - activation_loss: 2.2061 - activation_1_loss: 2.2058 - activation_2_loss: 1.9807 - activation_accuracy: 0.2252 - activation_1_accuracy: 0.2235 - activation_2_accuracy: 0.2254 - val_loss: 2.0799 - val_activation_loss: 2.2137 - val_activation_1_loss: 2.2136 - val_activation_2_loss: 1.9996 - val_activation_accuracy: 0.2159 - val_activation_1_accuracy: 0.2159 - val_activation_2_accuracy: 0.2159\n",
            "Epoch 21/40\n",
            "287/287 [==============================] - 75s 262ms/step - loss: 2.0651 - activation_loss: 2.2062 - activation_1_loss: 2.2056 - activation_2_loss: 1.9806 - activation_accuracy: 0.2226 - activation_1_accuracy: 0.2255 - activation_2_accuracy: 0.2224 - val_loss: 2.0802 - val_activation_loss: 2.2137 - val_activation_1_loss: 2.2138 - val_activation_2_loss: 2.0001 - val_activation_accuracy: 0.2159 - val_activation_1_accuracy: 0.2159 - val_activation_2_accuracy: 0.2159\n",
            "Epoch 22/40\n",
            "287/287 [==============================] - 75s 261ms/step - loss: 2.0658 - activation_loss: 2.2069 - activation_1_loss: 2.2058 - activation_2_loss: 1.9815 - activation_accuracy: 0.2220 - activation_1_accuracy: 0.2255 - activation_2_accuracy: 0.2244 - val_loss: 2.0802 - val_activation_loss: 2.2137 - val_activation_1_loss: 2.2138 - val_activation_2_loss: 2.0000 - val_activation_accuracy: 0.2159 - val_activation_1_accuracy: 0.2159 - val_activation_2_accuracy: 0.2159\n",
            "Epoch 23/40\n",
            "287/287 [==============================] - 75s 261ms/step - loss: 2.0646 - activation_loss: 2.2065 - activation_1_loss: 2.2062 - activation_2_loss: 1.9795 - activation_accuracy: 0.2195 - activation_1_accuracy: 0.2214 - activation_2_accuracy: 0.2219 - val_loss: 2.0816 - val_activation_loss: 2.2138 - val_activation_1_loss: 2.2139 - val_activation_2_loss: 2.0022 - val_activation_accuracy: 0.2159 - val_activation_1_accuracy: 0.2159 - val_activation_2_accuracy: 0.2159\n",
            "Epoch 24/40\n",
            "287/287 [==============================] - 75s 262ms/step - loss: 2.0651 - activation_loss: 2.2061 - activation_1_loss: 2.2066 - activation_2_loss: 1.9804 - activation_accuracy: 0.2209 - activation_1_accuracy: 0.2183 - activation_2_accuracy: 0.2241 - val_loss: 2.0804 - val_activation_loss: 2.2138 - val_activation_1_loss: 2.2137 - val_activation_2_loss: 2.0004 - val_activation_accuracy: 0.2159 - val_activation_1_accuracy: 0.2159 - val_activation_2_accuracy: 0.2159\n",
            "Epoch 25/40\n",
            "287/287 [==============================] - 75s 261ms/step - loss: 2.0650 - activation_loss: 2.2063 - activation_1_loss: 2.2066 - activation_2_loss: 1.9801 - activation_accuracy: 0.2233 - activation_1_accuracy: 0.2186 - activation_2_accuracy: 0.2266 - val_loss: 2.0797 - val_activation_loss: 2.2138 - val_activation_1_loss: 2.2137 - val_activation_2_loss: 1.9992 - val_activation_accuracy: 0.2159 - val_activation_1_accuracy: 0.2159 - val_activation_2_accuracy: 0.2159\n",
            "Epoch 26/40\n",
            "287/287 [==============================] - 75s 262ms/step - loss: 2.0646 - activation_loss: 2.2061 - activation_1_loss: 2.2057 - activation_2_loss: 1.9798 - activation_accuracy: 0.2230 - activation_1_accuracy: 0.2265 - activation_2_accuracy: 0.2242 - val_loss: 2.0799 - val_activation_loss: 2.2136 - val_activation_1_loss: 2.2137 - val_activation_2_loss: 1.9996 - val_activation_accuracy: 0.2159 - val_activation_1_accuracy: 0.2159 - val_activation_2_accuracy: 0.2159\n",
            "Epoch 27/40\n",
            "287/287 [==============================] - 75s 262ms/step - loss: 2.0652 - activation_loss: 2.2060 - activation_1_loss: 2.2061 - activation_2_loss: 1.9806 - activation_accuracy: 0.2241 - activation_1_accuracy: 0.2253 - activation_2_accuracy: 0.2214 - val_loss: 2.0802 - val_activation_loss: 2.2136 - val_activation_1_loss: 2.2136 - val_activation_2_loss: 2.0002 - val_activation_accuracy: 0.2159 - val_activation_1_accuracy: 0.2159 - val_activation_2_accuracy: 0.2159\n",
            "Epoch 28/40\n",
            "287/287 [==============================] - 75s 261ms/step - loss: 2.0650 - activation_loss: 2.2063 - activation_1_loss: 2.2063 - activation_2_loss: 1.9803 - activation_accuracy: 0.2230 - activation_1_accuracy: 0.2214 - activation_2_accuracy: 0.2217 - val_loss: 2.0801 - val_activation_loss: 2.2138 - val_activation_1_loss: 2.2137 - val_activation_2_loss: 1.9999 - val_activation_accuracy: 0.2159 - val_activation_1_accuracy: 0.2159 - val_activation_2_accuracy: 0.2159\n",
            "Epoch 29/40\n",
            "287/287 [==============================] - 75s 262ms/step - loss: 2.0657 - activation_loss: 2.2063 - activation_1_loss: 2.2066 - activation_2_loss: 1.9813 - activation_accuracy: 0.2221 - activation_1_accuracy: 0.2200 - activation_2_accuracy: 0.2201 - val_loss: 2.0798 - val_activation_loss: 2.2138 - val_activation_1_loss: 2.2137 - val_activation_2_loss: 1.9994 - val_activation_accuracy: 0.2159 - val_activation_1_accuracy: 0.2159 - val_activation_2_accuracy: 0.2159\n",
            "Epoch 30/40\n",
            "287/287 [==============================] - 75s 262ms/step - loss: 2.0653 - activation_loss: 2.2061 - activation_1_loss: 2.2062 - activation_2_loss: 1.9808 - activation_accuracy: 0.2229 - activation_1_accuracy: 0.2180 - activation_2_accuracy: 0.2208 - val_loss: 2.0806 - val_activation_loss: 2.2137 - val_activation_1_loss: 2.2136 - val_activation_2_loss: 2.0008 - val_activation_accuracy: 0.2159 - val_activation_1_accuracy: 0.2159 - val_activation_2_accuracy: 0.2159\n",
            "Epoch 31/40\n",
            "287/287 [==============================] - 75s 261ms/step - loss: 2.0652 - activation_loss: 2.2062 - activation_1_loss: 2.2060 - activation_2_loss: 1.9806 - activation_accuracy: 0.2226 - activation_1_accuracy: 0.2223 - activation_2_accuracy: 0.2173 - val_loss: 2.0795 - val_activation_loss: 2.2136 - val_activation_1_loss: 2.2136 - val_activation_2_loss: 1.9991 - val_activation_accuracy: 0.2159 - val_activation_1_accuracy: 0.2159 - val_activation_2_accuracy: 0.2159\n",
            "Epoch 32/40\n",
            "287/287 [==============================] - 75s 262ms/step - loss: 2.0646 - activation_loss: 2.2061 - activation_1_loss: 2.2054 - activation_2_loss: 1.9799 - activation_accuracy: 0.2219 - activation_1_accuracy: 0.2237 - activation_2_accuracy: 0.2224 - val_loss: 2.0800 - val_activation_loss: 2.2139 - val_activation_1_loss: 2.2137 - val_activation_2_loss: 1.9997 - val_activation_accuracy: 0.2159 - val_activation_1_accuracy: 0.2159 - val_activation_2_accuracy: 0.2159\n",
            "Epoch 33/40\n",
            "287/287 [==============================] - 75s 262ms/step - loss: 2.0643 - activation_loss: 2.2071 - activation_1_loss: 2.2057 - activation_2_loss: 1.9791 - activation_accuracy: 0.2208 - activation_1_accuracy: 0.2217 - activation_2_accuracy: 0.2207 - val_loss: 2.0800 - val_activation_loss: 2.2136 - val_activation_1_loss: 2.2137 - val_activation_2_loss: 1.9999 - val_activation_accuracy: 0.2159 - val_activation_1_accuracy: 0.2159 - val_activation_2_accuracy: 0.2159\n",
            "Epoch 34/40\n",
            "287/287 [==============================] - 75s 262ms/step - loss: 2.0646 - activation_loss: 2.2054 - activation_1_loss: 2.2061 - activation_2_loss: 1.9799 - activation_accuracy: 0.2236 - activation_1_accuracy: 0.2247 - activation_2_accuracy: 0.2240 - val_loss: 2.0805 - val_activation_loss: 2.2138 - val_activation_1_loss: 2.2137 - val_activation_2_loss: 2.0005 - val_activation_accuracy: 0.2159 - val_activation_1_accuracy: 0.2159 - val_activation_2_accuracy: 0.2159\n",
            "Epoch 35/40\n",
            "287/287 [==============================] - 75s 262ms/step - loss: 2.0644 - activation_loss: 2.2056 - activation_1_loss: 2.2063 - activation_2_loss: 1.9795 - activation_accuracy: 0.2220 - activation_1_accuracy: 0.2217 - activation_2_accuracy: 0.2226 - val_loss: 2.0799 - val_activation_loss: 2.2137 - val_activation_1_loss: 2.2137 - val_activation_2_loss: 1.9996 - val_activation_accuracy: 0.2159 - val_activation_1_accuracy: 0.2159 - val_activation_2_accuracy: 0.2159\n",
            "Epoch 36/40\n",
            "287/287 [==============================] - 75s 262ms/step - loss: 2.0642 - activation_loss: 2.2060 - activation_1_loss: 2.2060 - activation_2_loss: 1.9792 - activation_accuracy: 0.2216 - activation_1_accuracy: 0.2230 - activation_2_accuracy: 0.2256 - val_loss: 2.0801 - val_activation_loss: 2.2136 - val_activation_1_loss: 2.2135 - val_activation_2_loss: 2.0000 - val_activation_accuracy: 0.2159 - val_activation_1_accuracy: 0.2159 - val_activation_2_accuracy: 0.2159\n",
            "Epoch 37/40\n",
            "287/287 [==============================] - 75s 261ms/step - loss: 2.0649 - activation_loss: 2.2063 - activation_1_loss: 2.2053 - activation_2_loss: 1.9804 - activation_accuracy: 0.2228 - activation_1_accuracy: 0.2293 - activation_2_accuracy: 0.2253 - val_loss: 2.0803 - val_activation_loss: 2.2137 - val_activation_1_loss: 2.2137 - val_activation_2_loss: 2.0003 - val_activation_accuracy: 0.2159 - val_activation_1_accuracy: 0.2159 - val_activation_2_accuracy: 0.2159\n",
            "Epoch 38/40\n",
            "287/287 [==============================] - 75s 262ms/step - loss: 2.0651 - activation_loss: 2.2057 - activation_1_loss: 2.2064 - activation_2_loss: 1.9805 - activation_accuracy: 0.2273 - activation_1_accuracy: 0.2205 - activation_2_accuracy: 0.2224 - val_loss: 2.0800 - val_activation_loss: 2.2136 - val_activation_1_loss: 2.2137 - val_activation_2_loss: 1.9998 - val_activation_accuracy: 0.2159 - val_activation_1_accuracy: 0.2159 - val_activation_2_accuracy: 0.2159\n",
            "Epoch 39/40\n",
            "287/287 [==============================] - 75s 262ms/step - loss: 2.0646 - activation_loss: 2.2064 - activation_1_loss: 2.2062 - activation_2_loss: 1.9797 - activation_accuracy: 0.2199 - activation_1_accuracy: 0.2220 - activation_2_accuracy: 0.2190 - val_loss: 2.0805 - val_activation_loss: 2.2137 - val_activation_1_loss: 2.2137 - val_activation_2_loss: 2.0006 - val_activation_accuracy: 0.2159 - val_activation_1_accuracy: 0.2159 - val_activation_2_accuracy: 0.2159\n",
            "Epoch 40/40\n",
            "287/287 [==============================] - 75s 261ms/step - loss: 2.0647 - activation_loss: 2.2062 - activation_1_loss: 2.2061 - activation_2_loss: 1.9799 - activation_accuracy: 0.2211 - activation_1_accuracy: 0.2212 - activation_2_accuracy: 0.2199 - val_loss: 2.0802 - val_activation_loss: 2.2138 - val_activation_1_loss: 2.2138 - val_activation_2_loss: 2.0001 - val_activation_accuracy: 0.2159 - val_activation_1_accuracy: 0.2159 - val_activation_2_accuracy: 0.2159\n"
          ],
          "name": "stdout"
        }
      ]
    },
    {
      "cell_type": "code",
      "metadata": {
        "id": "m5jL3OwZpq2v"
      },
      "source": [
        "y_test = test_breeds"
      ],
      "execution_count": 48,
      "outputs": []
    },
    {
      "cell_type": "code",
      "metadata": {
        "id": "rHrJ3_IBeKRn"
      },
      "source": [
        "test_dataset = processed_test_image_ds.batch(BATCH_SIZE)"
      ],
      "execution_count": 51,
      "outputs": []
    },
    {
      "cell_type": "code",
      "metadata": {
        "colab": {
          "base_uri": "https://localhost:8080/"
        },
        "id": "XL9HNPu3eXf3",
        "outputId": "c50c339a-c4fb-4408-c101-157b3cca660b"
      },
      "source": [
        "print(processed_test_image_ds.element_spec)"
      ],
      "execution_count": 43,
      "outputs": [
        {
          "output_type": "stream",
          "text": [
            "(TensorSpec(shape=(224, 224, 3), dtype=tf.float32, name=None), (TensorSpec(shape=(10,), dtype=tf.int32, name=None), TensorSpec(shape=(10,), dtype=tf.int32, name=None), TensorSpec(shape=(10,), dtype=tf.int32, name=None)))\n"
          ],
          "name": "stdout"
        }
      ]
    },
    {
      "cell_type": "code",
      "metadata": {
        "id": "C_ZvOjISd2It"
      },
      "source": [
        "y_preds = model.predict(test_dataset)"
      ],
      "execution_count": 52,
      "outputs": []
    },
    {
      "cell_type": "code",
      "metadata": {
        "colab": {
          "base_uri": "https://localhost:8080/"
        },
        "id": "eI_yQ9fch16_",
        "outputId": "51629f16-4fbf-49e5-c3f8-09962bf6ab88"
      },
      "source": [
        "y_preds[2]"
      ],
      "execution_count": 54,
      "outputs": [
        {
          "output_type": "execute_result",
          "data": {
            "text/plain": [
              "array([[0.1098357 , 0.03332327, 0.02253697, ..., 0.16289836, 0.12669447,\n",
              "        0.01212629],\n",
              "       [0.1098357 , 0.03332327, 0.02253697, ..., 0.16289836, 0.12669447,\n",
              "        0.01212629],\n",
              "       [0.1098357 , 0.03332327, 0.02253697, ..., 0.16289836, 0.12669447,\n",
              "        0.01212629],\n",
              "       ...,\n",
              "       [0.10983571, 0.03332328, 0.02253697, ..., 0.16289838, 0.12669449,\n",
              "        0.01212629],\n",
              "       [0.10983571, 0.03332328, 0.02253697, ..., 0.16289838, 0.12669449,\n",
              "        0.01212629],\n",
              "       [0.10983571, 0.03332328, 0.02253697, ..., 0.16289838, 0.12669449,\n",
              "        0.01212629]], dtype=float32)"
            ]
          },
          "metadata": {
            "tags": []
          },
          "execution_count": 54
        }
      ]
    },
    {
      "cell_type": "code",
      "metadata": {
        "colab": {
          "base_uri": "https://localhost:8080/"
        },
        "id": "Pp1kWNKweBAS",
        "outputId": "b2cb354c-1a8b-43a3-a7e0-eae43a0c7e69"
      },
      "source": [
        "m = tf.keras.metrics.AUC(num_thresholds=3)\n",
        "m.update_state(y_test, y_preds[2])\n",
        "m.result().numpy()"
      ],
      "execution_count": 56,
      "outputs": [
        {
          "output_type": "execute_result",
          "data": {
            "text/plain": [
              "0.5"
            ]
          },
          "metadata": {
            "tags": []
          },
          "execution_count": 56
        }
      ]
    },
    {
      "cell_type": "markdown",
      "metadata": {
        "id": "MtHV5PAKiYpf"
      },
      "source": [
        "Auc score of 0.5 shows no discrimination. \n"
      ]
    },
    {
      "cell_type": "markdown",
      "metadata": {
        "id": "jE5AEmiwieYL"
      },
      "source": [
        "Trying to improve the model"
      ]
    },
    {
      "cell_type": "markdown",
      "metadata": {
        "id": "wX9aE2ahiv4q"
      },
      "source": [
        "redifining the datasets for 1 output"
      ]
    },
    {
      "cell_type": "code",
      "metadata": {
        "id": "67TdEVtsiLfr"
      },
      "source": [
        "def form_dataset(adresses, breeds):\n",
        "    image_filenames = tf.constant(adresses)\n",
        "    dataset = tf.data.Dataset.from_tensor_slices((image_filenames,breeds))\n",
        "    return dataset\n",
        "    \n",
        "def process_path(fileadresses, breeds):\n",
        "    img = tf.io.read_file(fileadresses)\n",
        "    img = tf.image.decode_jpeg(img, channels=3)\n",
        "    img = tf.image.convert_image_dtype(img, tf.float32)\n",
        "    return img, breeds\n",
        "\n",
        "def preprocess(image, breeds):\n",
        "    input_image = tf.image.resize(image, (224, 224), method='nearest')\n",
        "\n",
        "    input_image = input_image / 255.\n",
        "    return input_image, breeds"
      ],
      "execution_count": 25,
      "outputs": []
    },
    {
      "cell_type": "code",
      "metadata": {
        "id": "3-abEL1YjV0-"
      },
      "source": [
        "train_breeds = one_hot(train[\"breed\"], required_breeds)\n",
        "train_dataset = form_dataset(train[\"adresses\"], train_breeds)\n",
        "train_image_ds = train_dataset.map(process_path)\n",
        "processed_train_image_ds = train_image_ds.map(preprocess)"
      ],
      "execution_count": 29,
      "outputs": []
    },
    {
      "cell_type": "code",
      "metadata": {
        "id": "8AMncW5rjaEV"
      },
      "source": [
        "val_breeds = one_hot(val[\"breed\"], required_breeds)\n",
        "val_dataset = form_dataset(val[\"adresses\"], val_breeds)\n",
        "val_image_ds = val_dataset.map(process_path)\n",
        "processed_val_image_ds = val_image_ds.map(preprocess)"
      ],
      "execution_count": 30,
      "outputs": []
    },
    {
      "cell_type": "markdown",
      "metadata": {
        "id": "oxwez2iZj7DD"
      },
      "source": [
        "Removing auxiliary outputs"
      ]
    },
    {
      "cell_type": "code",
      "metadata": {
        "id": "_X-nZ3ErjekF"
      },
      "source": [
        "def cat_classifier2(input_size=(224, 224, 3)):\n",
        "    inputs = Input(input_size)\n",
        "\n",
        "    # pre inception blocks\n",
        "    x = Conv2D(64, 7, strides = 2, activation = 'relu', padding='same')(inputs)\n",
        "    x = MaxPooling2D(pool_size=(3, 3), strides=2, padding='same')(x)\n",
        "    x = local_response_normalization(x)\n",
        "    x = Conv2D(64, 1, activation = 'relu')(x)\n",
        "    x = Conv2D(192, 3, activation = 'relu', padding='same')(x)\n",
        "    x = local_response_normalization(x)\n",
        "\n",
        "    #block1\n",
        "    x = inception_block(x, no_1x1 = 64, no_3x3 = 128,\n",
        "                    no_3x3_reduce = 96, no_5x5 = 32, no_5x5_reduce = 16, pool = 32,Max_pool = True, )\n",
        "\n",
        "    #block2\n",
        "    x = inception_block(x, no_1x1 = 128, no_3x3 = 192,\n",
        "                    no_3x3_reduce = 128, no_5x5 = 96, no_5x5_reduce = 32, pool = 64)\n",
        "    \n",
        "    #block3\n",
        "    x = inception_block(x, no_1x1 = 192, no_3x3 = 208,\n",
        "                    no_3x3_reduce = 96, no_5x5 = 48, no_5x5_reduce = 16, pool = 64, Max_pool = True)     \n",
        "    \n",
        "    #block4\n",
        "    x= inception_block(x, no_1x1 = 160, no_3x3 = 224,\n",
        "                    no_3x3_reduce = 112, no_5x5 = 64, no_5x5_reduce = 24, pool = 64)      \n",
        "    \n",
        "    #block5\n",
        "    x = inception_block(x, no_1x1 = 128, no_3x3 = 256,\n",
        "                    no_3x3_reduce = 128, no_5x5 = 64, no_5x5_reduce = 24, pool = 64)\n",
        "    \n",
        "    #block6\n",
        "    x = inception_block(x, no_1x1 = 112, no_3x3 = 288,\n",
        "                    no_3x3_reduce = 144, no_5x5 = 64, no_5x5_reduce = 32, pool = 64)\n",
        "    \n",
        "    #block7\n",
        "    x= inception_block(x, no_1x1 = 256, no_3x3 = 320,\n",
        "                    no_3x3_reduce = 160, no_5x5 = 128, no_5x5_reduce = 32, pool = 128)     \n",
        "    \n",
        "    #block8\n",
        "    x = inception_block(x, no_1x1 = 256, no_3x3 = 320,\n",
        "                    no_3x3_reduce = 160, no_5x5 = 128, no_5x5_reduce = 32, pool = 128, Max_pool = True)    \n",
        "\n",
        "    #block9      \n",
        "    x = inception_block(x, no_1x1 = 384, no_3x3 = 384,\n",
        "                    no_3x3_reduce = 192, no_5x5 = 128, no_5x5_reduce = 48, pool = 128)\n",
        "\n",
        "    x = AveragePooling2D(pool_size=(7, 7), strides= 1)(x)\n",
        "    x = Flatten()(x)\n",
        "    x = Dropout(0.4)(x)\n",
        "    x = Dense(10)(x)\n",
        "    output = Activation('softmax')(x)\n",
        "\n",
        "    model = tf.keras.Model(inputs=inputs, outputs=output)\n",
        "\n",
        "    return model"
      ],
      "execution_count": 73,
      "outputs": []
    },
    {
      "cell_type": "code",
      "metadata": {
        "colab": {
          "base_uri": "https://localhost:8080/"
        },
        "id": "yJaZK8wrkuJs",
        "outputId": "81cb93de-84f8-4444-ab48-13b81a082ce7"
      },
      "source": [
        "model = cat_classifier2()\n",
        "model.summary()"
      ],
      "execution_count": 66,
      "outputs": [
        {
          "output_type": "stream",
          "text": [
            "Model: \"model_1\"\n",
            "__________________________________________________________________________________________________\n",
            "Layer (type)                    Output Shape         Param #     Connected to                     \n",
            "==================================================================================================\n",
            "input_2 (InputLayer)            [(None, 224, 224, 3) 0                                            \n",
            "__________________________________________________________________________________________________\n",
            "conv2d_59 (Conv2D)              (None, 112, 112, 64) 9472        input_2[0][0]                    \n",
            "__________________________________________________________________________________________________\n",
            "max_pooling2d_13 (MaxPooling2D) (None, 56, 56, 64)   0           conv2d_59[0][0]                  \n",
            "__________________________________________________________________________________________________\n",
            "tf.nn.local_response_normalizat (None, 56, 56, 64)   0           max_pooling2d_13[0][0]           \n",
            "__________________________________________________________________________________________________\n",
            "conv2d_60 (Conv2D)              (None, 56, 56, 64)   4160        tf.nn.local_response_normalizatio\n",
            "__________________________________________________________________________________________________\n",
            "conv2d_61 (Conv2D)              (None, 56, 56, 192)  110784      conv2d_60[0][0]                  \n",
            "__________________________________________________________________________________________________\n",
            "tf.nn.local_response_normalizat (None, 56, 56, 192)  0           conv2d_61[0][0]                  \n",
            "__________________________________________________________________________________________________\n",
            "max_pooling2d_14 (MaxPooling2D) (None, 28, 28, 192)  0           tf.nn.local_response_normalizatio\n",
            "__________________________________________________________________________________________________\n",
            "conv2d_63 (Conv2D)              (None, 28, 28, 96)   18528       max_pooling2d_14[0][0]           \n",
            "__________________________________________________________________________________________________\n",
            "conv2d_65 (Conv2D)              (None, 28, 28, 16)   3088        max_pooling2d_14[0][0]           \n",
            "__________________________________________________________________________________________________\n",
            "max_pooling2d_15 (MaxPooling2D) (None, 28, 28, 192)  0           max_pooling2d_14[0][0]           \n",
            "__________________________________________________________________________________________________\n",
            "conv2d_62 (Conv2D)              (None, 28, 28, 64)   12352       max_pooling2d_14[0][0]           \n",
            "__________________________________________________________________________________________________\n",
            "conv2d_64 (Conv2D)              (None, 28, 28, 128)  110720      conv2d_63[0][0]                  \n",
            "__________________________________________________________________________________________________\n",
            "conv2d_66 (Conv2D)              (None, 28, 28, 32)   12832       conv2d_65[0][0]                  \n",
            "__________________________________________________________________________________________________\n",
            "conv2d_67 (Conv2D)              (None, 28, 28, 32)   6176        max_pooling2d_15[0][0]           \n",
            "__________________________________________________________________________________________________\n",
            "concatenate_9 (Concatenate)     (None, 28, 28, 256)  0           conv2d_62[0][0]                  \n",
            "                                                                 conv2d_64[0][0]                  \n",
            "                                                                 conv2d_66[0][0]                  \n",
            "                                                                 conv2d_67[0][0]                  \n",
            "__________________________________________________________________________________________________\n",
            "conv2d_69 (Conv2D)              (None, 28, 28, 128)  32896       concatenate_9[0][0]              \n",
            "__________________________________________________________________________________________________\n",
            "conv2d_71 (Conv2D)              (None, 28, 28, 32)   8224        concatenate_9[0][0]              \n",
            "__________________________________________________________________________________________________\n",
            "max_pooling2d_16 (MaxPooling2D) (None, 28, 28, 256)  0           concatenate_9[0][0]              \n",
            "__________________________________________________________________________________________________\n",
            "conv2d_68 (Conv2D)              (None, 28, 28, 128)  32896       concatenate_9[0][0]              \n",
            "__________________________________________________________________________________________________\n",
            "conv2d_70 (Conv2D)              (None, 28, 28, 192)  221376      conv2d_69[0][0]                  \n",
            "__________________________________________________________________________________________________\n",
            "conv2d_72 (Conv2D)              (None, 28, 28, 96)   76896       conv2d_71[0][0]                  \n",
            "__________________________________________________________________________________________________\n",
            "conv2d_73 (Conv2D)              (None, 28, 28, 64)   16448       max_pooling2d_16[0][0]           \n",
            "__________________________________________________________________________________________________\n",
            "concatenate_10 (Concatenate)    (None, 28, 28, 480)  0           conv2d_68[0][0]                  \n",
            "                                                                 conv2d_70[0][0]                  \n",
            "                                                                 conv2d_72[0][0]                  \n",
            "                                                                 conv2d_73[0][0]                  \n",
            "__________________________________________________________________________________________________\n",
            "max_pooling2d_17 (MaxPooling2D) (None, 14, 14, 480)  0           concatenate_10[0][0]             \n",
            "__________________________________________________________________________________________________\n",
            "conv2d_75 (Conv2D)              (None, 14, 14, 96)   46176       max_pooling2d_17[0][0]           \n",
            "__________________________________________________________________________________________________\n",
            "conv2d_77 (Conv2D)              (None, 14, 14, 16)   7696        max_pooling2d_17[0][0]           \n",
            "__________________________________________________________________________________________________\n",
            "max_pooling2d_18 (MaxPooling2D) (None, 14, 14, 480)  0           max_pooling2d_17[0][0]           \n",
            "__________________________________________________________________________________________________\n",
            "conv2d_74 (Conv2D)              (None, 14, 14, 192)  92352       max_pooling2d_17[0][0]           \n",
            "__________________________________________________________________________________________________\n",
            "conv2d_76 (Conv2D)              (None, 14, 14, 208)  179920      conv2d_75[0][0]                  \n",
            "__________________________________________________________________________________________________\n",
            "conv2d_78 (Conv2D)              (None, 14, 14, 48)   19248       conv2d_77[0][0]                  \n",
            "__________________________________________________________________________________________________\n",
            "conv2d_79 (Conv2D)              (None, 14, 14, 64)   30784       max_pooling2d_18[0][0]           \n",
            "__________________________________________________________________________________________________\n",
            "concatenate_11 (Concatenate)    (None, 14, 14, 512)  0           conv2d_74[0][0]                  \n",
            "                                                                 conv2d_76[0][0]                  \n",
            "                                                                 conv2d_78[0][0]                  \n",
            "                                                                 conv2d_79[0][0]                  \n",
            "__________________________________________________________________________________________________\n",
            "conv2d_81 (Conv2D)              (None, 14, 14, 112)  57456       concatenate_11[0][0]             \n",
            "__________________________________________________________________________________________________\n",
            "conv2d_83 (Conv2D)              (None, 14, 14, 24)   12312       concatenate_11[0][0]             \n",
            "__________________________________________________________________________________________________\n",
            "max_pooling2d_19 (MaxPooling2D) (None, 14, 14, 512)  0           concatenate_11[0][0]             \n",
            "__________________________________________________________________________________________________\n",
            "conv2d_80 (Conv2D)              (None, 14, 14, 160)  82080       concatenate_11[0][0]             \n",
            "__________________________________________________________________________________________________\n",
            "conv2d_82 (Conv2D)              (None, 14, 14, 224)  226016      conv2d_81[0][0]                  \n",
            "__________________________________________________________________________________________________\n",
            "conv2d_84 (Conv2D)              (None, 14, 14, 64)   38464       conv2d_83[0][0]                  \n",
            "__________________________________________________________________________________________________\n",
            "conv2d_85 (Conv2D)              (None, 14, 14, 64)   32832       max_pooling2d_19[0][0]           \n",
            "__________________________________________________________________________________________________\n",
            "concatenate_12 (Concatenate)    (None, 14, 14, 512)  0           conv2d_80[0][0]                  \n",
            "                                                                 conv2d_82[0][0]                  \n",
            "                                                                 conv2d_84[0][0]                  \n",
            "                                                                 conv2d_85[0][0]                  \n",
            "__________________________________________________________________________________________________\n",
            "conv2d_87 (Conv2D)              (None, 14, 14, 128)  65664       concatenate_12[0][0]             \n",
            "__________________________________________________________________________________________________\n",
            "conv2d_89 (Conv2D)              (None, 14, 14, 24)   12312       concatenate_12[0][0]             \n",
            "__________________________________________________________________________________________________\n",
            "max_pooling2d_20 (MaxPooling2D) (None, 14, 14, 512)  0           concatenate_12[0][0]             \n",
            "__________________________________________________________________________________________________\n",
            "conv2d_86 (Conv2D)              (None, 14, 14, 128)  65664       concatenate_12[0][0]             \n",
            "__________________________________________________________________________________________________\n",
            "conv2d_88 (Conv2D)              (None, 14, 14, 256)  295168      conv2d_87[0][0]                  \n",
            "__________________________________________________________________________________________________\n",
            "conv2d_90 (Conv2D)              (None, 14, 14, 64)   38464       conv2d_89[0][0]                  \n",
            "__________________________________________________________________________________________________\n",
            "conv2d_91 (Conv2D)              (None, 14, 14, 64)   32832       max_pooling2d_20[0][0]           \n",
            "__________________________________________________________________________________________________\n",
            "concatenate_13 (Concatenate)    (None, 14, 14, 512)  0           conv2d_86[0][0]                  \n",
            "                                                                 conv2d_88[0][0]                  \n",
            "                                                                 conv2d_90[0][0]                  \n",
            "                                                                 conv2d_91[0][0]                  \n",
            "__________________________________________________________________________________________________\n",
            "conv2d_93 (Conv2D)              (None, 14, 14, 144)  73872       concatenate_13[0][0]             \n",
            "__________________________________________________________________________________________________\n",
            "conv2d_95 (Conv2D)              (None, 14, 14, 32)   16416       concatenate_13[0][0]             \n",
            "__________________________________________________________________________________________________\n",
            "max_pooling2d_21 (MaxPooling2D) (None, 14, 14, 512)  0           concatenate_13[0][0]             \n",
            "__________________________________________________________________________________________________\n",
            "conv2d_92 (Conv2D)              (None, 14, 14, 112)  57456       concatenate_13[0][0]             \n",
            "__________________________________________________________________________________________________\n",
            "conv2d_94 (Conv2D)              (None, 14, 14, 288)  373536      conv2d_93[0][0]                  \n",
            "__________________________________________________________________________________________________\n",
            "conv2d_96 (Conv2D)              (None, 14, 14, 64)   51264       conv2d_95[0][0]                  \n",
            "__________________________________________________________________________________________________\n",
            "conv2d_97 (Conv2D)              (None, 14, 14, 64)   32832       max_pooling2d_21[0][0]           \n",
            "__________________________________________________________________________________________________\n",
            "concatenate_14 (Concatenate)    (None, 14, 14, 528)  0           conv2d_92[0][0]                  \n",
            "                                                                 conv2d_94[0][0]                  \n",
            "                                                                 conv2d_96[0][0]                  \n",
            "                                                                 conv2d_97[0][0]                  \n",
            "__________________________________________________________________________________________________\n",
            "conv2d_99 (Conv2D)              (None, 14, 14, 160)  84640       concatenate_14[0][0]             \n",
            "__________________________________________________________________________________________________\n",
            "conv2d_101 (Conv2D)             (None, 14, 14, 32)   16928       concatenate_14[0][0]             \n",
            "__________________________________________________________________________________________________\n",
            "max_pooling2d_22 (MaxPooling2D) (None, 14, 14, 528)  0           concatenate_14[0][0]             \n",
            "__________________________________________________________________________________________________\n",
            "conv2d_98 (Conv2D)              (None, 14, 14, 256)  135424      concatenate_14[0][0]             \n",
            "__________________________________________________________________________________________________\n",
            "conv2d_100 (Conv2D)             (None, 14, 14, 320)  461120      conv2d_99[0][0]                  \n",
            "__________________________________________________________________________________________________\n",
            "conv2d_102 (Conv2D)             (None, 14, 14, 128)  102528      conv2d_101[0][0]                 \n",
            "__________________________________________________________________________________________________\n",
            "conv2d_103 (Conv2D)             (None, 14, 14, 128)  67712       max_pooling2d_22[0][0]           \n",
            "__________________________________________________________________________________________________\n",
            "concatenate_15 (Concatenate)    (None, 14, 14, 832)  0           conv2d_98[0][0]                  \n",
            "                                                                 conv2d_100[0][0]                 \n",
            "                                                                 conv2d_102[0][0]                 \n",
            "                                                                 conv2d_103[0][0]                 \n",
            "__________________________________________________________________________________________________\n",
            "max_pooling2d_23 (MaxPooling2D) (None, 7, 7, 832)    0           concatenate_15[0][0]             \n",
            "__________________________________________________________________________________________________\n",
            "conv2d_105 (Conv2D)             (None, 7, 7, 160)    133280      max_pooling2d_23[0][0]           \n",
            "__________________________________________________________________________________________________\n",
            "conv2d_107 (Conv2D)             (None, 7, 7, 32)     26656       max_pooling2d_23[0][0]           \n",
            "__________________________________________________________________________________________________\n",
            "max_pooling2d_24 (MaxPooling2D) (None, 7, 7, 832)    0           max_pooling2d_23[0][0]           \n",
            "__________________________________________________________________________________________________\n",
            "conv2d_104 (Conv2D)             (None, 7, 7, 256)    213248      max_pooling2d_23[0][0]           \n",
            "__________________________________________________________________________________________________\n",
            "conv2d_106 (Conv2D)             (None, 7, 7, 320)    461120      conv2d_105[0][0]                 \n",
            "__________________________________________________________________________________________________\n",
            "conv2d_108 (Conv2D)             (None, 7, 7, 128)    102528      conv2d_107[0][0]                 \n",
            "__________________________________________________________________________________________________\n",
            "conv2d_109 (Conv2D)             (None, 7, 7, 128)    106624      max_pooling2d_24[0][0]           \n",
            "__________________________________________________________________________________________________\n",
            "concatenate_16 (Concatenate)    (None, 7, 7, 832)    0           conv2d_104[0][0]                 \n",
            "                                                                 conv2d_106[0][0]                 \n",
            "                                                                 conv2d_108[0][0]                 \n",
            "                                                                 conv2d_109[0][0]                 \n",
            "__________________________________________________________________________________________________\n",
            "conv2d_111 (Conv2D)             (None, 7, 7, 192)    159936      concatenate_16[0][0]             \n",
            "__________________________________________________________________________________________________\n",
            "conv2d_113 (Conv2D)             (None, 7, 7, 48)     39984       concatenate_16[0][0]             \n",
            "__________________________________________________________________________________________________\n",
            "max_pooling2d_25 (MaxPooling2D) (None, 7, 7, 832)    0           concatenate_16[0][0]             \n",
            "__________________________________________________________________________________________________\n",
            "conv2d_110 (Conv2D)             (None, 7, 7, 384)    319872      concatenate_16[0][0]             \n",
            "__________________________________________________________________________________________________\n",
            "conv2d_112 (Conv2D)             (None, 7, 7, 384)    663936      conv2d_111[0][0]                 \n",
            "__________________________________________________________________________________________________\n",
            "conv2d_114 (Conv2D)             (None, 7, 7, 128)    153728      conv2d_113[0][0]                 \n",
            "__________________________________________________________________________________________________\n",
            "conv2d_115 (Conv2D)             (None, 7, 7, 128)    106624      max_pooling2d_25[0][0]           \n",
            "__________________________________________________________________________________________________\n",
            "concatenate_17 (Concatenate)    (None, 7, 7, 1024)   0           conv2d_110[0][0]                 \n",
            "                                                                 conv2d_112[0][0]                 \n",
            "                                                                 conv2d_114[0][0]                 \n",
            "                                                                 conv2d_115[0][0]                 \n",
            "__________________________________________________________________________________________________\n",
            "average_pooling2d_3 (AveragePoo (None, 1, 1, 1024)   0           concatenate_17[0][0]             \n",
            "__________________________________________________________________________________________________\n",
            "flatten_3 (Flatten)             (None, 1024)         0           average_pooling2d_3[0][0]        \n",
            "__________________________________________________________________________________________________\n",
            "dropout_3 (Dropout)             (None, 1024)         0           flatten_3[0][0]                  \n",
            "__________________________________________________________________________________________________\n",
            "dense_5 (Dense)                 (None, 10)           10250       dropout_3[0][0]                  \n",
            "__________________________________________________________________________________________________\n",
            "activation_3 (Activation)       (None, 10)           0           dense_5[0][0]                    \n",
            "==================================================================================================\n",
            "Total params: 5,983,802\n",
            "Trainable params: 5,983,802\n",
            "Non-trainable params: 0\n",
            "__________________________________________________________________________________________________\n"
          ],
          "name": "stdout"
        }
      ]
    },
    {
      "cell_type": "markdown",
      "metadata": {
        "id": "8kz4Wfioj_or"
      },
      "source": [
        "Removing loss weights"
      ]
    },
    {
      "cell_type": "code",
      "metadata": {
        "id": "5HkujK2KjznV"
      },
      "source": [
        "model.compile(loss='categorical_crossentropy', optimizer='adam', metrics=['accuracy'])"
      ],
      "execution_count": 67,
      "outputs": []
    },
    {
      "cell_type": "code",
      "metadata": {
        "id": "jORYe7n6kkRl"
      },
      "source": [
        "EPOCHS = 40\n",
        "BUFFER_SIZE = 500\n",
        "BATCH_SIZE = 32\n",
        "processed_train_image_ds.batch(BATCH_SIZE)\n",
        "train_dataset = processed_train_image_ds.cache().shuffle(BUFFER_SIZE).batch(BATCH_SIZE)\n",
        "processed_val_image_ds.batch(BATCH_SIZE)\n",
        "val_dataset = processed_val_image_ds.cache().shuffle(BUFFER_SIZE).batch(BATCH_SIZE)"
      ],
      "execution_count": 68,
      "outputs": []
    },
    {
      "cell_type": "code",
      "metadata": {
        "colab": {
          "base_uri": "https://localhost:8080/",
          "height": 197
        },
        "id": "jlAmeZSIlL52",
        "outputId": "0ebf04d3-fedf-413b-a06a-ea589755e350"
      },
      "source": [
        "history = model.fit(train_dataset, epochs=EPOCHS, \n",
        "            validation_data=val_dataset,\n",
        "            validation_freq=1)"
      ],
      "execution_count": 1,
      "outputs": [
        {
          "output_type": "error",
          "ename": "NameError",
          "evalue": "ignored",
          "traceback": [
            "\u001b[0;31m---------------------------------------------------------------------------\u001b[0m",
            "\u001b[0;31mNameError\u001b[0m                                 Traceback (most recent call last)",
            "\u001b[0;32m<ipython-input-1-11ddb6d40ec9>\u001b[0m in \u001b[0;36m<module>\u001b[0;34m()\u001b[0m\n\u001b[0;32m----> 1\u001b[0;31m history = model.fit(train_dataset, epochs=EPOCHS, \n\u001b[0m\u001b[1;32m      2\u001b[0m             \u001b[0mvalidation_data\u001b[0m\u001b[0;34m=\u001b[0m\u001b[0mval_dataset\u001b[0m\u001b[0;34m,\u001b[0m\u001b[0;34m\u001b[0m\u001b[0;34m\u001b[0m\u001b[0m\n\u001b[1;32m      3\u001b[0m             validation_freq=1)\n",
            "\u001b[0;31mNameError\u001b[0m: name 'model' is not defined"
          ]
        }
      ]
    },
    {
      "cell_type": "code",
      "metadata": {
        "id": "OUXykA0hlTv0"
      },
      "source": [
        "y_test = test_breeds\n",
        "test_dataset = processed_test_image_ds.batch(BATCH_SIZE)\n",
        "y_preds = model.predict(test_dataset)"
      ],
      "execution_count": 70,
      "outputs": []
    },
    {
      "cell_type": "code",
      "metadata": {
        "colab": {
          "base_uri": "https://localhost:8080/"
        },
        "id": "uXvwUN2AyNi2",
        "outputId": "bd1250b7-1f0d-44a0-d4dd-e012646e7d51"
      },
      "source": [
        "m = tf.keras.metrics.AUC(num_thresholds=3)\n",
        "m.update_state(y_test, y_preds)\n",
        "m.result().numpy()"
      ],
      "execution_count": 71,
      "outputs": [
        {
          "output_type": "execute_result",
          "data": {
            "text/plain": [
              "0.5"
            ]
          },
          "metadata": {
            "tags": []
          },
          "execution_count": 71
        }
      ]
    },
    {
      "cell_type": "markdown",
      "metadata": {
        "id": "Ae67h5T1086s"
      },
      "source": [
        "Inceasing the no of inception blocks"
      ]
    },
    {
      "cell_type": "code",
      "metadata": {
        "id": "41mtZw3fyZqd"
      },
      "source": [
        "def cat_classifier3(input_size=(224, 224, 3)):\n",
        "    inputs = Input(input_size)\n",
        "\n",
        "    # pre inception blocks\n",
        "    x = Conv2D(64, 7, strides = 2, activation = 'relu', padding='same')(inputs)\n",
        "    x = MaxPooling2D(pool_size=(3, 3), strides=2, padding='same')(x)\n",
        "    x = local_response_normalization(x)\n",
        "    x = Conv2D(64, 1, activation = 'relu')(x)\n",
        "    x = Conv2D(192, 3, activation = 'relu', padding='same')(x)\n",
        "    x = local_response_normalization(x)\n",
        "\n",
        "    #block1\n",
        "    x = inception_block(x, no_1x1 = 64, no_3x3 = 128,\n",
        "                    no_3x3_reduce = 96, no_5x5 = 32, no_5x5_reduce = 16, pool = 32,Max_pool = True, )\n",
        "\n",
        "    #block2\n",
        "    x = inception_block(x, no_1x1 = 128, no_3x3 = 192,\n",
        "                    no_3x3_reduce = 128, no_5x5 = 96, no_5x5_reduce = 32, pool = 64)\n",
        "    \n",
        "    #block2b\n",
        "    x = inception_block(x, no_1x1 = 128, no_3x3 = 192,\n",
        "                    no_3x3_reduce = 128, no_5x5 = 96, no_5x5_reduce = 32, pool = 64)\n",
        "    \n",
        "    #block3\n",
        "    x = inception_block(x, no_1x1 = 192, no_3x3 = 208,\n",
        "                    no_3x3_reduce = 96, no_5x5 = 48, no_5x5_reduce = 16, pool = 64, Max_pool = True)     \n",
        "    \n",
        "    #block4\n",
        "    x= inception_block(x, no_1x1 = 160, no_3x3 = 224,\n",
        "                    no_3x3_reduce = 112, no_5x5 = 64, no_5x5_reduce = 24, pool = 64)\n",
        "\n",
        "    #block4b\n",
        "    x= inception_block(x, no_1x1 = 160, no_3x3 = 224,\n",
        "                    no_3x3_reduce = 112, no_5x5 = 64, no_5x5_reduce = 24, pool = 64)      \n",
        "    \n",
        "    #block5\n",
        "    x = inception_block(x, no_1x1 = 128, no_3x3 = 256,\n",
        "                    no_3x3_reduce = 128, no_5x5 = 64, no_5x5_reduce = 24, pool = 64)\n",
        "    \n",
        "    #block5b\n",
        "    x = inception_block(x, no_1x1 = 128, no_3x3 = 256,\n",
        "                    no_3x3_reduce = 128, no_5x5 = 64, no_5x5_reduce = 24, pool = 64)\n",
        "    \n",
        "    #block6\n",
        "    x = inception_block(x, no_1x1 = 112, no_3x3 = 288,\n",
        "                    no_3x3_reduce = 144, no_5x5 = 64, no_5x5_reduce = 32, pool = 64)\n",
        "    \n",
        "    #block6a\n",
        "    x = inception_block(x, no_1x1 = 112, no_3x3 = 288,\n",
        "                    no_3x3_reduce = 144, no_5x5 = 64, no_5x5_reduce = 32, pool = 64)\n",
        "    \n",
        "    #block6b\n",
        "    x = inception_block(x, no_1x1 = 112, no_3x3 = 288,\n",
        "                    no_3x3_reduce = 144, no_5x5 = 64, no_5x5_reduce = 32, pool = 64)\n",
        "    \n",
        "    #block7\n",
        "    x= inception_block(x, no_1x1 = 256, no_3x3 = 320,\n",
        "                    no_3x3_reduce = 160, no_5x5 = 128, no_5x5_reduce = 32, pool = 128)\n",
        "\n",
        "    #block7b\n",
        "    x= inception_block(x, no_1x1 = 256, no_3x3 = 320,\n",
        "                    no_3x3_reduce = 160, no_5x5 = 128, no_5x5_reduce = 32, pool = 128)     \n",
        "    \n",
        "    #block8\n",
        "    x = inception_block(x, no_1x1 = 256, no_3x3 = 320,\n",
        "                    no_3x3_reduce = 160, no_5x5 = 128, no_5x5_reduce = 32, pool = 128, Max_pool = True)    \n",
        "\n",
        "    #block9      \n",
        "    x = inception_block(x, no_1x1 = 384, no_3x3 = 384,\n",
        "                    no_3x3_reduce = 192, no_5x5 = 128, no_5x5_reduce = 48, pool = 128)\n",
        "    \n",
        "    #block9b      \n",
        "    x = inception_block(x, no_1x1 = 384, no_3x3 = 384,\n",
        "                    no_3x3_reduce = 192, no_5x5 = 128, no_5x5_reduce = 48, pool = 128)\n",
        "\n",
        "    x = AveragePooling2D(pool_size=(7, 7), strides= 1)(x)\n",
        "    x = Flatten()(x)\n",
        "    x = Dropout(0.4)(x)\n",
        "    x = Dense(10)(x)\n",
        "    output = Activation('softmax')(x)\n",
        "\n",
        "    model = tf.keras.Model(inputs=inputs, outputs=output)\n",
        "\n",
        "    return model"
      ],
      "execution_count": 21,
      "outputs": []
    },
    {
      "cell_type": "code",
      "metadata": {
        "colab": {
          "base_uri": "https://localhost:8080/"
        },
        "id": "NPrgn9Bwy0k5",
        "outputId": "20a011c3-cfc6-41a6-a2f5-6efde66ca6cc"
      },
      "source": [
        "model = cat_classifier3()\n",
        "model.summary()"
      ],
      "execution_count": 22,
      "outputs": [
        {
          "output_type": "stream",
          "text": [
            "Model: \"model_1\"\n",
            "__________________________________________________________________________________________________\n",
            "Layer (type)                    Output Shape         Param #     Connected to                     \n",
            "==================================================================================================\n",
            "input_3 (InputLayer)            [(None, 224, 224, 3) 0                                            \n",
            "__________________________________________________________________________________________________\n",
            "conv2d_84 (Conv2D)              (None, 112, 112, 64) 9472        input_3[0][0]                    \n",
            "__________________________________________________________________________________________________\n",
            "max_pooling2d_18 (MaxPooling2D) (None, 56, 56, 64)   0           conv2d_84[0][0]                  \n",
            "__________________________________________________________________________________________________\n",
            "tf.nn.local_response_normalizat (None, 56, 56, 64)   0           max_pooling2d_18[0][0]           \n",
            "__________________________________________________________________________________________________\n",
            "conv2d_85 (Conv2D)              (None, 56, 56, 64)   4160        tf.nn.local_response_normalizatio\n",
            "__________________________________________________________________________________________________\n",
            "conv2d_86 (Conv2D)              (None, 56, 56, 192)  110784      conv2d_85[0][0]                  \n",
            "__________________________________________________________________________________________________\n",
            "tf.nn.local_response_normalizat (None, 56, 56, 192)  0           conv2d_86[0][0]                  \n",
            "__________________________________________________________________________________________________\n",
            "max_pooling2d_19 (MaxPooling2D) (None, 28, 28, 192)  0           tf.nn.local_response_normalizatio\n",
            "__________________________________________________________________________________________________\n",
            "conv2d_88 (Conv2D)              (None, 28, 28, 96)   18528       max_pooling2d_19[0][0]           \n",
            "__________________________________________________________________________________________________\n",
            "conv2d_90 (Conv2D)              (None, 28, 28, 16)   3088        max_pooling2d_19[0][0]           \n",
            "__________________________________________________________________________________________________\n",
            "max_pooling2d_20 (MaxPooling2D) (None, 28, 28, 192)  0           max_pooling2d_19[0][0]           \n",
            "__________________________________________________________________________________________________\n",
            "conv2d_87 (Conv2D)              (None, 28, 28, 64)   12352       max_pooling2d_19[0][0]           \n",
            "__________________________________________________________________________________________________\n",
            "conv2d_89 (Conv2D)              (None, 28, 28, 128)  110720      conv2d_88[0][0]                  \n",
            "__________________________________________________________________________________________________\n",
            "conv2d_91 (Conv2D)              (None, 28, 28, 32)   12832       conv2d_90[0][0]                  \n",
            "__________________________________________________________________________________________________\n",
            "conv2d_92 (Conv2D)              (None, 28, 28, 32)   6176        max_pooling2d_20[0][0]           \n",
            "__________________________________________________________________________________________________\n",
            "concatenate_13 (Concatenate)    (None, 28, 28, 256)  0           conv2d_87[0][0]                  \n",
            "                                                                 conv2d_89[0][0]                  \n",
            "                                                                 conv2d_91[0][0]                  \n",
            "                                                                 conv2d_92[0][0]                  \n",
            "__________________________________________________________________________________________________\n",
            "conv2d_94 (Conv2D)              (None, 28, 28, 128)  32896       concatenate_13[0][0]             \n",
            "__________________________________________________________________________________________________\n",
            "conv2d_96 (Conv2D)              (None, 28, 28, 32)   8224        concatenate_13[0][0]             \n",
            "__________________________________________________________________________________________________\n",
            "max_pooling2d_21 (MaxPooling2D) (None, 28, 28, 256)  0           concatenate_13[0][0]             \n",
            "__________________________________________________________________________________________________\n",
            "conv2d_93 (Conv2D)              (None, 28, 28, 128)  32896       concatenate_13[0][0]             \n",
            "__________________________________________________________________________________________________\n",
            "conv2d_95 (Conv2D)              (None, 28, 28, 192)  221376      conv2d_94[0][0]                  \n",
            "__________________________________________________________________________________________________\n",
            "conv2d_97 (Conv2D)              (None, 28, 28, 96)   76896       conv2d_96[0][0]                  \n",
            "__________________________________________________________________________________________________\n",
            "conv2d_98 (Conv2D)              (None, 28, 28, 64)   16448       max_pooling2d_21[0][0]           \n",
            "__________________________________________________________________________________________________\n",
            "concatenate_14 (Concatenate)    (None, 28, 28, 480)  0           conv2d_93[0][0]                  \n",
            "                                                                 conv2d_95[0][0]                  \n",
            "                                                                 conv2d_97[0][0]                  \n",
            "                                                                 conv2d_98[0][0]                  \n",
            "__________________________________________________________________________________________________\n",
            "conv2d_100 (Conv2D)             (None, 28, 28, 128)  61568       concatenate_14[0][0]             \n",
            "__________________________________________________________________________________________________\n",
            "conv2d_102 (Conv2D)             (None, 28, 28, 32)   15392       concatenate_14[0][0]             \n",
            "__________________________________________________________________________________________________\n",
            "max_pooling2d_22 (MaxPooling2D) (None, 28, 28, 480)  0           concatenate_14[0][0]             \n",
            "__________________________________________________________________________________________________\n",
            "conv2d_99 (Conv2D)              (None, 28, 28, 128)  61568       concatenate_14[0][0]             \n",
            "__________________________________________________________________________________________________\n",
            "conv2d_101 (Conv2D)             (None, 28, 28, 192)  221376      conv2d_100[0][0]                 \n",
            "__________________________________________________________________________________________________\n",
            "conv2d_103 (Conv2D)             (None, 28, 28, 96)   76896       conv2d_102[0][0]                 \n",
            "__________________________________________________________________________________________________\n",
            "conv2d_104 (Conv2D)             (None, 28, 28, 64)   30784       max_pooling2d_22[0][0]           \n",
            "__________________________________________________________________________________________________\n",
            "concatenate_15 (Concatenate)    (None, 28, 28, 480)  0           conv2d_99[0][0]                  \n",
            "                                                                 conv2d_101[0][0]                 \n",
            "                                                                 conv2d_103[0][0]                 \n",
            "                                                                 conv2d_104[0][0]                 \n",
            "__________________________________________________________________________________________________\n",
            "max_pooling2d_23 (MaxPooling2D) (None, 14, 14, 480)  0           concatenate_15[0][0]             \n",
            "__________________________________________________________________________________________________\n",
            "conv2d_106 (Conv2D)             (None, 14, 14, 96)   46176       max_pooling2d_23[0][0]           \n",
            "__________________________________________________________________________________________________\n",
            "conv2d_108 (Conv2D)             (None, 14, 14, 16)   7696        max_pooling2d_23[0][0]           \n",
            "__________________________________________________________________________________________________\n",
            "max_pooling2d_24 (MaxPooling2D) (None, 14, 14, 480)  0           max_pooling2d_23[0][0]           \n",
            "__________________________________________________________________________________________________\n",
            "conv2d_105 (Conv2D)             (None, 14, 14, 192)  92352       max_pooling2d_23[0][0]           \n",
            "__________________________________________________________________________________________________\n",
            "conv2d_107 (Conv2D)             (None, 14, 14, 208)  179920      conv2d_106[0][0]                 \n",
            "__________________________________________________________________________________________________\n",
            "conv2d_109 (Conv2D)             (None, 14, 14, 48)   19248       conv2d_108[0][0]                 \n",
            "__________________________________________________________________________________________________\n",
            "conv2d_110 (Conv2D)             (None, 14, 14, 64)   30784       max_pooling2d_24[0][0]           \n",
            "__________________________________________________________________________________________________\n",
            "concatenate_16 (Concatenate)    (None, 14, 14, 512)  0           conv2d_105[0][0]                 \n",
            "                                                                 conv2d_107[0][0]                 \n",
            "                                                                 conv2d_109[0][0]                 \n",
            "                                                                 conv2d_110[0][0]                 \n",
            "__________________________________________________________________________________________________\n",
            "conv2d_112 (Conv2D)             (None, 14, 14, 112)  57456       concatenate_16[0][0]             \n",
            "__________________________________________________________________________________________________\n",
            "conv2d_114 (Conv2D)             (None, 14, 14, 24)   12312       concatenate_16[0][0]             \n",
            "__________________________________________________________________________________________________\n",
            "max_pooling2d_25 (MaxPooling2D) (None, 14, 14, 512)  0           concatenate_16[0][0]             \n",
            "__________________________________________________________________________________________________\n",
            "conv2d_111 (Conv2D)             (None, 14, 14, 160)  82080       concatenate_16[0][0]             \n",
            "__________________________________________________________________________________________________\n",
            "conv2d_113 (Conv2D)             (None, 14, 14, 224)  226016      conv2d_112[0][0]                 \n",
            "__________________________________________________________________________________________________\n",
            "conv2d_115 (Conv2D)             (None, 14, 14, 64)   38464       conv2d_114[0][0]                 \n",
            "__________________________________________________________________________________________________\n",
            "conv2d_116 (Conv2D)             (None, 14, 14, 64)   32832       max_pooling2d_25[0][0]           \n",
            "__________________________________________________________________________________________________\n",
            "concatenate_17 (Concatenate)    (None, 14, 14, 512)  0           conv2d_111[0][0]                 \n",
            "                                                                 conv2d_113[0][0]                 \n",
            "                                                                 conv2d_115[0][0]                 \n",
            "                                                                 conv2d_116[0][0]                 \n",
            "__________________________________________________________________________________________________\n",
            "conv2d_118 (Conv2D)             (None, 14, 14, 112)  57456       concatenate_17[0][0]             \n",
            "__________________________________________________________________________________________________\n",
            "conv2d_120 (Conv2D)             (None, 14, 14, 24)   12312       concatenate_17[0][0]             \n",
            "__________________________________________________________________________________________________\n",
            "max_pooling2d_26 (MaxPooling2D) (None, 14, 14, 512)  0           concatenate_17[0][0]             \n",
            "__________________________________________________________________________________________________\n",
            "conv2d_117 (Conv2D)             (None, 14, 14, 160)  82080       concatenate_17[0][0]             \n",
            "__________________________________________________________________________________________________\n",
            "conv2d_119 (Conv2D)             (None, 14, 14, 224)  226016      conv2d_118[0][0]                 \n",
            "__________________________________________________________________________________________________\n",
            "conv2d_121 (Conv2D)             (None, 14, 14, 64)   38464       conv2d_120[0][0]                 \n",
            "__________________________________________________________________________________________________\n",
            "conv2d_122 (Conv2D)             (None, 14, 14, 64)   32832       max_pooling2d_26[0][0]           \n",
            "__________________________________________________________________________________________________\n",
            "concatenate_18 (Concatenate)    (None, 14, 14, 512)  0           conv2d_117[0][0]                 \n",
            "                                                                 conv2d_119[0][0]                 \n",
            "                                                                 conv2d_121[0][0]                 \n",
            "                                                                 conv2d_122[0][0]                 \n",
            "__________________________________________________________________________________________________\n",
            "conv2d_124 (Conv2D)             (None, 14, 14, 128)  65664       concatenate_18[0][0]             \n",
            "__________________________________________________________________________________________________\n",
            "conv2d_126 (Conv2D)             (None, 14, 14, 24)   12312       concatenate_18[0][0]             \n",
            "__________________________________________________________________________________________________\n",
            "max_pooling2d_27 (MaxPooling2D) (None, 14, 14, 512)  0           concatenate_18[0][0]             \n",
            "__________________________________________________________________________________________________\n",
            "conv2d_123 (Conv2D)             (None, 14, 14, 128)  65664       concatenate_18[0][0]             \n",
            "__________________________________________________________________________________________________\n",
            "conv2d_125 (Conv2D)             (None, 14, 14, 256)  295168      conv2d_124[0][0]                 \n",
            "__________________________________________________________________________________________________\n",
            "conv2d_127 (Conv2D)             (None, 14, 14, 64)   38464       conv2d_126[0][0]                 \n",
            "__________________________________________________________________________________________________\n",
            "conv2d_128 (Conv2D)             (None, 14, 14, 64)   32832       max_pooling2d_27[0][0]           \n",
            "__________________________________________________________________________________________________\n",
            "concatenate_19 (Concatenate)    (None, 14, 14, 512)  0           conv2d_123[0][0]                 \n",
            "                                                                 conv2d_125[0][0]                 \n",
            "                                                                 conv2d_127[0][0]                 \n",
            "                                                                 conv2d_128[0][0]                 \n",
            "__________________________________________________________________________________________________\n",
            "conv2d_130 (Conv2D)             (None, 14, 14, 128)  65664       concatenate_19[0][0]             \n",
            "__________________________________________________________________________________________________\n",
            "conv2d_132 (Conv2D)             (None, 14, 14, 24)   12312       concatenate_19[0][0]             \n",
            "__________________________________________________________________________________________________\n",
            "max_pooling2d_28 (MaxPooling2D) (None, 14, 14, 512)  0           concatenate_19[0][0]             \n",
            "__________________________________________________________________________________________________\n",
            "conv2d_129 (Conv2D)             (None, 14, 14, 128)  65664       concatenate_19[0][0]             \n",
            "__________________________________________________________________________________________________\n",
            "conv2d_131 (Conv2D)             (None, 14, 14, 256)  295168      conv2d_130[0][0]                 \n",
            "__________________________________________________________________________________________________\n",
            "conv2d_133 (Conv2D)             (None, 14, 14, 64)   38464       conv2d_132[0][0]                 \n",
            "__________________________________________________________________________________________________\n",
            "conv2d_134 (Conv2D)             (None, 14, 14, 64)   32832       max_pooling2d_28[0][0]           \n",
            "__________________________________________________________________________________________________\n",
            "concatenate_20 (Concatenate)    (None, 14, 14, 512)  0           conv2d_129[0][0]                 \n",
            "                                                                 conv2d_131[0][0]                 \n",
            "                                                                 conv2d_133[0][0]                 \n",
            "                                                                 conv2d_134[0][0]                 \n",
            "__________________________________________________________________________________________________\n",
            "conv2d_136 (Conv2D)             (None, 14, 14, 144)  73872       concatenate_20[0][0]             \n",
            "__________________________________________________________________________________________________\n",
            "conv2d_138 (Conv2D)             (None, 14, 14, 32)   16416       concatenate_20[0][0]             \n",
            "__________________________________________________________________________________________________\n",
            "max_pooling2d_29 (MaxPooling2D) (None, 14, 14, 512)  0           concatenate_20[0][0]             \n",
            "__________________________________________________________________________________________________\n",
            "conv2d_135 (Conv2D)             (None, 14, 14, 112)  57456       concatenate_20[0][0]             \n",
            "__________________________________________________________________________________________________\n",
            "conv2d_137 (Conv2D)             (None, 14, 14, 288)  373536      conv2d_136[0][0]                 \n",
            "__________________________________________________________________________________________________\n",
            "conv2d_139 (Conv2D)             (None, 14, 14, 64)   51264       conv2d_138[0][0]                 \n",
            "__________________________________________________________________________________________________\n",
            "conv2d_140 (Conv2D)             (None, 14, 14, 64)   32832       max_pooling2d_29[0][0]           \n",
            "__________________________________________________________________________________________________\n",
            "concatenate_21 (Concatenate)    (None, 14, 14, 528)  0           conv2d_135[0][0]                 \n",
            "                                                                 conv2d_137[0][0]                 \n",
            "                                                                 conv2d_139[0][0]                 \n",
            "                                                                 conv2d_140[0][0]                 \n",
            "__________________________________________________________________________________________________\n",
            "conv2d_142 (Conv2D)             (None, 14, 14, 144)  76176       concatenate_21[0][0]             \n",
            "__________________________________________________________________________________________________\n",
            "conv2d_144 (Conv2D)             (None, 14, 14, 32)   16928       concatenate_21[0][0]             \n",
            "__________________________________________________________________________________________________\n",
            "max_pooling2d_30 (MaxPooling2D) (None, 14, 14, 528)  0           concatenate_21[0][0]             \n",
            "__________________________________________________________________________________________________\n",
            "conv2d_141 (Conv2D)             (None, 14, 14, 112)  59248       concatenate_21[0][0]             \n",
            "__________________________________________________________________________________________________\n",
            "conv2d_143 (Conv2D)             (None, 14, 14, 288)  373536      conv2d_142[0][0]                 \n",
            "__________________________________________________________________________________________________\n",
            "conv2d_145 (Conv2D)             (None, 14, 14, 64)   51264       conv2d_144[0][0]                 \n",
            "__________________________________________________________________________________________________\n",
            "conv2d_146 (Conv2D)             (None, 14, 14, 64)   33856       max_pooling2d_30[0][0]           \n",
            "__________________________________________________________________________________________________\n",
            "concatenate_22 (Concatenate)    (None, 14, 14, 528)  0           conv2d_141[0][0]                 \n",
            "                                                                 conv2d_143[0][0]                 \n",
            "                                                                 conv2d_145[0][0]                 \n",
            "                                                                 conv2d_146[0][0]                 \n",
            "__________________________________________________________________________________________________\n",
            "conv2d_148 (Conv2D)             (None, 14, 14, 144)  76176       concatenate_22[0][0]             \n",
            "__________________________________________________________________________________________________\n",
            "conv2d_150 (Conv2D)             (None, 14, 14, 32)   16928       concatenate_22[0][0]             \n",
            "__________________________________________________________________________________________________\n",
            "max_pooling2d_31 (MaxPooling2D) (None, 14, 14, 528)  0           concatenate_22[0][0]             \n",
            "__________________________________________________________________________________________________\n",
            "conv2d_147 (Conv2D)             (None, 14, 14, 112)  59248       concatenate_22[0][0]             \n",
            "__________________________________________________________________________________________________\n",
            "conv2d_149 (Conv2D)             (None, 14, 14, 288)  373536      conv2d_148[0][0]                 \n",
            "__________________________________________________________________________________________________\n",
            "conv2d_151 (Conv2D)             (None, 14, 14, 64)   51264       conv2d_150[0][0]                 \n",
            "__________________________________________________________________________________________________\n",
            "conv2d_152 (Conv2D)             (None, 14, 14, 64)   33856       max_pooling2d_31[0][0]           \n",
            "__________________________________________________________________________________________________\n",
            "concatenate_23 (Concatenate)    (None, 14, 14, 528)  0           conv2d_147[0][0]                 \n",
            "                                                                 conv2d_149[0][0]                 \n",
            "                                                                 conv2d_151[0][0]                 \n",
            "                                                                 conv2d_152[0][0]                 \n",
            "__________________________________________________________________________________________________\n",
            "conv2d_154 (Conv2D)             (None, 14, 14, 160)  84640       concatenate_23[0][0]             \n",
            "__________________________________________________________________________________________________\n",
            "conv2d_156 (Conv2D)             (None, 14, 14, 32)   16928       concatenate_23[0][0]             \n",
            "__________________________________________________________________________________________________\n",
            "max_pooling2d_32 (MaxPooling2D) (None, 14, 14, 528)  0           concatenate_23[0][0]             \n",
            "__________________________________________________________________________________________________\n",
            "conv2d_153 (Conv2D)             (None, 14, 14, 256)  135424      concatenate_23[0][0]             \n",
            "__________________________________________________________________________________________________\n",
            "conv2d_155 (Conv2D)             (None, 14, 14, 320)  461120      conv2d_154[0][0]                 \n",
            "__________________________________________________________________________________________________\n",
            "conv2d_157 (Conv2D)             (None, 14, 14, 128)  102528      conv2d_156[0][0]                 \n",
            "__________________________________________________________________________________________________\n",
            "conv2d_158 (Conv2D)             (None, 14, 14, 128)  67712       max_pooling2d_32[0][0]           \n",
            "__________________________________________________________________________________________________\n",
            "concatenate_24 (Concatenate)    (None, 14, 14, 832)  0           conv2d_153[0][0]                 \n",
            "                                                                 conv2d_155[0][0]                 \n",
            "                                                                 conv2d_157[0][0]                 \n",
            "                                                                 conv2d_158[0][0]                 \n",
            "__________________________________________________________________________________________________\n",
            "conv2d_160 (Conv2D)             (None, 14, 14, 160)  133280      concatenate_24[0][0]             \n",
            "__________________________________________________________________________________________________\n",
            "conv2d_162 (Conv2D)             (None, 14, 14, 32)   26656       concatenate_24[0][0]             \n",
            "__________________________________________________________________________________________________\n",
            "max_pooling2d_33 (MaxPooling2D) (None, 14, 14, 832)  0           concatenate_24[0][0]             \n",
            "__________________________________________________________________________________________________\n",
            "conv2d_159 (Conv2D)             (None, 14, 14, 256)  213248      concatenate_24[0][0]             \n",
            "__________________________________________________________________________________________________\n",
            "conv2d_161 (Conv2D)             (None, 14, 14, 320)  461120      conv2d_160[0][0]                 \n",
            "__________________________________________________________________________________________________\n",
            "conv2d_163 (Conv2D)             (None, 14, 14, 128)  102528      conv2d_162[0][0]                 \n",
            "__________________________________________________________________________________________________\n",
            "conv2d_164 (Conv2D)             (None, 14, 14, 128)  106624      max_pooling2d_33[0][0]           \n",
            "__________________________________________________________________________________________________\n",
            "concatenate_25 (Concatenate)    (None, 14, 14, 832)  0           conv2d_159[0][0]                 \n",
            "                                                                 conv2d_161[0][0]                 \n",
            "                                                                 conv2d_163[0][0]                 \n",
            "                                                                 conv2d_164[0][0]                 \n",
            "__________________________________________________________________________________________________\n",
            "max_pooling2d_34 (MaxPooling2D) (None, 7, 7, 832)    0           concatenate_25[0][0]             \n",
            "__________________________________________________________________________________________________\n",
            "conv2d_166 (Conv2D)             (None, 7, 7, 160)    133280      max_pooling2d_34[0][0]           \n",
            "__________________________________________________________________________________________________\n",
            "conv2d_168 (Conv2D)             (None, 7, 7, 32)     26656       max_pooling2d_34[0][0]           \n",
            "__________________________________________________________________________________________________\n",
            "max_pooling2d_35 (MaxPooling2D) (None, 7, 7, 832)    0           max_pooling2d_34[0][0]           \n",
            "__________________________________________________________________________________________________\n",
            "conv2d_165 (Conv2D)             (None, 7, 7, 256)    213248      max_pooling2d_34[0][0]           \n",
            "__________________________________________________________________________________________________\n",
            "conv2d_167 (Conv2D)             (None, 7, 7, 320)    461120      conv2d_166[0][0]                 \n",
            "__________________________________________________________________________________________________\n",
            "conv2d_169 (Conv2D)             (None, 7, 7, 128)    102528      conv2d_168[0][0]                 \n",
            "__________________________________________________________________________________________________\n",
            "conv2d_170 (Conv2D)             (None, 7, 7, 128)    106624      max_pooling2d_35[0][0]           \n",
            "__________________________________________________________________________________________________\n",
            "concatenate_26 (Concatenate)    (None, 7, 7, 832)    0           conv2d_165[0][0]                 \n",
            "                                                                 conv2d_167[0][0]                 \n",
            "                                                                 conv2d_169[0][0]                 \n",
            "                                                                 conv2d_170[0][0]                 \n",
            "__________________________________________________________________________________________________\n",
            "conv2d_172 (Conv2D)             (None, 7, 7, 192)    159936      concatenate_26[0][0]             \n",
            "__________________________________________________________________________________________________\n",
            "conv2d_174 (Conv2D)             (None, 7, 7, 48)     39984       concatenate_26[0][0]             \n",
            "__________________________________________________________________________________________________\n",
            "max_pooling2d_36 (MaxPooling2D) (None, 7, 7, 832)    0           concatenate_26[0][0]             \n",
            "__________________________________________________________________________________________________\n",
            "conv2d_171 (Conv2D)             (None, 7, 7, 384)    319872      concatenate_26[0][0]             \n",
            "__________________________________________________________________________________________________\n",
            "conv2d_173 (Conv2D)             (None, 7, 7, 384)    663936      conv2d_172[0][0]                 \n",
            "__________________________________________________________________________________________________\n",
            "conv2d_175 (Conv2D)             (None, 7, 7, 128)    153728      conv2d_174[0][0]                 \n",
            "__________________________________________________________________________________________________\n",
            "conv2d_176 (Conv2D)             (None, 7, 7, 128)    106624      max_pooling2d_36[0][0]           \n",
            "__________________________________________________________________________________________________\n",
            "concatenate_27 (Concatenate)    (None, 7, 7, 1024)   0           conv2d_171[0][0]                 \n",
            "                                                                 conv2d_173[0][0]                 \n",
            "                                                                 conv2d_175[0][0]                 \n",
            "                                                                 conv2d_176[0][0]                 \n",
            "__________________________________________________________________________________________________\n",
            "conv2d_178 (Conv2D)             (None, 7, 7, 192)    196800      concatenate_27[0][0]             \n",
            "__________________________________________________________________________________________________\n",
            "conv2d_180 (Conv2D)             (None, 7, 7, 48)     49200       concatenate_27[0][0]             \n",
            "__________________________________________________________________________________________________\n",
            "max_pooling2d_37 (MaxPooling2D) (None, 7, 7, 1024)   0           concatenate_27[0][0]             \n",
            "__________________________________________________________________________________________________\n",
            "conv2d_177 (Conv2D)             (None, 7, 7, 384)    393600      concatenate_27[0][0]             \n",
            "__________________________________________________________________________________________________\n",
            "conv2d_179 (Conv2D)             (None, 7, 7, 384)    663936      conv2d_178[0][0]                 \n",
            "__________________________________________________________________________________________________\n",
            "conv2d_181 (Conv2D)             (None, 7, 7, 128)    153728      conv2d_180[0][0]                 \n",
            "__________________________________________________________________________________________________\n",
            "conv2d_182 (Conv2D)             (None, 7, 7, 128)    131200      max_pooling2d_37[0][0]           \n",
            "__________________________________________________________________________________________________\n",
            "concatenate_28 (Concatenate)    (None, 7, 7, 1024)   0           conv2d_177[0][0]                 \n",
            "                                                                 conv2d_179[0][0]                 \n",
            "                                                                 conv2d_181[0][0]                 \n",
            "                                                                 conv2d_182[0][0]                 \n",
            "__________________________________________________________________________________________________\n",
            "average_pooling2d_1 (AveragePoo (None, 1, 1, 1024)   0           concatenate_28[0][0]             \n",
            "__________________________________________________________________________________________________\n",
            "flatten_1 (Flatten)             (None, 1024)         0           average_pooling2d_1[0][0]        \n",
            "__________________________________________________________________________________________________\n",
            "dropout_1 (Dropout)             (None, 1024)         0           flatten_1[0][0]                  \n",
            "__________________________________________________________________________________________________\n",
            "dense_1 (Dense)                 (None, 10)           10250       dropout_1[0][0]                  \n",
            "__________________________________________________________________________________________________\n",
            "activation_1 (Activation)       (None, 10)           0           dense_1[0][0]                    \n",
            "==================================================================================================\n",
            "Total params: 11,264,586\n",
            "Trainable params: 11,264,586\n",
            "Non-trainable params: 0\n",
            "__________________________________________________________________________________________________\n"
          ],
          "name": "stdout"
        }
      ]
    },
    {
      "cell_type": "code",
      "metadata": {
        "id": "oK4sLhECy9y7"
      },
      "source": [
        "model.compile(loss='categorical_crossentropy', optimizer='adam', metrics=['accuracy'])"
      ],
      "execution_count": 23,
      "outputs": []
    },
    {
      "cell_type": "code",
      "metadata": {
        "id": "TlCv1LVrzfBi"
      },
      "source": [
        "EPOCHS = 40\n",
        "BUFFER_SIZE = 500\n",
        "BATCH_SIZE = 32\n",
        "processed_train_image_ds.batch(BATCH_SIZE)\n",
        "train_dataset = processed_train_image_ds.cache().shuffle(BUFFER_SIZE).batch(BATCH_SIZE)\n",
        "processed_val_image_ds.batch(BATCH_SIZE)\n",
        "val_dataset = processed_val_image_ds.cache().shuffle(BUFFER_SIZE).batch(BATCH_SIZE)"
      ],
      "execution_count": 31,
      "outputs": []
    },
    {
      "cell_type": "code",
      "metadata": {
        "id": "XuycRaYYzjrX"
      },
      "source": [
        "history = model.fit(train_dataset, epochs=EPOCHS, \n",
        "            validation_data=val_dataset,\n",
        "            validation_freq=1)"
      ],
      "execution_count": null,
      "outputs": []
    },
    {
      "cell_type": "markdown",
      "metadata": {
        "id": "3Y1zrim-LlSF"
      },
      "source": [
        "# 4.Evaluation"
      ]
    },
    {
      "cell_type": "code",
      "metadata": {
        "id": "IgDfqTcUznFO"
      },
      "source": [
        "history_dict = history.history\n",
        "print(history_dict.keys())\n",
        "\n",
        "acc = history_dict['accuracy']\n",
        "val_acc = history_dict['val_accuracy']\n",
        "loss = history_dict['loss']\n",
        "val_loss = history_dict['val_loss']\n",
        "\n",
        "epochs = range(1, len(acc) + 1)\n",
        "fig = plt.figure(figsize=(10, 6))\n",
        "fig.tight_layout()\n",
        "\n",
        "plt.subplot(2, 1, 1)\n",
        "# \"bo\" is for \"blue dot\"\n",
        "plt.plot(epochs, loss, 'r', label='Training loss')\n",
        "# b is for \"solid blue line\"\n",
        "plt.plot(epochs, val_loss, 'b', label='Validation loss')\n",
        "plt.title('Training and validation loss')\n",
        "# plt.xlabel('Epochs')\n",
        "plt.ylabel('Loss')\n",
        "plt.legend()\n",
        "\n",
        "plt.subplot(2, 1, 2)\n",
        "plt.plot(epochs, acc, 'r', label='Training acc')\n",
        "plt.plot(epochs, val_acc, 'b', label='Validation acc')\n",
        "plt.title('Training and validation accuracy')\n",
        "plt.xlabel('Epochs')\n",
        "plt.ylabel('Accuracy')\n",
        "plt.legend(loc='lower right')\n",
        "\n",
        "fig.show()\n",
        "\n",
        "fig.savefig('samplefigure2.png')\n",
        "files.download('samplefigure2.png')"
      ],
      "execution_count": null,
      "outputs": []
    },
    {
      "cell_type": "markdown",
      "metadata": {
        "id": "BkAQSW8TKm0j"
      },
      "source": [
        "AUC"
      ]
    },
    {
      "cell_type": "code",
      "metadata": {
        "id": "FSRqyiimKc_a"
      },
      "source": [
        "y_test = test_breeds\n",
        "test_dataset = processed_test_image_ds.batch(BATCH_SIZE)\n",
        "y_preds = model.predict(test_dataset)"
      ],
      "execution_count": null,
      "outputs": []
    },
    {
      "cell_type": "code",
      "metadata": {
        "id": "eBzk3CsoKl96"
      },
      "source": [
        "m = tf.keras.metrics.AUC(num_thresholds=3)\n",
        "m.update_state(y_test, y_preds)\n",
        "m.result().numpy()"
      ],
      "execution_count": null,
      "outputs": []
    },
    {
      "cell_type": "code",
      "metadata": {
        "id": "Kq_t4kvAKHy0"
      },
      "source": [
        "from sklearn.metrics import confusion_matrix\n",
        "from sklearn.metrics import classification_report\n",
        "from sklearn.metrics import plot_roc_curve"
      ],
      "execution_count": null,
      "outputs": []
    },
    {
      "cell_type": "markdown",
      "metadata": {
        "id": "5bE5n7XjKtOM"
      },
      "source": [
        "ROC curve"
      ]
    },
    {
      "cell_type": "code",
      "metadata": {
        "id": "AIZnwEWTKNqj"
      },
      "source": [
        "plot_roc_curve(model, test_dataset, y_test);"
      ],
      "execution_count": null,
      "outputs": []
    },
    {
      "cell_type": "markdown",
      "metadata": {
        "id": "6ihTchTfK-mB"
      },
      "source": [
        "Classification report"
      ]
    },
    {
      "cell_type": "code",
      "metadata": {
        "id": "yU6oadzSK94u"
      },
      "source": [
        "print(classification_report(y_test, y_preds))"
      ],
      "execution_count": null,
      "outputs": []
    },
    {
      "cell_type": "markdown",
      "metadata": {
        "id": "UtXE8__6LPhm"
      },
      "source": [
        "Confusion matrix"
      ]
    },
    {
      "cell_type": "code",
      "metadata": {
        "id": "G4UIRRZALQUY"
      },
      "source": [
        "# Import Seaborn\n",
        "import seaborn as sns\n",
        "sns.set(font_scale=1.5) # Increase font size\n",
        "\n",
        "def plot_conf_mat(y_test, y_preds):\n",
        "    \"\"\"\n",
        "    Plots a confusion matrix using Seaborn's heatmap().\n",
        "    \"\"\"\n",
        "    fig, ax = plt.subplots(figsize=(3, 3))\n",
        "    ax = sns.heatmap(confusion_matrix(y_test, y_preds),\n",
        "                     annot=True, # Annotate the boxes\n",
        "                     cbar=False)\n",
        "    plt.xlabel(\"true label\")\n",
        "    plt.ylabel(\"predicted label\")\n",
        "    \n",
        "plot_conf_mat(y_test, y_preds)"
      ],
      "execution_count": null,
      "outputs": []
    }
  ]
}