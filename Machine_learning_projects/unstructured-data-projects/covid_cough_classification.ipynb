{
  "nbformat": 4,
  "nbformat_minor": 0,
  "metadata": {
    "colab": {
      "name": "covid_cough_classification.ipynb",
      "provenance": [],
      "collapsed_sections": []
    },
    "kernelspec": {
      "display_name": "Python 3",
      "language": "python",
      "name": "python3"
    },
    "language_info": {
      "codemirror_mode": {
        "name": "ipython",
        "version": 3
      },
      "file_extension": ".py",
      "mimetype": "text/x-python",
      "name": "python",
      "nbconvert_exporter": "python",
      "pygments_lexer": "ipython3",
      "version": "3.8.8"
    },
    "accelerator": "GPU"
  },
  "cells": [
    {
      "cell_type": "markdown",
      "metadata": {
        "id": "_Ql6g2457sEF"
      },
      "source": [
        "# Coughvid data set used for categorizing cough as covid+ or healthy"
      ]
    },
    {
      "cell_type": "markdown",
      "metadata": {
        "id": "vep9fzYS7k8Q"
      },
      "source": [
        "Importing libraries"
      ]
    },
    {
      "cell_type": "code",
      "metadata": {
        "id": "uL2vpngqLQZI"
      },
      "source": [
        "import numpy as np\n",
        "import tensorflow as tf\n",
        "import pandas as pd\n",
        "import os\n",
        "import subprocess\n",
        "from pathlib import Path"
      ],
      "execution_count": null,
      "outputs": []
    },
    {
      "cell_type": "code",
      "metadata": {
        "id": "R2GT0NUxMu-_"
      },
      "source": [
        "from tensorflow.keras.layers import Input\n",
        "from tensorflow.keras.layers import Conv2D\n",
        "from tensorflow.keras.layers import LSTM\n",
        "from tensorflow.keras.layers import Reshape\n",
        "from tensorflow.keras.layers import MaxPooling2D\n",
        "from tensorflow.keras.layers import AveragePooling2D\n",
        "from tensorflow.keras.layers import Dropout \n",
        "from tensorflow.keras.layers import Dense\n",
        "from tensorflow.keras.layers import Concatenate\n",
        "from tensorflow.keras.layers import Activation\n",
        "from tensorflow.keras.layers import Add\n",
        "from tensorflow.keras.layers import Flatten\n",
        "from tensorflow.nn import local_response_normalization\n",
        "from keras.preprocessing.sequence import pad_sequences"
      ],
      "execution_count": null,
      "outputs": []
    },
    {
      "cell_type": "code",
      "metadata": {
        "id": "tlvQn4V3LQZT"
      },
      "source": [
        "import matplotlib.pyplot as plt\n",
        "import librosa\n",
        "from scipy import signal\n",
        "from scipy.io import wavfile\n",
        "from scipy.signal import butter,filtfilt\n",
        "from scipy.stats import kurtosis\n",
        "import scipy.signal as signal\n",
        "from scipy import signal\n",
        "from scipy.io import wavfile\n",
        "from scipy.signal import butter,filtfilt\n",
        "from scipy.signal import cwt\n",
        "from scipy.signal import hilbert\n",
        "from scipy.signal import resample\n",
        "from scipy.signal import decimate\n",
        "from scipy.signal import spectrogram\n",
        "from scipy.signal.windows import get_window\n",
        "import os\n",
        "import sys"
      ],
      "execution_count": null,
      "outputs": []
    },
    {
      "cell_type": "markdown",
      "metadata": {
        "id": "mvnGCtlP76nK"
      },
      "source": [
        "# Cleaning Data\n",
        "converting .webm and.ogg to .wav files"
      ]
    },
    {
      "cell_type": "code",
      "metadata": {
        "id": "QXa-tz0JLQZU"
      },
      "source": [
        "def convert_files(folder):\n",
        "    \"\"\"Convert files from .webm and .ogg to .wav\n",
        "    folder: path to coughvid database and metadata_compiled csv\"\"\"\n",
        "    \n",
        "    df = pd.read_csv(folder + 'metadata_compiled.csv')\n",
        "    names_to_convert = df.uuid.to_numpy()\n",
        "    for counter, name in enumerate(names_to_convert):\n",
        "        if (counter%1000 == 0):\n",
        "            print(\"Finished {0}/{1}\".format(counter,len(names_to_convert)))\n",
        "        if os.path.isfile(folder + name + '.webm'):\n",
        "            subprocess.call([\"ffmpeg\", \"-i\", folder+name+\".webm\", folder+name+\".wav\"])\n",
        "        elif os.path.isfile(folder + name + '.ogg'):\n",
        "            subprocess.call([\"ffmpeg\", \"-i\", folder+name+\".ogg\", folder+name+\".wav\"])\n",
        "        else:\n",
        "            print(\"Error: No file name {0}\".format(name))"
      ],
      "execution_count": null,
      "outputs": []
    },
    {
      "cell_type": "code",
      "metadata": {
        "id": "zpSrf2SqLQZW",
        "outputId": "21fd002e-9565-4b0c-e6e0-653c30d12747"
      },
      "source": [
        "convert_files(\"./public_dataset/\")"
      ],
      "execution_count": null,
      "outputs": [
        {
          "output_type": "stream",
          "text": [
            "Finished 0/27550\n",
            "Finished 1000/27550\n",
            "Finished 2000/27550\n",
            "Finished 3000/27550\n",
            "Finished 4000/27550\n",
            "Finished 5000/27550\n",
            "Finished 6000/27550\n",
            "Finished 7000/27550\n",
            "Finished 8000/27550\n",
            "Finished 9000/27550\n",
            "Finished 10000/27550\n",
            "Finished 11000/27550\n",
            "Finished 12000/27550\n",
            "Finished 13000/27550\n",
            "Finished 14000/27550\n",
            "Finished 15000/27550\n",
            "Finished 16000/27550\n",
            "Finished 17000/27550\n",
            "Finished 18000/27550\n",
            "Finished 19000/27550\n",
            "Finished 20000/27550\n",
            "Finished 21000/27550\n",
            "Finished 22000/27550\n",
            "Finished 23000/27550\n",
            "Finished 24000/27550\n",
            "Finished 25000/27550\n",
            "Finished 26000/27550\n",
            "Finished 27000/27550\n"
          ],
          "name": "stdout"
        }
      ]
    },
    {
      "cell_type": "code",
      "metadata": {
        "id": "0tMPkxMHLQZX"
      },
      "source": [
        "df = pd.read_csv(\"./public_dataset/metadata_compiled.csv\")"
      ],
      "execution_count": null,
      "outputs": []
    },
    {
      "cell_type": "code",
      "metadata": {
        "id": "5DyT5q57LQZY"
      },
      "source": [
        "coughvid_dataset = df"
      ],
      "execution_count": null,
      "outputs": []
    },
    {
      "cell_type": "code",
      "metadata": {
        "id": "Hu_khaoALQZZ",
        "outputId": "a21c23e8-5472-4c43-9565-1f98efe361a9"
      },
      "source": [
        "coughvid_dataset.head()"
      ],
      "execution_count": null,
      "outputs": [
        {
          "output_type": "execute_result",
          "data": {
            "text/html": [
              "<div>\n",
              "<style scoped>\n",
              "    .dataframe tbody tr th:only-of-type {\n",
              "        vertical-align: middle;\n",
              "    }\n",
              "\n",
              "    .dataframe tbody tr th {\n",
              "        vertical-align: top;\n",
              "    }\n",
              "\n",
              "    .dataframe thead th {\n",
              "        text-align: right;\n",
              "    }\n",
              "</style>\n",
              "<table border=\"1\" class=\"dataframe\">\n",
              "  <thead>\n",
              "    <tr style=\"text-align: right;\">\n",
              "      <th></th>\n",
              "      <th>uuid</th>\n",
              "      <th>datetime</th>\n",
              "      <th>cough_detected</th>\n",
              "      <th>SNR</th>\n",
              "      <th>latitude</th>\n",
              "      <th>longitude</th>\n",
              "      <th>age</th>\n",
              "      <th>gender</th>\n",
              "      <th>respiratory_condition</th>\n",
              "      <th>fever_muscle_pain</th>\n",
              "      <th>...</th>\n",
              "      <th>quality_4</th>\n",
              "      <th>cough_type_4</th>\n",
              "      <th>dyspnea_4</th>\n",
              "      <th>wheezing_4</th>\n",
              "      <th>stridor_4</th>\n",
              "      <th>choking_4</th>\n",
              "      <th>congestion_4</th>\n",
              "      <th>nothing_4</th>\n",
              "      <th>diagnosis_4</th>\n",
              "      <th>severity_4</th>\n",
              "    </tr>\n",
              "  </thead>\n",
              "  <tbody>\n",
              "    <tr>\n",
              "      <th>0</th>\n",
              "      <td>00014dcc-0f06-4c27-8c7b-737b18a2cf4c</td>\n",
              "      <td>2020-11-25T18:58:50.488301+00:00</td>\n",
              "      <td>0.0155</td>\n",
              "      <td>7.326171</td>\n",
              "      <td>48.9</td>\n",
              "      <td>2.4</td>\n",
              "      <td>NaN</td>\n",
              "      <td>NaN</td>\n",
              "      <td>NaN</td>\n",
              "      <td>NaN</td>\n",
              "      <td>...</td>\n",
              "      <td>NaN</td>\n",
              "      <td>NaN</td>\n",
              "      <td>NaN</td>\n",
              "      <td>NaN</td>\n",
              "      <td>NaN</td>\n",
              "      <td>NaN</td>\n",
              "      <td>NaN</td>\n",
              "      <td>NaN</td>\n",
              "      <td>NaN</td>\n",
              "      <td>NaN</td>\n",
              "    </tr>\n",
              "    <tr>\n",
              "      <th>1</th>\n",
              "      <td>00039425-7f3a-42aa-ac13-834aaa2b6b92</td>\n",
              "      <td>2020-04-13T21:30:59.801831+00:00</td>\n",
              "      <td>0.9609</td>\n",
              "      <td>16.151433</td>\n",
              "      <td>31.3</td>\n",
              "      <td>34.8</td>\n",
              "      <td>15.0</td>\n",
              "      <td>male</td>\n",
              "      <td>False</td>\n",
              "      <td>False</td>\n",
              "      <td>...</td>\n",
              "      <td>NaN</td>\n",
              "      <td>NaN</td>\n",
              "      <td>NaN</td>\n",
              "      <td>NaN</td>\n",
              "      <td>NaN</td>\n",
              "      <td>NaN</td>\n",
              "      <td>NaN</td>\n",
              "      <td>NaN</td>\n",
              "      <td>NaN</td>\n",
              "      <td>NaN</td>\n",
              "    </tr>\n",
              "    <tr>\n",
              "      <th>2</th>\n",
              "      <td>0007c6f1-5441-40e6-9aaf-a761d8f2da3b</td>\n",
              "      <td>2020-10-18T15:38:38.205870+00:00</td>\n",
              "      <td>0.1643</td>\n",
              "      <td>16.217201</td>\n",
              "      <td>NaN</td>\n",
              "      <td>NaN</td>\n",
              "      <td>46.0</td>\n",
              "      <td>female</td>\n",
              "      <td>False</td>\n",
              "      <td>False</td>\n",
              "      <td>...</td>\n",
              "      <td>NaN</td>\n",
              "      <td>NaN</td>\n",
              "      <td>NaN</td>\n",
              "      <td>NaN</td>\n",
              "      <td>NaN</td>\n",
              "      <td>NaN</td>\n",
              "      <td>NaN</td>\n",
              "      <td>NaN</td>\n",
              "      <td>NaN</td>\n",
              "      <td>NaN</td>\n",
              "    </tr>\n",
              "    <tr>\n",
              "      <th>3</th>\n",
              "      <td>0009eb28-d8be-4dc1-92bb-907e53bc5c7a</td>\n",
              "      <td>2020-04-12T04:02:18.159383+00:00</td>\n",
              "      <td>0.9301</td>\n",
              "      <td>20.146058</td>\n",
              "      <td>40.0</td>\n",
              "      <td>-75.1</td>\n",
              "      <td>34.0</td>\n",
              "      <td>male</td>\n",
              "      <td>True</td>\n",
              "      <td>False</td>\n",
              "      <td>...</td>\n",
              "      <td>NaN</td>\n",
              "      <td>NaN</td>\n",
              "      <td>NaN</td>\n",
              "      <td>NaN</td>\n",
              "      <td>NaN</td>\n",
              "      <td>NaN</td>\n",
              "      <td>NaN</td>\n",
              "      <td>NaN</td>\n",
              "      <td>NaN</td>\n",
              "      <td>NaN</td>\n",
              "    </tr>\n",
              "    <tr>\n",
              "      <th>4</th>\n",
              "      <td>0012c608-33d0-4ef7-bde3-75a0b1a0024e</td>\n",
              "      <td>2020-04-15T01:03:59.029326+00:00</td>\n",
              "      <td>0.0482</td>\n",
              "      <td>0.000000</td>\n",
              "      <td>-16.5</td>\n",
              "      <td>-71.5</td>\n",
              "      <td>NaN</td>\n",
              "      <td>NaN</td>\n",
              "      <td>NaN</td>\n",
              "      <td>NaN</td>\n",
              "      <td>...</td>\n",
              "      <td>NaN</td>\n",
              "      <td>NaN</td>\n",
              "      <td>NaN</td>\n",
              "      <td>NaN</td>\n",
              "      <td>NaN</td>\n",
              "      <td>NaN</td>\n",
              "      <td>NaN</td>\n",
              "      <td>NaN</td>\n",
              "      <td>NaN</td>\n",
              "      <td>NaN</td>\n",
              "    </tr>\n",
              "  </tbody>\n",
              "</table>\n",
              "<p>5 rows × 51 columns</p>\n",
              "</div>"
            ],
            "text/plain": [
              "                                   uuid                          datetime  \\\n",
              "0  00014dcc-0f06-4c27-8c7b-737b18a2cf4c  2020-11-25T18:58:50.488301+00:00   \n",
              "1  00039425-7f3a-42aa-ac13-834aaa2b6b92  2020-04-13T21:30:59.801831+00:00   \n",
              "2  0007c6f1-5441-40e6-9aaf-a761d8f2da3b  2020-10-18T15:38:38.205870+00:00   \n",
              "3  0009eb28-d8be-4dc1-92bb-907e53bc5c7a  2020-04-12T04:02:18.159383+00:00   \n",
              "4  0012c608-33d0-4ef7-bde3-75a0b1a0024e  2020-04-15T01:03:59.029326+00:00   \n",
              "\n",
              "   cough_detected        SNR  latitude  longitude   age  gender  \\\n",
              "0          0.0155   7.326171      48.9        2.4   NaN     NaN   \n",
              "1          0.9609  16.151433      31.3       34.8  15.0    male   \n",
              "2          0.1643  16.217201       NaN        NaN  46.0  female   \n",
              "3          0.9301  20.146058      40.0      -75.1  34.0    male   \n",
              "4          0.0482   0.000000     -16.5      -71.5   NaN     NaN   \n",
              "\n",
              "  respiratory_condition fever_muscle_pain  ... quality_4 cough_type_4  \\\n",
              "0                   NaN               NaN  ...       NaN          NaN   \n",
              "1                 False             False  ...       NaN          NaN   \n",
              "2                 False             False  ...       NaN          NaN   \n",
              "3                  True             False  ...       NaN          NaN   \n",
              "4                   NaN               NaN  ...       NaN          NaN   \n",
              "\n",
              "  dyspnea_4 wheezing_4 stridor_4 choking_4 congestion_4 nothing_4 diagnosis_4  \\\n",
              "0       NaN        NaN       NaN       NaN          NaN       NaN         NaN   \n",
              "1       NaN        NaN       NaN       NaN          NaN       NaN         NaN   \n",
              "2       NaN        NaN       NaN       NaN          NaN       NaN         NaN   \n",
              "3       NaN        NaN       NaN       NaN          NaN       NaN         NaN   \n",
              "4       NaN        NaN       NaN       NaN          NaN       NaN         NaN   \n",
              "\n",
              "  severity_4  \n",
              "0        NaN  \n",
              "1        NaN  \n",
              "2        NaN  \n",
              "3        NaN  \n",
              "4        NaN  \n",
              "\n",
              "[5 rows x 51 columns]"
            ]
          },
          "metadata": {
            "tags": []
          },
          "execution_count": 5
        }
      ]
    },
    {
      "cell_type": "code",
      "metadata": {
        "id": "desl0249LQZa",
        "outputId": "6db88ee0-c69c-4342-ba37-4176e0fb780f"
      },
      "source": [
        "coughvid_dataset.info()"
      ],
      "execution_count": null,
      "outputs": [
        {
          "output_type": "stream",
          "text": [
            "<class 'pandas.core.frame.DataFrame'>\n",
            "RangeIndex: 27550 entries, 0 to 27549\n",
            "Data columns (total 51 columns):\n",
            " #   Column                 Non-Null Count  Dtype  \n",
            "---  ------                 --------------  -----  \n",
            " 0   uuid                   27550 non-null  object \n",
            " 1   datetime               27550 non-null  object \n",
            " 2   cough_detected         27550 non-null  float64\n",
            " 3   SNR                    27550 non-null  float64\n",
            " 4   latitude               16084 non-null  float64\n",
            " 5   longitude              16084 non-null  float64\n",
            " 6   age                    15218 non-null  float64\n",
            " 7   gender                 16224 non-null  object \n",
            " 8   respiratory_condition  16224 non-null  object \n",
            " 9   fever_muscle_pain      16224 non-null  object \n",
            " 10  status                 16224 non-null  object \n",
            " 11  quality_1              820 non-null    object \n",
            " 12  cough_type_1           802 non-null    object \n",
            " 13  dyspnea_1              820 non-null    object \n",
            " 14  wheezing_1             820 non-null    object \n",
            " 15  stridor_1              820 non-null    object \n",
            " 16  choking_1              820 non-null    object \n",
            " 17  congestion_1           820 non-null    object \n",
            " 18  nothing_1              820 non-null    object \n",
            " 19  diagnosis_1            802 non-null    object \n",
            " 20  severity_1             802 non-null    object \n",
            " 21  quality_2              820 non-null    object \n",
            " 22  cough_type_2           801 non-null    object \n",
            " 23  dyspnea_2              820 non-null    object \n",
            " 24  wheezing_2             820 non-null    object \n",
            " 25  stridor_2              820 non-null    object \n",
            " 26  choking_2              820 non-null    object \n",
            " 27  congestion_2           820 non-null    object \n",
            " 28  nothing_2              820 non-null    object \n",
            " 29  diagnosis_2            802 non-null    object \n",
            " 30  severity_2             802 non-null    object \n",
            " 31  quality_3              820 non-null    object \n",
            " 32  cough_type_3           795 non-null    object \n",
            " 33  dyspnea_3              820 non-null    object \n",
            " 34  wheezing_3             820 non-null    object \n",
            " 35  stridor_3              820 non-null    object \n",
            " 36  choking_3              820 non-null    object \n",
            " 37  congestion_3           820 non-null    object \n",
            " 38  nothing_3              820 non-null    object \n",
            " 39  diagnosis_3            792 non-null    object \n",
            " 40  severity_3             795 non-null    object \n",
            " 41  quality_4              820 non-null    object \n",
            " 42  cough_type_4           801 non-null    object \n",
            " 43  dyspnea_4              820 non-null    object \n",
            " 44  wheezing_4             820 non-null    object \n",
            " 45  stridor_4              820 non-null    object \n",
            " 46  choking_4              820 non-null    object \n",
            " 47  congestion_4           820 non-null    object \n",
            " 48  nothing_4              820 non-null    object \n",
            " 49  diagnosis_4            789 non-null    object \n",
            " 50  severity_4             799 non-null    object \n",
            "dtypes: float64(5), object(46)\n",
            "memory usage: 10.7+ MB\n"
          ],
          "name": "stdout"
        }
      ]
    },
    {
      "cell_type": "code",
      "metadata": {
        "id": "16gXsLRLLQZb",
        "scrolled": true,
        "outputId": "1e5a5324-3d4e-41d3-d4f6-7ad5e369e573"
      },
      "source": [
        "coughvid_dataset[\"status\"].unique()"
      ],
      "execution_count": null,
      "outputs": [
        {
          "output_type": "execute_result",
          "data": {
            "text/plain": [
              "array([nan, 'healthy', 'COVID-19', 'symptomatic'], dtype=object)"
            ]
          },
          "metadata": {
            "tags": []
          },
          "execution_count": 6
        }
      ]
    },
    {
      "cell_type": "markdown",
      "metadata": {
        "id": "TvrhQLl18Ih1"
      },
      "source": [
        "labeling Nan data using dignosis 1/2/3/4 columns"
      ]
    },
    {
      "cell_type": "code",
      "metadata": {
        "id": "wkqZSc7nLQZc",
        "outputId": "ac73d543-258c-436d-b6fe-c2a37cafbdf8"
      },
      "source": [
        "for idx in coughvid_dataset.index:\n",
        "    if ((pd.isnull(coughvid_dataset[\"status\"][idx]) or coughvid_dataset[\"status\"][idx] == \"healthy\") \n",
        "    and (coughvid_dataset[\"diagnosis_1\"][idx] == \"COVID-19\" \n",
        "         or coughvid_dataset[\"diagnosis_2\"][idx] == \"COVID-19\"\n",
        "        or coughvid_dataset[\"diagnosis_3\"][idx] == \"COVID-19\"\n",
        "        or coughvid_dataset[\"diagnosis_4\"][idx] == \"COVID-19\")) or coughvid_dataset[\"status\"][idx] == 'symptomatic':\n",
        "        coughvid_dataset[\"status\"][idx] = \"COVID_19\"\n",
        "        "
      ],
      "execution_count": null,
      "outputs": [
        {
          "output_type": "stream",
          "text": [
            "<ipython-input-9-afaa66e0f316>:7: SettingWithCopyWarning: \n",
            "A value is trying to be set on a copy of a slice from a DataFrame\n",
            "\n",
            "See the caveats in the documentation: https://pandas.pydata.org/pandas-docs/stable/user_guide/indexing.html#returning-a-view-versus-a-copy\n",
            "  coughvid_dataset[\"status\"][idx] = \"COVID_19\"\n"
          ],
          "name": "stderr"
        }
      ]
    },
    {
      "cell_type": "code",
      "metadata": {
        "id": "yubxpGzPLQZd",
        "outputId": "dce08a84-29ef-4c9a-c688-a0bdcf185989"
      },
      "source": [
        "coughvid_dataset.info()"
      ],
      "execution_count": null,
      "outputs": [
        {
          "output_type": "stream",
          "text": [
            "<class 'pandas.core.frame.DataFrame'>\n",
            "RangeIndex: 27550 entries, 0 to 27549\n",
            "Data columns (total 51 columns):\n",
            " #   Column                 Non-Null Count  Dtype  \n",
            "---  ------                 --------------  -----  \n",
            " 0   uuid                   27550 non-null  object \n",
            " 1   datetime               27550 non-null  object \n",
            " 2   cough_detected         27550 non-null  float64\n",
            " 3   SNR                    27550 non-null  float64\n",
            " 4   latitude               16084 non-null  float64\n",
            " 5   longitude              16084 non-null  float64\n",
            " 6   age                    15218 non-null  float64\n",
            " 7   gender                 16224 non-null  object \n",
            " 8   respiratory_condition  16224 non-null  object \n",
            " 9   fever_muscle_pain      16224 non-null  object \n",
            " 10  status                 16300 non-null  object \n",
            " 11  quality_1              820 non-null    object \n",
            " 12  cough_type_1           802 non-null    object \n",
            " 13  dyspnea_1              820 non-null    object \n",
            " 14  wheezing_1             820 non-null    object \n",
            " 15  stridor_1              820 non-null    object \n",
            " 16  choking_1              820 non-null    object \n",
            " 17  congestion_1           820 non-null    object \n",
            " 18  nothing_1              820 non-null    object \n",
            " 19  diagnosis_1            802 non-null    object \n",
            " 20  severity_1             802 non-null    object \n",
            " 21  quality_2              820 non-null    object \n",
            " 22  cough_type_2           801 non-null    object \n",
            " 23  dyspnea_2              820 non-null    object \n",
            " 24  wheezing_2             820 non-null    object \n",
            " 25  stridor_2              820 non-null    object \n",
            " 26  choking_2              820 non-null    object \n",
            " 27  congestion_2           820 non-null    object \n",
            " 28  nothing_2              820 non-null    object \n",
            " 29  diagnosis_2            802 non-null    object \n",
            " 30  severity_2             802 non-null    object \n",
            " 31  quality_3              820 non-null    object \n",
            " 32  cough_type_3           795 non-null    object \n",
            " 33  dyspnea_3              820 non-null    object \n",
            " 34  wheezing_3             820 non-null    object \n",
            " 35  stridor_3              820 non-null    object \n",
            " 36  choking_3              820 non-null    object \n",
            " 37  congestion_3           820 non-null    object \n",
            " 38  nothing_3              820 non-null    object \n",
            " 39  diagnosis_3            792 non-null    object \n",
            " 40  severity_3             795 non-null    object \n",
            " 41  quality_4              820 non-null    object \n",
            " 42  cough_type_4           801 non-null    object \n",
            " 43  dyspnea_4              820 non-null    object \n",
            " 44  wheezing_4             820 non-null    object \n",
            " 45  stridor_4              820 non-null    object \n",
            " 46  choking_4              820 non-null    object \n",
            " 47  congestion_4           820 non-null    object \n",
            " 48  nothing_4              820 non-null    object \n",
            " 49  diagnosis_4            789 non-null    object \n",
            " 50  severity_4             799 non-null    object \n",
            "dtypes: float64(5), object(46)\n",
            "memory usage: 10.7+ MB\n"
          ],
          "name": "stdout"
        }
      ]
    },
    {
      "cell_type": "markdown",
      "metadata": {
        "id": "qcBv4lr28b9O"
      },
      "source": [
        "forming a second dataset using the columns"
      ]
    },
    {
      "cell_type": "code",
      "metadata": {
        "id": "eKP9KJ1eLQZd"
      },
      "source": [
        "coughvid = coughvid_dataset[[\"uuid\", \"status\"]]"
      ],
      "execution_count": null,
      "outputs": []
    },
    {
      "cell_type": "code",
      "metadata": {
        "id": "kt86zYAYLQZe",
        "outputId": "c870bb31-de6f-4615-8379-7e4bdbd52b23"
      },
      "source": [
        "coughvid.info()"
      ],
      "execution_count": null,
      "outputs": [
        {
          "output_type": "stream",
          "text": [
            "<class 'pandas.core.frame.DataFrame'>\n",
            "RangeIndex: 27550 entries, 0 to 27549\n",
            "Data columns (total 2 columns):\n",
            " #   Column  Non-Null Count  Dtype \n",
            "---  ------  --------------  ----- \n",
            " 0   uuid    27550 non-null  object\n",
            " 1   status  16300 non-null  object\n",
            "dtypes: object(2)\n",
            "memory usage: 430.6+ KB\n"
          ],
          "name": "stdout"
        }
      ]
    },
    {
      "cell_type": "code",
      "metadata": {
        "id": "9f9-Kj3xLQZe",
        "outputId": "c99e03f7-fc15-42f1-a8ac-b1ec41d5759c"
      },
      "source": [
        "coughvid.dropna(inplace= True)"
      ],
      "execution_count": null,
      "outputs": [
        {
          "output_type": "stream",
          "text": [
            "<ipython-input-13-f4fe728b3639>:1: SettingWithCopyWarning: \n",
            "A value is trying to be set on a copy of a slice from a DataFrame\n",
            "\n",
            "See the caveats in the documentation: https://pandas.pydata.org/pandas-docs/stable/user_guide/indexing.html#returning-a-view-versus-a-copy\n",
            "  coughvid.dropna(inplace= True)\n"
          ],
          "name": "stderr"
        }
      ]
    },
    {
      "cell_type": "code",
      "metadata": {
        "id": "4kzHzexHLQZf",
        "outputId": "846b687b-c425-49f2-f2d2-2a33579d1131"
      },
      "source": [
        "coughvid.info()"
      ],
      "execution_count": null,
      "outputs": [
        {
          "output_type": "stream",
          "text": [
            "<class 'pandas.core.frame.DataFrame'>\n",
            "Int64Index: 16300 entries, 1 to 27548\n",
            "Data columns (total 2 columns):\n",
            " #   Column  Non-Null Count  Dtype \n",
            "---  ------  --------------  ----- \n",
            " 0   uuid    16300 non-null  object\n",
            " 1   status  16300 non-null  object\n",
            "dtypes: object(2)\n",
            "memory usage: 382.0+ KB\n"
          ],
          "name": "stdout"
        }
      ]
    },
    {
      "cell_type": "markdown",
      "metadata": {
        "id": "R6QESzdw8fPV"
      },
      "source": [
        "removing the uuid not present in the data folder"
      ]
    },
    {
      "cell_type": "code",
      "metadata": {
        "id": "31y9HD1KLQZf"
      },
      "source": [
        "for uuid in coughvid[\"uuid\"]:\n",
        "    if os.path.isfile(\"./public_dataset/\" + uuid + \".wav\") == False:\n",
        "        coughvid.drop(coughvid[coughvid['uuid'] == uuid].index, inplace = True)\n",
        "    "
      ],
      "execution_count": null,
      "outputs": []
    },
    {
      "cell_type": "code",
      "metadata": {
        "id": "US-LUdoDLQZg",
        "outputId": "47da2fd2-1c30-4f53-d298-35bf45a0f430"
      },
      "source": [
        "coughvid.info()"
      ],
      "execution_count": null,
      "outputs": [
        {
          "output_type": "stream",
          "text": [
            "<class 'pandas.core.frame.DataFrame'>\n",
            "Int64Index: 16300 entries, 1 to 27548\n",
            "Data columns (total 2 columns):\n",
            " #   Column  Non-Null Count  Dtype \n",
            "---  ------  --------------  ----- \n",
            " 0   uuid    16300 non-null  object\n",
            " 1   status  16300 non-null  object\n",
            "dtypes: object(2)\n",
            "memory usage: 382.0+ KB\n"
          ],
          "name": "stdout"
        }
      ]
    },
    {
      "cell_type": "markdown",
      "metadata": {
        "id": "lIiauw4f8qgT"
      },
      "source": [
        "# Segmenting the data"
      ]
    },
    {
      "cell_type": "code",
      "metadata": {
        "id": "pLlQPLh3LQZg"
      },
      "source": [
        "def segment_cough(x,fs, cough_padding=0.2,min_cough_len=0.2, th_l_multiplier = 0.1, th_h_multiplier = 2):\n",
        "    \"\"\"Preprocess the data by segmenting each file into individual coughs using a hysteresis comparator on the signal power\n",
        "    \n",
        "    Inputs:\n",
        "    *x (np.array): cough signal\n",
        "    *fs (float): sampling frequency in Hz\n",
        "    *cough_padding (float): number of seconds added to the beginning and end of each detected cough to make sure coughs are not cut short\n",
        "    *min_cough_length (float): length of the minimum possible segment that can be considered a cough\n",
        "    *th_l_multiplier (float): multiplier of the RMS energy used as a lower threshold of the hysteresis comparator\n",
        "    *th_h_multiplier (float): multiplier of the RMS energy used as a high threshold of the hysteresis comparator\n",
        "    \n",
        "    Outputs:\n",
        "    *coughSegments (np.array of np.arrays): a list of cough signal arrays corresponding to each cough\n",
        "    cough_mask (np.array): an array of booleans that are True at the indices where a cough is in progress\"\"\"\n",
        "                \n",
        "    cough_mask = np.array([False]*len(x))\n",
        "    \n",
        "\n",
        "    #Define hysteresis thresholds\n",
        "    rms = np.sqrt(np.mean(np.square(x)))\n",
        "    seg_th_l = th_l_multiplier * rms\n",
        "    seg_th_h =  th_h_multiplier*rms\n",
        "\n",
        "    #Segment coughs\n",
        "    coughSegments = []\n",
        "    padding = round(fs*cough_padding)\n",
        "    min_cough_samples = round(fs*min_cough_len)\n",
        "    cough_start = 0\n",
        "    cough_end = 0\n",
        "    cough_in_progress = False\n",
        "    tolerance = round(0.01*fs)\n",
        "    below_th_counter = 0\n",
        "    \n",
        "    for i, sample in enumerate(x**2):\n",
        "        if cough_in_progress:\n",
        "            if sample<seg_th_l:\n",
        "                below_th_counter += 1\n",
        "                if below_th_counter > tolerance:\n",
        "                    cough_end = i+padding if (i+padding < len(x)) else len(x)-1\n",
        "                    cough_in_progress = False\n",
        "                    if (cough_end+1-cough_start-2*padding>min_cough_samples):\n",
        "                        coughSegments.append(x[cough_start:cough_end+1])\n",
        "                        cough_mask[cough_start:cough_end+1] = True\n",
        "            elif i == (len(x)-1):\n",
        "                cough_end=i\n",
        "                cough_in_progress = False\n",
        "                if (cough_end+1-cough_start-2*padding>min_cough_samples):\n",
        "                    coughSegments.append(x[cough_start:cough_end+1])\n",
        "            else:\n",
        "                below_th_counter = 0\n",
        "        else:\n",
        "            if sample>seg_th_h:\n",
        "                cough_start = i-padding if (i-padding >=0) else 0\n",
        "                cough_in_progress = True\n",
        "    \n",
        "    return coughSegments, cough_mask"
      ],
      "execution_count": null,
      "outputs": []
    },
    {
      "cell_type": "code",
      "metadata": {
        "id": "g6acY9UWLQZi"
      },
      "source": [
        "coughvid_sgmntd = pd.DataFrame(columns = [\"status\", \"fs\", \"data\"])"
      ],
      "execution_count": null,
      "outputs": []
    },
    {
      "cell_type": "code",
      "metadata": {
        "id": "-JnTl11sLQZj",
        "outputId": "74beda56-2214-44c9-9770-8604dbb2e30d"
      },
      "source": [
        "coughvid_sgmntd"
      ],
      "execution_count": null,
      "outputs": [
        {
          "output_type": "execute_result",
          "data": {
            "text/html": [
              "<div>\n",
              "<style scoped>\n",
              "    .dataframe tbody tr th:only-of-type {\n",
              "        vertical-align: middle;\n",
              "    }\n",
              "\n",
              "    .dataframe tbody tr th {\n",
              "        vertical-align: top;\n",
              "    }\n",
              "\n",
              "    .dataframe thead th {\n",
              "        text-align: right;\n",
              "    }\n",
              "</style>\n",
              "<table border=\"1\" class=\"dataframe\">\n",
              "  <thead>\n",
              "    <tr style=\"text-align: right;\">\n",
              "      <th></th>\n",
              "      <th>status</th>\n",
              "      <th>fs</th>\n",
              "      <th>data</th>\n",
              "    </tr>\n",
              "  </thead>\n",
              "  <tbody>\n",
              "  </tbody>\n",
              "</table>\n",
              "</div>"
            ],
            "text/plain": [
              "Empty DataFrame\n",
              "Columns: [status, fs, data]\n",
              "Index: []"
            ]
          },
          "metadata": {
            "tags": []
          },
          "execution_count": 19
        }
      ]
    },
    {
      "cell_type": "code",
      "metadata": {
        "id": "cNoAkhPrLQZk",
        "outputId": "c1f018c3-6f62-4cac-c93f-54a6542c8401"
      },
      "source": [
        "file = \"./public_dataset/001d8e33-a4af-4edb-98ba-b03f891d9a6c.wav\"\n",
        "x,fs = librosa.load(file, sr=None)\n",
        "plt.plot(x)\n",
        "plt.title(\"Input cough signal\")"
      ],
      "execution_count": null,
      "outputs": [
        {
          "output_type": "execute_result",
          "data": {
            "text/plain": [
              "Text(0.5, 1.0, 'Input cough signal')"
            ]
          },
          "metadata": {
            "tags": []
          },
          "execution_count": 37
        },
        {
          "output_type": "display_data",
          "data": {
            "image/png": "[encoded data removed]",
            "text/plain": [
              "<Figure size 432x288 with 1 Axes>"
            ]
          },
          "metadata": {
            "tags": []
          }
        }
      ]
    },
    {
      "cell_type": "code",
      "metadata": {
        "id": "6uIjPSrhLQZl",
        "outputId": "c553e73e-b4e7-4c76-d5b9-2f6915793e08"
      },
      "source": [
        "cough_segments, cough_mask = segment_cough(x,fs,cough_padding=0)\n",
        "plt.plot(x)\n",
        "plt.plot(cough_mask)\n",
        "plt.title(\"Segmentation Output\")"
      ],
      "execution_count": null,
      "outputs": [
        {
          "output_type": "execute_result",
          "data": {
            "text/plain": [
              "Text(0.5, 1.0, 'Segmentation Output')"
            ]
          },
          "metadata": {
            "tags": []
          },
          "execution_count": 38
        },
        {
          "output_type": "display_data",
          "data": {
            "image/png": "[encoded data removed]",
            "text/plain": [
              "<Figure size 432x288 with 1 Axes>"
            ]
          },
          "metadata": {
            "tags": []
          }
        }
      ]
    },
    {
      "cell_type": "code",
      "metadata": {
        "id": "VrtN0UGlLQZl"
      },
      "source": [
        "if len(cough_segments) != 0:\n",
        "    fig, axs = plt.subplots(len(cough_segments),1, figsize=(7,10))\n",
        "    for i in range(0,len(cough_segments)):\n",
        "        axs[i].plot(cough_segments[i])\n",
        "        axs[i].set_title(\"Cough segment \" + str(i))"
      ],
      "execution_count": null,
      "outputs": []
    },
    {
      "cell_type": "code",
      "metadata": {
        "id": "eIef8WhVLQZm"
      },
      "source": [
        "coughvid.reset_index(drop = True, inplace = True)"
      ],
      "execution_count": null,
      "outputs": []
    },
    {
      "cell_type": "markdown",
      "metadata": {
        "id": "ovDUDKTQ8xF4"
      },
      "source": [
        "# Adding segmented data to further increase the no of samples?"
      ]
    },
    {
      "cell_type": "code",
      "metadata": {
        "id": "yml8vSoxLQZn",
        "outputId": "5784236f-31e3-442d-d559-3e799c14a971"
      },
      "source": [
        "for idx in coughvid[\"uuid\"].index:\n",
        "    if (idx%1000 == 0 or idx <10):\n",
        "        print(\"Finished {0}/{1}\".format(idx,len(coughvid[\"uuid\"])), coughvid_sgmntd.shape)\n",
        "    file = \"./public_dataset/\"+ coughvid[\"uuid\"][idx] +\".wav\"\n",
        "    x,fs = librosa.load(file, sr=None)\n",
        "    cough_segments, cough_mask = segment_cough(x,fs,cough_padding=0)\n",
        "    if len(cough_segments) != 0:\n",
        "        for i in range(0,len(cough_segments)):\n",
        "            coughvid_sgmntd = coughvid_sgmntd.append({\"data\":cough_segments[i], \"status\":coughvid[\"status\"][idx], \"fs\":fs}, ignore_index = True)\n",
        "        "
      ],
      "execution_count": null,
      "outputs": [
        {
          "output_type": "stream",
          "text": [
            "Finished 0/16300 (0, 3)\n",
            "Finished 1/16300 (2, 3)\n",
            "Finished 2/16300 (2, 3)\n",
            "Finished 3/16300 (6, 3)\n",
            "Finished 4/16300 (10, 3)\n",
            "Finished 5/16300 (10, 3)\n",
            "Finished 6/16300 (11, 3)\n",
            "Finished 7/16300 (14, 3)\n",
            "Finished 8/16300 (19, 3)\n",
            "Finished 9/16300 (21, 3)\n",
            "Finished 1000/16300 (2114, 3)\n",
            "Finished 2000/16300 (4363, 3)\n",
            "Finished 3000/16300 (6469, 3)\n",
            "Finished 4000/16300 (8646, 3)\n",
            "Finished 5000/16300 (10859, 3)\n",
            "Finished 6000/16300 (13125, 3)\n",
            "Finished 7000/16300 (15351, 3)\n",
            "Finished 8000/16300 (17647, 3)\n",
            "Finished 9000/16300 (19866, 3)\n",
            "Finished 10000/16300 (22102, 3)\n",
            "Finished 11000/16300 (24344, 3)\n",
            "Finished 12000/16300 (26600, 3)\n",
            "Finished 13000/16300 (28731, 3)\n",
            "Finished 14000/16300 (30940, 3)\n",
            "Finished 15000/16300 (33138, 3)\n",
            "Finished 16000/16300 (35396, 3)\n"
          ],
          "name": "stdout"
        }
      ]
    },
    {
      "cell_type": "code",
      "metadata": {
        "id": "f1OKff1FLQZn"
      },
      "source": [
        "coughvid_sgmntd.to_csv(\"segmented.csv\")"
      ],
      "execution_count": null,
      "outputs": []
    },
    {
      "cell_type": "code",
      "metadata": {
        "colab": {
          "background_save": true
        },
        "id": "cebasw5NL8Yd",
        "outputId": "9f4e4738-146a-4513-96ab-543d392cf4ac"
      },
      "source": [
        "from google.colab import drive\n",
        "drive.mount('/content/drive')"
      ],
      "execution_count": null,
      "outputs": [
        {
          "output_type": "stream",
          "text": [
            "Drive already mounted at /content/drive; to attempt to forcibly remount, call drive.mount(\"/content/drive\", force_remount=True).\n"
          ],
          "name": "stdout"
        }
      ]
    },
    {
      "cell_type": "code",
      "metadata": {
        "colab": {
          "base_uri": "https://localhost:8080/"
        },
        "id": "NbxjTUJJcxXG",
        "outputId": "1173f127-be22-4171-c481-876593302a1c"
      },
      "source": [
        "!pip install pickle5\n",
        "import pickle5 as pickle\n",
        "coughvid_sgmntd = pickle.load(open(\"/content/drive/MyDrive/Colab Notebooks/Data/segmented.pkl\", \"rb\"))"
      ],
      "execution_count": null,
      "outputs": [
        {
          "output_type": "stream",
          "text": [
            "Requirement already satisfied: pickle5 in /usr/local/lib/python3.7/dist-packages (0.0.11)\n"
          ],
          "name": "stdout"
        }
      ]
    },
    {
      "cell_type": "code",
      "metadata": {
        "colab": {
          "base_uri": "https://localhost:8080/"
        },
        "id": "NPCzxda-MZ3C",
        "outputId": "ce618ecc-a3dc-4408-8b8f-91cc02e04335"
      },
      "source": [
        "coughvid_sgmntd[\"status\"].unique()"
      ],
      "execution_count": null,
      "outputs": [
        {
          "output_type": "execute_result",
          "data": {
            "text/plain": [
              "array(['healthy', 'COVID_19', 'COVID-19'], dtype=object)"
            ]
          },
          "metadata": {
            "tags": []
          },
          "execution_count": 2
        }
      ]
    },
    {
      "cell_type": "code",
      "metadata": {
        "id": "ri0sYKbcNINS"
      },
      "source": [
        "for idx in coughvid_sgmntd.index:\n",
        "    if coughvid_sgmntd[\"status\"][idx] == \"COVID_19\" or coughvid_sgmntd[\"status\"][idx] == \"COVID-19\":\n",
        "        coughvid_sgmntd[\"status\"][idx] = 1\n",
        "    else:\n",
        "        coughvid_sgmntd[\"status\"][idx] = 0 "
      ],
      "execution_count": null,
      "outputs": []
    },
    {
      "cell_type": "code",
      "metadata": {
        "colab": {
          "base_uri": "https://localhost:8080/"
        },
        "id": "5iw3z2PQNo73",
        "outputId": "82aff924-518b-4e44-9142-03977d6e3cf6"
      },
      "source": [
        "coughvid_sgmntd[\"status\"].unique()"
      ],
      "execution_count": null,
      "outputs": [
        {
          "output_type": "execute_result",
          "data": {
            "text/plain": [
              "array([0, 1], dtype=object)"
            ]
          },
          "metadata": {
            "tags": []
          },
          "execution_count": 8
        }
      ]
    },
    {
      "cell_type": "code",
      "metadata": {
        "colab": {
          "base_uri": "https://localhost:8080/"
        },
        "id": "2GBuBoRJQUBS",
        "outputId": "2e3cbce7-6ba2-4087-fa48-6b7d3cc54917"
      },
      "source": [
        "max_len = 0\n",
        "for data in coughvid_sgmntd[\"data\"]:\n",
        "    if len(data) > max_len:\n",
        "        max_len = len(data)\n",
        "max_len"
      ],
      "execution_count": null,
      "outputs": [
        {
          "output_type": "execute_result",
          "data": {
            "text/plain": [
              "307310"
            ]
          },
          "metadata": {
            "tags": []
          },
          "execution_count": 9
        }
      ]
    },
    {
      "cell_type": "markdown",
      "metadata": {
        "id": "3whwttRn864s"
      },
      "source": [
        "# calculating the MFCC"
      ]
    },
    {
      "cell_type": "code",
      "metadata": {
        "id": "PIVVBv4cR172"
      },
      "source": [
        "def MFCC(data):\n",
        "        # data: wav file of segment; fs, signal = wavfile.read(file)\n",
        "        # output: value of MFCC coefficient\n",
        "        names = []; names_mean = []; names_std = []\n",
        "        fs, cough = data\n",
        "        n_mfcc = 13\n",
        "        for i in range(n_mfcc):\n",
        "            names_mean = names_mean + ['MFCC_mean'+str(i)]\n",
        "            names_std = names_std +  ['MFCC_std'+str(i)]\n",
        "        names = names_mean + names_std\n",
        "        mfcc = librosa.feature.mfcc(y = cough, sr = fs, n_mfcc = n_mfcc)\n",
        "        mfcc_mean = mfcc.mean(axis=1)\n",
        "        mfcc_std = mfcc.std(axis=1)\n",
        "        mfcc = np.append(mfcc_mean,mfcc_std)\n",
        "        return mfcc"
      ],
      "execution_count": null,
      "outputs": []
    },
    {
      "cell_type": "markdown",
      "metadata": {
        "id": "gqU0_FM19A4f"
      },
      "source": [
        "Preprocessing the data"
      ]
    },
    {
      "cell_type": "code",
      "metadata": {
        "id": "gU8_uADkfuXO"
      },
      "source": [
        "def preprocess_cough(x,fs, cutoff = 6000, normalize = True, filter_ = True, downsample = True):\n",
        "    \"\"\"\n",
        "    Normalize, lowpass filter, and downsample cough samples in a given data folder \n",
        "    \n",
        "    Inputs: x*: (float array) time series cough signal\n",
        "    fs*: (int) sampling frequency of the cough signal in Hz\n",
        "    cutoff: (int) cutoff frequency of lowpass filter\n",
        "    normalize: (bool) normailzation on or off\n",
        "    filter: (bool) filtering on or off\n",
        "    downsample: (bool) downsampling on or off\n",
        "    *: mandatory input\n",
        "    \n",
        "    Outputs: x: (float32 array) new preprocessed cough signal\n",
        "    fs: (int) new sampling frequency\n",
        "    \"\"\"\n",
        "    \n",
        "    fs_downsample = cutoff*2\n",
        "    \n",
        "    #Preprocess Data\n",
        "    if len(x.shape)>1:\n",
        "        x = np.mean(x,axis=1)                          # Convert to mono\n",
        "    if normalize:\n",
        "        x = x/(np.max(np.abs(x))+1e-17)                # Norm to range between -1 to 1\n",
        "    if filter_:\n",
        "        b, a = butter(4, fs_downsample/fs, btype='lowpass') # 4th order butter lowpass filter\n",
        "        x = filtfilt(b, a, x)\n",
        "    if downsample:\n",
        "        x = signal.decimate(x, int(fs/fs_downsample)) # Downsample for anti-aliasing\n",
        "    \n",
        "    fs_new = fs_downsample\n",
        "\n",
        "    return np.float32(x), fs_new"
      ],
      "execution_count": null,
      "outputs": []
    },
    {
      "cell_type": "code",
      "metadata": {
        "id": "cCpNlG26k2ZV"
      },
      "source": [
        "coughvid_sgmntd_copy = coughvid_sgmntd"
      ],
      "execution_count": null,
      "outputs": []
    },
    {
      "cell_type": "markdown",
      "metadata": {
        "id": "2Au9bt_39EnA"
      },
      "source": [
        "# Forming data sets"
      ]
    },
    {
      "cell_type": "code",
      "metadata": {
        "id": "IVYdKTCah0aR"
      },
      "source": [
        "x = coughvid_sgmntd[\"data\"]\n",
        "fs_new = 0\n",
        "for idx in x.index:\n",
        "    x[idx], fs_new = preprocess_cough(x[idx], coughvid_sgmntd[\"fs\"][idx])\n",
        "    data = (fs_new, x[idx])\n",
        "    mfcc = MFCC(data)\n",
        "    x[idx] = np.concatenate((x[idx], mfcc))\n",
        "x = pad_sequences(x, maxlen = 308025)\n",
        "y = coughvid_sgmntd[\"status\"].astype('int32')\n",
        "y = y.to_numpy()"
      ],
      "execution_count": null,
      "outputs": []
    },
    {
      "cell_type": "code",
      "metadata": {
        "id": "ShSKJSNufzH9"
      },
      "source": [
        "def form_dataset(data, status, test = False):\n",
        "    data = tf.constant(data)\n",
        "    status = tf.constant(status)\n",
        "    if test == False:\n",
        "        dataset = tf.data.Dataset.from_tensor_slices((data, status))\n",
        "    else:\n",
        "        dataset = tf.data.Dataset.from_tensor_slices((data))\n",
        "    return dataset"
      ],
      "execution_count": null,
      "outputs": []
    },
    {
      "cell_type": "code",
      "metadata": {
        "id": "RcLihFkIploT"
      },
      "source": [
        "x_train, x_val, x_test = np.split(x,[int(.6*len(x)), int(.8*len(x))])\n",
        "y_train, y_val, y_test = np.split(y,[int(.6*len(y)), int(.8*len(y))])"
      ],
      "execution_count": null,
      "outputs": []
    },
    {
      "cell_type": "code",
      "metadata": {
        "id": "okxLX63SsbBl"
      },
      "source": [
        "train_dataset = form_dataset(x_train, y_test)\n",
        "val_dataset = form_dataset(x_val, y_test)\n",
        "test_dataset = form_dataset(x_test, y_teest, test = True)"
      ],
      "execution_count": null,
      "outputs": []
    },
    {
      "cell_type": "markdown",
      "metadata": {
        "id": "y9TU-GNK9IUk"
      },
      "source": [
        "# Forming Model"
      ]
    },
    {
      "cell_type": "code",
      "metadata": {
        "id": "9e9KqWNetpVU"
      },
      "source": [
        "def cough_classifier(no_samples = 1 ,input_size=308025):\n",
        "\n",
        "    inputs = Input((1,input_size))\n",
        "    \n",
        "    #LSTM\n",
        "    x = LSTM(input_size, input_shape =(no_samples,1,input_size))(inputs)\n",
        "\n",
        "    # reshape\n",
        "    x = Reshape((555, 555))(x)\n",
        "\n",
        "    #conv1\n",
        "    x = Conv2D(5, 5, strides = 2)(x)\n",
        "    x = Dropout(0.3)(x)\n",
        "    x = MaxPooling2D(pool_size=(3, 3))\n",
        "\n",
        "    #conv2\n",
        "    x = Conv2D(5, 5, strides = 2)(x)\n",
        "    x = Dropout(0.3)(x)\n",
        "    x = MaxPooling2D(pool_size=(3, 3))\n",
        "\n",
        "    #flatten\n",
        "    x = Flatten()(x)\n",
        "\n",
        "    #dense\n",
        "    x = Dense(256)(x)\n",
        "    x = Dropout(0.3)(x)\n",
        "    x = Dense(256)(x)\n",
        "    x = Dropout(0.3)(x)\n",
        "    x = Dense(1)(x)\n",
        "    output = Activation('softmax')(x)\n",
        "\n",
        "    model = tf.keras.Model(inputs=inputs, outputs=output)\n",
        "\n",
        "    return model"
      ],
      "execution_count": null,
      "outputs": []
    },
    {
      "cell_type": "code",
      "metadata": {
        "id": "0H-DJ-tBwIg8",
        "colab": {
          "base_uri": "https://localhost:8080/",
          "height": 255
        },
        "outputId": "8d2f97a5-9ad2-4b1a-edfa-c126991c0e08"
      },
      "source": [
        "model = cough_classifier()\n",
        "model.summary()"
      ],
      "execution_count": null,
      "outputs": [
        {
          "output_type": "error",
          "ename": "ResourceExhaustedError",
          "evalue": "ignored",
          "traceback": [
            "\u001b[0;31m---------------------------------------------------------------------------\u001b[0m",
            "\u001b[0;31mResourceExhaustedError\u001b[0m                    Traceback (most recent call last)",
            "\u001b[0;32m<ipython-input-38-eeb7b2f1f481>\u001b[0m in \u001b[0;36m<module>\u001b[0;34m()\u001b[0m\n\u001b[0;32m----> 1\u001b[0;31m \u001b[0mmodel\u001b[0m \u001b[0;34m=\u001b[0m \u001b[0mcough_classifier\u001b[0m\u001b[0;34m(\u001b[0m\u001b[0;34m)\u001b[0m\u001b[0;34m\u001b[0m\u001b[0;34m\u001b[0m\u001b[0m\n\u001b[0m\u001b[1;32m      2\u001b[0m \u001b[0mmodel\u001b[0m\u001b[0;34m.\u001b[0m\u001b[0msummary\u001b[0m\u001b[0;34m(\u001b[0m\u001b[0;34m)\u001b[0m\u001b[0;34m\u001b[0m\u001b[0;34m\u001b[0m\u001b[0m\n",
            "\u001b[0;32m<ipython-input-37-54a480f989aa>\u001b[0m in \u001b[0;36mcough_classifier\u001b[0;34m(no_samples, input_size)\u001b[0m\n\u001b[1;32m      4\u001b[0m \u001b[0;34m\u001b[0m\u001b[0m\n\u001b[1;32m      5\u001b[0m     \u001b[0;31m#LSTM\u001b[0m\u001b[0;34m\u001b[0m\u001b[0;34m\u001b[0m\u001b[0;34m\u001b[0m\u001b[0m\n\u001b[0;32m----> 6\u001b[0;31m     \u001b[0mx\u001b[0m \u001b[0;34m=\u001b[0m \u001b[0mLSTM\u001b[0m\u001b[0;34m(\u001b[0m\u001b[0minput_size\u001b[0m\u001b[0;34m,\u001b[0m \u001b[0minput_shape\u001b[0m \u001b[0;34m=\u001b[0m\u001b[0;34m(\u001b[0m\u001b[0mno_samples\u001b[0m\u001b[0;34m,\u001b[0m\u001b[0;36m1\u001b[0m\u001b[0;34m,\u001b[0m\u001b[0minput_size\u001b[0m\u001b[0;34m)\u001b[0m\u001b[0;34m)\u001b[0m\u001b[0;34m(\u001b[0m\u001b[0minputs\u001b[0m\u001b[0;34m)\u001b[0m\u001b[0;34m\u001b[0m\u001b[0;34m\u001b[0m\u001b[0m\n\u001b[0m\u001b[1;32m      7\u001b[0m \u001b[0;34m\u001b[0m\u001b[0m\n\u001b[1;32m      8\u001b[0m     \u001b[0;31m# reshape\u001b[0m\u001b[0;34m\u001b[0m\u001b[0;34m\u001b[0m\u001b[0;34m\u001b[0m\u001b[0m\n",
            "\u001b[0;32m/usr/local/lib/python3.7/dist-packages/tensorflow/python/keras/layers/recurrent.py\u001b[0m in \u001b[0;36m__call__\u001b[0;34m(self, inputs, initial_state, constants, **kwargs)\u001b[0m\n\u001b[1;32m    666\u001b[0m \u001b[0;34m\u001b[0m\u001b[0m\n\u001b[1;32m    667\u001b[0m     \u001b[0;32mif\u001b[0m \u001b[0minitial_state\u001b[0m \u001b[0;32mis\u001b[0m \u001b[0;32mNone\u001b[0m \u001b[0;32mand\u001b[0m \u001b[0mconstants\u001b[0m \u001b[0;32mis\u001b[0m \u001b[0;32mNone\u001b[0m\u001b[0;34m:\u001b[0m\u001b[0;34m\u001b[0m\u001b[0;34m\u001b[0m\u001b[0m\n\u001b[0;32m--> 668\u001b[0;31m       \u001b[0;32mreturn\u001b[0m \u001b[0msuper\u001b[0m\u001b[0;34m(\u001b[0m\u001b[0mRNN\u001b[0m\u001b[0;34m,\u001b[0m \u001b[0mself\u001b[0m\u001b[0;34m)\u001b[0m\u001b[0;34m.\u001b[0m\u001b[0m__call__\u001b[0m\u001b[0;34m(\u001b[0m\u001b[0minputs\u001b[0m\u001b[0;34m,\u001b[0m \u001b[0;34m**\u001b[0m\u001b[0mkwargs\u001b[0m\u001b[0;34m)\u001b[0m\u001b[0;34m\u001b[0m\u001b[0;34m\u001b[0m\u001b[0m\n\u001b[0m\u001b[1;32m    669\u001b[0m \u001b[0;34m\u001b[0m\u001b[0m\n\u001b[1;32m    670\u001b[0m     \u001b[0;31m# If any of `initial_state` or `constants` are specified and are Keras\u001b[0m\u001b[0;34m\u001b[0m\u001b[0;34m\u001b[0m\u001b[0;34m\u001b[0m\u001b[0m\n",
            "\u001b[0;32m/usr/local/lib/python3.7/dist-packages/tensorflow/python/keras/engine/base_layer.py\u001b[0m in \u001b[0;36m__call__\u001b[0;34m(self, *args, **kwargs)\u001b[0m\n\u001b[1;32m    968\u001b[0m     \u001b[0;32mif\u001b[0m \u001b[0m_in_functional_construction_mode\u001b[0m\u001b[0;34m(\u001b[0m\u001b[0mself\u001b[0m\u001b[0;34m,\u001b[0m \u001b[0minputs\u001b[0m\u001b[0;34m,\u001b[0m \u001b[0margs\u001b[0m\u001b[0;34m,\u001b[0m \u001b[0mkwargs\u001b[0m\u001b[0;34m,\u001b[0m \u001b[0minput_list\u001b[0m\u001b[0;34m)\u001b[0m\u001b[0;34m:\u001b[0m\u001b[0;34m\u001b[0m\u001b[0;34m\u001b[0m\u001b[0m\n\u001b[1;32m    969\u001b[0m       return self._functional_construction_call(inputs, args, kwargs,\n\u001b[0;32m--> 970\u001b[0;31m                                                 input_list)\n\u001b[0m\u001b[1;32m    971\u001b[0m \u001b[0;34m\u001b[0m\u001b[0m\n\u001b[1;32m    972\u001b[0m     \u001b[0;31m# Maintains info about the `Layer.call` stack.\u001b[0m\u001b[0;34m\u001b[0m\u001b[0;34m\u001b[0m\u001b[0;34m\u001b[0m\u001b[0m\n",
            "\u001b[0;32m/usr/local/lib/python3.7/dist-packages/tensorflow/python/keras/engine/base_layer.py\u001b[0m in \u001b[0;36m_functional_construction_call\u001b[0;34m(self, inputs, args, kwargs, input_list)\u001b[0m\n\u001b[1;32m   1106\u001b[0m       \u001b[0;31m# Check input assumptions set after layer building, e.g. input shape.\u001b[0m\u001b[0;34m\u001b[0m\u001b[0;34m\u001b[0m\u001b[0;34m\u001b[0m\u001b[0m\n\u001b[1;32m   1107\u001b[0m       outputs = self._keras_tensor_symbolic_call(\n\u001b[0;32m-> 1108\u001b[0;31m           inputs, input_masks, args, kwargs)\n\u001b[0m\u001b[1;32m   1109\u001b[0m \u001b[0;34m\u001b[0m\u001b[0m\n\u001b[1;32m   1110\u001b[0m       \u001b[0;32mif\u001b[0m \u001b[0moutputs\u001b[0m \u001b[0;32mis\u001b[0m \u001b[0;32mNone\u001b[0m\u001b[0;34m:\u001b[0m\u001b[0;34m\u001b[0m\u001b[0;34m\u001b[0m\u001b[0m\n",
            "\u001b[0;32m/usr/local/lib/python3.7/dist-packages/tensorflow/python/keras/engine/base_layer.py\u001b[0m in \u001b[0;36m_keras_tensor_symbolic_call\u001b[0;34m(self, inputs, input_masks, args, kwargs)\u001b[0m\n\u001b[1;32m    838\u001b[0m       \u001b[0;32mreturn\u001b[0m \u001b[0mnest\u001b[0m\u001b[0;34m.\u001b[0m\u001b[0mmap_structure\u001b[0m\u001b[0;34m(\u001b[0m\u001b[0mkeras_tensor\u001b[0m\u001b[0;34m.\u001b[0m\u001b[0mKerasTensor\u001b[0m\u001b[0;34m,\u001b[0m \u001b[0moutput_signature\u001b[0m\u001b[0;34m)\u001b[0m\u001b[0;34m\u001b[0m\u001b[0;34m\u001b[0m\u001b[0m\n\u001b[1;32m    839\u001b[0m     \u001b[0;32melse\u001b[0m\u001b[0;34m:\u001b[0m\u001b[0;34m\u001b[0m\u001b[0;34m\u001b[0m\u001b[0m\n\u001b[0;32m--> 840\u001b[0;31m       \u001b[0;32mreturn\u001b[0m \u001b[0mself\u001b[0m\u001b[0;34m.\u001b[0m\u001b[0m_infer_output_signature\u001b[0m\u001b[0;34m(\u001b[0m\u001b[0minputs\u001b[0m\u001b[0;34m,\u001b[0m \u001b[0margs\u001b[0m\u001b[0;34m,\u001b[0m \u001b[0mkwargs\u001b[0m\u001b[0;34m,\u001b[0m \u001b[0minput_masks\u001b[0m\u001b[0;34m)\u001b[0m\u001b[0;34m\u001b[0m\u001b[0;34m\u001b[0m\u001b[0m\n\u001b[0m\u001b[1;32m    841\u001b[0m \u001b[0;34m\u001b[0m\u001b[0m\n\u001b[1;32m    842\u001b[0m   \u001b[0;32mdef\u001b[0m \u001b[0m_infer_output_signature\u001b[0m\u001b[0;34m(\u001b[0m\u001b[0mself\u001b[0m\u001b[0;34m,\u001b[0m \u001b[0minputs\u001b[0m\u001b[0;34m,\u001b[0m \u001b[0margs\u001b[0m\u001b[0;34m,\u001b[0m \u001b[0mkwargs\u001b[0m\u001b[0;34m,\u001b[0m \u001b[0minput_masks\u001b[0m\u001b[0;34m)\u001b[0m\u001b[0;34m:\u001b[0m\u001b[0;34m\u001b[0m\u001b[0;34m\u001b[0m\u001b[0m\n",
            "\u001b[0;32m/usr/local/lib/python3.7/dist-packages/tensorflow/python/keras/engine/base_layer.py\u001b[0m in \u001b[0;36m_infer_output_signature\u001b[0;34m(self, inputs, args, kwargs, input_masks)\u001b[0m\n\u001b[1;32m    876\u001b[0m           \u001b[0;31m# overridden).\u001b[0m\u001b[0;34m\u001b[0m\u001b[0;34m\u001b[0m\u001b[0;34m\u001b[0m\u001b[0m\n\u001b[1;32m    877\u001b[0m           \u001b[0;31m# TODO(kaftan): do we maybe_build here, or have we already done it?\u001b[0m\u001b[0;34m\u001b[0m\u001b[0;34m\u001b[0m\u001b[0;34m\u001b[0m\u001b[0m\n\u001b[0;32m--> 878\u001b[0;31m           \u001b[0mself\u001b[0m\u001b[0;34m.\u001b[0m\u001b[0m_maybe_build\u001b[0m\u001b[0;34m(\u001b[0m\u001b[0minputs\u001b[0m\u001b[0;34m)\u001b[0m\u001b[0;34m\u001b[0m\u001b[0;34m\u001b[0m\u001b[0m\n\u001b[0m\u001b[1;32m    879\u001b[0m           \u001b[0minputs\u001b[0m \u001b[0;34m=\u001b[0m \u001b[0mself\u001b[0m\u001b[0;34m.\u001b[0m\u001b[0m_maybe_cast_inputs\u001b[0m\u001b[0;34m(\u001b[0m\u001b[0minputs\u001b[0m\u001b[0;34m)\u001b[0m\u001b[0;34m\u001b[0m\u001b[0;34m\u001b[0m\u001b[0m\n\u001b[1;32m    880\u001b[0m           \u001b[0moutputs\u001b[0m \u001b[0;34m=\u001b[0m \u001b[0mcall_fn\u001b[0m\u001b[0;34m(\u001b[0m\u001b[0minputs\u001b[0m\u001b[0;34m,\u001b[0m \u001b[0;34m*\u001b[0m\u001b[0margs\u001b[0m\u001b[0;34m,\u001b[0m \u001b[0;34m**\u001b[0m\u001b[0mkwargs\u001b[0m\u001b[0;34m)\u001b[0m\u001b[0;34m\u001b[0m\u001b[0;34m\u001b[0m\u001b[0m\n",
            "\u001b[0;32m/usr/local/lib/python3.7/dist-packages/tensorflow/python/keras/engine/base_layer.py\u001b[0m in \u001b[0;36m_maybe_build\u001b[0;34m(self, inputs)\u001b[0m\n\u001b[1;32m   2623\u001b[0m         \u001b[0;31m# operations.\u001b[0m\u001b[0;34m\u001b[0m\u001b[0;34m\u001b[0m\u001b[0;34m\u001b[0m\u001b[0m\n\u001b[1;32m   2624\u001b[0m         \u001b[0;32mwith\u001b[0m \u001b[0mtf_utils\u001b[0m\u001b[0;34m.\u001b[0m\u001b[0mmaybe_init_scope\u001b[0m\u001b[0;34m(\u001b[0m\u001b[0mself\u001b[0m\u001b[0;34m)\u001b[0m\u001b[0;34m:\u001b[0m\u001b[0;34m\u001b[0m\u001b[0;34m\u001b[0m\u001b[0m\n\u001b[0;32m-> 2625\u001b[0;31m           \u001b[0mself\u001b[0m\u001b[0;34m.\u001b[0m\u001b[0mbuild\u001b[0m\u001b[0;34m(\u001b[0m\u001b[0minput_shapes\u001b[0m\u001b[0;34m)\u001b[0m  \u001b[0;31m# pylint:disable=not-callable\u001b[0m\u001b[0;34m\u001b[0m\u001b[0;34m\u001b[0m\u001b[0m\n\u001b[0m\u001b[1;32m   2626\u001b[0m       \u001b[0;31m# We must set also ensure that the layer is marked as built, and the build\u001b[0m\u001b[0;34m\u001b[0m\u001b[0;34m\u001b[0m\u001b[0;34m\u001b[0m\u001b[0m\n\u001b[1;32m   2627\u001b[0m       \u001b[0;31m# shape is stored since user defined build functions may not be calling\u001b[0m\u001b[0;34m\u001b[0m\u001b[0;34m\u001b[0m\u001b[0;34m\u001b[0m\u001b[0m\n",
            "\u001b[0;32m/usr/local/lib/python3.7/dist-packages/tensorflow/python/keras/layers/recurrent.py\u001b[0m in \u001b[0;36mbuild\u001b[0;34m(self, input_shape)\u001b[0m\n\u001b[1;32m    584\u001b[0m     \u001b[0;32mif\u001b[0m \u001b[0misinstance\u001b[0m\u001b[0;34m(\u001b[0m\u001b[0mself\u001b[0m\u001b[0;34m.\u001b[0m\u001b[0mcell\u001b[0m\u001b[0;34m,\u001b[0m \u001b[0mLayer\u001b[0m\u001b[0;34m)\u001b[0m \u001b[0;32mand\u001b[0m \u001b[0;32mnot\u001b[0m \u001b[0mself\u001b[0m\u001b[0;34m.\u001b[0m\u001b[0mcell\u001b[0m\u001b[0;34m.\u001b[0m\u001b[0mbuilt\u001b[0m\u001b[0;34m:\u001b[0m\u001b[0;34m\u001b[0m\u001b[0;34m\u001b[0m\u001b[0m\n\u001b[1;32m    585\u001b[0m       \u001b[0;32mwith\u001b[0m \u001b[0mbackend\u001b[0m\u001b[0;34m.\u001b[0m\u001b[0mname_scope\u001b[0m\u001b[0;34m(\u001b[0m\u001b[0mself\u001b[0m\u001b[0;34m.\u001b[0m\u001b[0mcell\u001b[0m\u001b[0;34m.\u001b[0m\u001b[0mname\u001b[0m\u001b[0;34m)\u001b[0m\u001b[0;34m:\u001b[0m\u001b[0;34m\u001b[0m\u001b[0;34m\u001b[0m\u001b[0m\n\u001b[0;32m--> 586\u001b[0;31m         \u001b[0mself\u001b[0m\u001b[0;34m.\u001b[0m\u001b[0mcell\u001b[0m\u001b[0;34m.\u001b[0m\u001b[0mbuild\u001b[0m\u001b[0;34m(\u001b[0m\u001b[0mstep_input_shape\u001b[0m\u001b[0;34m)\u001b[0m\u001b[0;34m\u001b[0m\u001b[0;34m\u001b[0m\u001b[0m\n\u001b[0m\u001b[1;32m    587\u001b[0m         \u001b[0mself\u001b[0m\u001b[0;34m.\u001b[0m\u001b[0mcell\u001b[0m\u001b[0;34m.\u001b[0m\u001b[0mbuilt\u001b[0m \u001b[0;34m=\u001b[0m \u001b[0;32mTrue\u001b[0m\u001b[0;34m\u001b[0m\u001b[0;34m\u001b[0m\u001b[0m\n\u001b[1;32m    588\u001b[0m \u001b[0;34m\u001b[0m\u001b[0m\n",
            "\u001b[0;32m/usr/local/lib/python3.7/dist-packages/tensorflow/python/keras/utils/tf_utils.py\u001b[0m in \u001b[0;36mwrapper\u001b[0;34m(instance, input_shape)\u001b[0m\n\u001b[1;32m    268\u001b[0m     \u001b[0;32mif\u001b[0m \u001b[0minput_shape\u001b[0m \u001b[0;32mis\u001b[0m \u001b[0;32mnot\u001b[0m \u001b[0;32mNone\u001b[0m\u001b[0;34m:\u001b[0m\u001b[0;34m\u001b[0m\u001b[0;34m\u001b[0m\u001b[0m\n\u001b[1;32m    269\u001b[0m       \u001b[0minput_shape\u001b[0m \u001b[0;34m=\u001b[0m \u001b[0mconvert_shapes\u001b[0m\u001b[0;34m(\u001b[0m\u001b[0minput_shape\u001b[0m\u001b[0;34m,\u001b[0m \u001b[0mto_tuples\u001b[0m\u001b[0;34m=\u001b[0m\u001b[0;32mTrue\u001b[0m\u001b[0;34m)\u001b[0m\u001b[0;34m\u001b[0m\u001b[0;34m\u001b[0m\u001b[0m\n\u001b[0;32m--> 270\u001b[0;31m     \u001b[0moutput_shape\u001b[0m \u001b[0;34m=\u001b[0m \u001b[0mfn\u001b[0m\u001b[0;34m(\u001b[0m\u001b[0minstance\u001b[0m\u001b[0;34m,\u001b[0m \u001b[0minput_shape\u001b[0m\u001b[0;34m)\u001b[0m\u001b[0;34m\u001b[0m\u001b[0;34m\u001b[0m\u001b[0m\n\u001b[0m\u001b[1;32m    271\u001b[0m     \u001b[0;31m# Return shapes from `fn` as TensorShapes.\u001b[0m\u001b[0;34m\u001b[0m\u001b[0;34m\u001b[0m\u001b[0;34m\u001b[0m\u001b[0m\n\u001b[1;32m    272\u001b[0m     \u001b[0;32mif\u001b[0m \u001b[0moutput_shape\u001b[0m \u001b[0;32mis\u001b[0m \u001b[0;32mnot\u001b[0m \u001b[0;32mNone\u001b[0m\u001b[0;34m:\u001b[0m\u001b[0;34m\u001b[0m\u001b[0;34m\u001b[0m\u001b[0m\n",
            "\u001b[0;32m/usr/local/lib/python3.7/dist-packages/tensorflow/python/keras/layers/recurrent.py\u001b[0m in \u001b[0;36mbuild\u001b[0;34m(self, input_shape)\u001b[0m\n\u001b[1;32m   2358\u001b[0m         \u001b[0mregularizer\u001b[0m\u001b[0;34m=\u001b[0m\u001b[0mself\u001b[0m\u001b[0;34m.\u001b[0m\u001b[0mkernel_regularizer\u001b[0m\u001b[0;34m,\u001b[0m\u001b[0;34m\u001b[0m\u001b[0;34m\u001b[0m\u001b[0m\n\u001b[1;32m   2359\u001b[0m         \u001b[0mconstraint\u001b[0m\u001b[0;34m=\u001b[0m\u001b[0mself\u001b[0m\u001b[0;34m.\u001b[0m\u001b[0mkernel_constraint\u001b[0m\u001b[0;34m,\u001b[0m\u001b[0;34m\u001b[0m\u001b[0;34m\u001b[0m\u001b[0m\n\u001b[0;32m-> 2360\u001b[0;31m         caching_device=default_caching_device)\n\u001b[0m\u001b[1;32m   2361\u001b[0m     self.recurrent_kernel = self.add_weight(\n\u001b[1;32m   2362\u001b[0m         \u001b[0mshape\u001b[0m\u001b[0;34m=\u001b[0m\u001b[0;34m(\u001b[0m\u001b[0mself\u001b[0m\u001b[0;34m.\u001b[0m\u001b[0munits\u001b[0m\u001b[0;34m,\u001b[0m \u001b[0mself\u001b[0m\u001b[0;34m.\u001b[0m\u001b[0munits\u001b[0m \u001b[0;34m*\u001b[0m \u001b[0;36m4\u001b[0m\u001b[0;34m)\u001b[0m\u001b[0;34m,\u001b[0m\u001b[0;34m\u001b[0m\u001b[0;34m\u001b[0m\u001b[0m\n",
            "\u001b[0;32m/usr/local/lib/python3.7/dist-packages/tensorflow/python/keras/engine/base_layer.py\u001b[0m in \u001b[0;36madd_weight\u001b[0;34m(self, name, shape, dtype, initializer, regularizer, trainable, constraint, use_resource, synchronization, aggregation, **kwargs)\u001b[0m\n\u001b[1;32m    653\u001b[0m         \u001b[0msynchronization\u001b[0m\u001b[0;34m=\u001b[0m\u001b[0msynchronization\u001b[0m\u001b[0;34m,\u001b[0m\u001b[0;34m\u001b[0m\u001b[0;34m\u001b[0m\u001b[0m\n\u001b[1;32m    654\u001b[0m         \u001b[0maggregation\u001b[0m\u001b[0;34m=\u001b[0m\u001b[0maggregation\u001b[0m\u001b[0;34m,\u001b[0m\u001b[0;34m\u001b[0m\u001b[0;34m\u001b[0m\u001b[0m\n\u001b[0;32m--> 655\u001b[0;31m         caching_device=caching_device)\n\u001b[0m\u001b[1;32m    656\u001b[0m     \u001b[0;32mif\u001b[0m \u001b[0mregularizer\u001b[0m \u001b[0;32mis\u001b[0m \u001b[0;32mnot\u001b[0m \u001b[0;32mNone\u001b[0m\u001b[0;34m:\u001b[0m\u001b[0;34m\u001b[0m\u001b[0;34m\u001b[0m\u001b[0m\n\u001b[1;32m    657\u001b[0m       \u001b[0;31m# TODO(fchollet): in the future, this should be handled at the\u001b[0m\u001b[0;34m\u001b[0m\u001b[0;34m\u001b[0m\u001b[0;34m\u001b[0m\u001b[0m\n",
            "\u001b[0;32m/usr/local/lib/python3.7/dist-packages/tensorflow/python/training/tracking/base.py\u001b[0m in \u001b[0;36m_add_variable_with_custom_getter\u001b[0;34m(self, name, shape, dtype, initializer, getter, overwrite, **kwargs_for_getter)\u001b[0m\n\u001b[1;32m    813\u001b[0m         \u001b[0mdtype\u001b[0m\u001b[0;34m=\u001b[0m\u001b[0mdtype\u001b[0m\u001b[0;34m,\u001b[0m\u001b[0;34m\u001b[0m\u001b[0;34m\u001b[0m\u001b[0m\n\u001b[1;32m    814\u001b[0m         \u001b[0minitializer\u001b[0m\u001b[0;34m=\u001b[0m\u001b[0minitializer\u001b[0m\u001b[0;34m,\u001b[0m\u001b[0;34m\u001b[0m\u001b[0;34m\u001b[0m\u001b[0m\n\u001b[0;32m--> 815\u001b[0;31m         **kwargs_for_getter)\n\u001b[0m\u001b[1;32m    816\u001b[0m \u001b[0;34m\u001b[0m\u001b[0m\n\u001b[1;32m    817\u001b[0m     \u001b[0;31m# If we set an initializer and the variable processed it, tracking will not\u001b[0m\u001b[0;34m\u001b[0m\u001b[0;34m\u001b[0m\u001b[0;34m\u001b[0m\u001b[0m\n",
            "\u001b[0;32m/usr/local/lib/python3.7/dist-packages/tensorflow/python/keras/engine/base_layer_utils.py\u001b[0m in \u001b[0;36mmake_variable\u001b[0;34m(name, shape, dtype, initializer, trainable, caching_device, validate_shape, constraint, use_resource, collections, synchronization, aggregation, partitioner)\u001b[0m\n\u001b[1;32m    137\u001b[0m       \u001b[0msynchronization\u001b[0m\u001b[0;34m=\u001b[0m\u001b[0msynchronization\u001b[0m\u001b[0;34m,\u001b[0m\u001b[0;34m\u001b[0m\u001b[0;34m\u001b[0m\u001b[0m\n\u001b[1;32m    138\u001b[0m       \u001b[0maggregation\u001b[0m\u001b[0;34m=\u001b[0m\u001b[0maggregation\u001b[0m\u001b[0;34m,\u001b[0m\u001b[0;34m\u001b[0m\u001b[0;34m\u001b[0m\u001b[0m\n\u001b[0;32m--> 139\u001b[0;31m       shape=variable_shape if variable_shape else None)\n\u001b[0m\u001b[1;32m    140\u001b[0m \u001b[0;34m\u001b[0m\u001b[0m\n\u001b[1;32m    141\u001b[0m \u001b[0;34m\u001b[0m\u001b[0m\n",
            "\u001b[0;32m/usr/local/lib/python3.7/dist-packages/tensorflow/python/ops/variables.py\u001b[0m in \u001b[0;36m__call__\u001b[0;34m(cls, *args, **kwargs)\u001b[0m\n\u001b[1;32m    258\u001b[0m   \u001b[0;32mdef\u001b[0m \u001b[0m__call__\u001b[0m\u001b[0;34m(\u001b[0m\u001b[0mcls\u001b[0m\u001b[0;34m,\u001b[0m \u001b[0;34m*\u001b[0m\u001b[0margs\u001b[0m\u001b[0;34m,\u001b[0m \u001b[0;34m**\u001b[0m\u001b[0mkwargs\u001b[0m\u001b[0;34m)\u001b[0m\u001b[0;34m:\u001b[0m\u001b[0;34m\u001b[0m\u001b[0;34m\u001b[0m\u001b[0m\n\u001b[1;32m    259\u001b[0m     \u001b[0;32mif\u001b[0m \u001b[0mcls\u001b[0m \u001b[0;32mis\u001b[0m \u001b[0mVariableV1\u001b[0m\u001b[0;34m:\u001b[0m\u001b[0;34m\u001b[0m\u001b[0;34m\u001b[0m\u001b[0m\n\u001b[0;32m--> 260\u001b[0;31m       \u001b[0;32mreturn\u001b[0m \u001b[0mcls\u001b[0m\u001b[0;34m.\u001b[0m\u001b[0m_variable_v1_call\u001b[0m\u001b[0;34m(\u001b[0m\u001b[0;34m*\u001b[0m\u001b[0margs\u001b[0m\u001b[0;34m,\u001b[0m \u001b[0;34m**\u001b[0m\u001b[0mkwargs\u001b[0m\u001b[0;34m)\u001b[0m\u001b[0;34m\u001b[0m\u001b[0;34m\u001b[0m\u001b[0m\n\u001b[0m\u001b[1;32m    261\u001b[0m     \u001b[0;32melif\u001b[0m \u001b[0mcls\u001b[0m \u001b[0;32mis\u001b[0m \u001b[0mVariable\u001b[0m\u001b[0;34m:\u001b[0m\u001b[0;34m\u001b[0m\u001b[0;34m\u001b[0m\u001b[0m\n\u001b[1;32m    262\u001b[0m       \u001b[0;32mreturn\u001b[0m \u001b[0mcls\u001b[0m\u001b[0;34m.\u001b[0m\u001b[0m_variable_v2_call\u001b[0m\u001b[0;34m(\u001b[0m\u001b[0;34m*\u001b[0m\u001b[0margs\u001b[0m\u001b[0;34m,\u001b[0m \u001b[0;34m**\u001b[0m\u001b[0mkwargs\u001b[0m\u001b[0;34m)\u001b[0m\u001b[0;34m\u001b[0m\u001b[0;34m\u001b[0m\u001b[0m\n",
            "\u001b[0;32m/usr/local/lib/python3.7/dist-packages/tensorflow/python/ops/variables.py\u001b[0m in \u001b[0;36m_variable_v1_call\u001b[0;34m(cls, initial_value, trainable, collections, validate_shape, caching_device, name, variable_def, dtype, expected_shape, import_scope, constraint, use_resource, synchronization, aggregation, shape)\u001b[0m\n\u001b[1;32m    219\u001b[0m         \u001b[0msynchronization\u001b[0m\u001b[0;34m=\u001b[0m\u001b[0msynchronization\u001b[0m\u001b[0;34m,\u001b[0m\u001b[0;34m\u001b[0m\u001b[0;34m\u001b[0m\u001b[0m\n\u001b[1;32m    220\u001b[0m         \u001b[0maggregation\u001b[0m\u001b[0;34m=\u001b[0m\u001b[0maggregation\u001b[0m\u001b[0;34m,\u001b[0m\u001b[0;34m\u001b[0m\u001b[0;34m\u001b[0m\u001b[0m\n\u001b[0;32m--> 221\u001b[0;31m         shape=shape)\n\u001b[0m\u001b[1;32m    222\u001b[0m \u001b[0;34m\u001b[0m\u001b[0m\n\u001b[1;32m    223\u001b[0m   def _variable_v2_call(cls,\n",
            "\u001b[0;32m/usr/local/lib/python3.7/dist-packages/tensorflow/python/ops/variables.py\u001b[0m in \u001b[0;36m<lambda>\u001b[0;34m(**kwargs)\u001b[0m\n\u001b[1;32m    197\u001b[0m                         shape=None):\n\u001b[1;32m    198\u001b[0m     \u001b[0;34m\"\"\"Call on Variable class. Useful to force the signature.\"\"\"\u001b[0m\u001b[0;34m\u001b[0m\u001b[0;34m\u001b[0m\u001b[0m\n\u001b[0;32m--> 199\u001b[0;31m     \u001b[0mprevious_getter\u001b[0m \u001b[0;34m=\u001b[0m \u001b[0;32mlambda\u001b[0m \u001b[0;34m**\u001b[0m\u001b[0mkwargs\u001b[0m\u001b[0;34m:\u001b[0m \u001b[0mdefault_variable_creator\u001b[0m\u001b[0;34m(\u001b[0m\u001b[0;32mNone\u001b[0m\u001b[0;34m,\u001b[0m \u001b[0;34m**\u001b[0m\u001b[0mkwargs\u001b[0m\u001b[0;34m)\u001b[0m\u001b[0;34m\u001b[0m\u001b[0;34m\u001b[0m\u001b[0m\n\u001b[0m\u001b[1;32m    200\u001b[0m     \u001b[0;32mfor\u001b[0m \u001b[0m_\u001b[0m\u001b[0;34m,\u001b[0m \u001b[0mgetter\u001b[0m \u001b[0;32min\u001b[0m \u001b[0mops\u001b[0m\u001b[0;34m.\u001b[0m\u001b[0mget_default_graph\u001b[0m\u001b[0;34m(\u001b[0m\u001b[0;34m)\u001b[0m\u001b[0;34m.\u001b[0m\u001b[0m_variable_creator_stack\u001b[0m\u001b[0;34m:\u001b[0m  \u001b[0;31m# pylint: disable=protected-access\u001b[0m\u001b[0;34m\u001b[0m\u001b[0;34m\u001b[0m\u001b[0m\n\u001b[1;32m    201\u001b[0m       \u001b[0mprevious_getter\u001b[0m \u001b[0;34m=\u001b[0m \u001b[0m_make_getter\u001b[0m\u001b[0;34m(\u001b[0m\u001b[0mgetter\u001b[0m\u001b[0;34m,\u001b[0m \u001b[0mprevious_getter\u001b[0m\u001b[0;34m)\u001b[0m\u001b[0;34m\u001b[0m\u001b[0;34m\u001b[0m\u001b[0m\n",
            "\u001b[0;32m/usr/local/lib/python3.7/dist-packages/tensorflow/python/ops/variable_scope.py\u001b[0m in \u001b[0;36mdefault_variable_creator\u001b[0;34m(next_creator, **kwargs)\u001b[0m\n\u001b[1;32m   2624\u001b[0m         \u001b[0msynchronization\u001b[0m\u001b[0;34m=\u001b[0m\u001b[0msynchronization\u001b[0m\u001b[0;34m,\u001b[0m\u001b[0;34m\u001b[0m\u001b[0;34m\u001b[0m\u001b[0m\n\u001b[1;32m   2625\u001b[0m         \u001b[0maggregation\u001b[0m\u001b[0;34m=\u001b[0m\u001b[0maggregation\u001b[0m\u001b[0;34m,\u001b[0m\u001b[0;34m\u001b[0m\u001b[0;34m\u001b[0m\u001b[0m\n\u001b[0;32m-> 2626\u001b[0;31m         shape=shape)\n\u001b[0m\u001b[1;32m   2627\u001b[0m   \u001b[0;32melse\u001b[0m\u001b[0;34m:\u001b[0m\u001b[0;34m\u001b[0m\u001b[0;34m\u001b[0m\u001b[0m\n\u001b[1;32m   2628\u001b[0m     return variables.RefVariable(\n",
            "\u001b[0;32m/usr/local/lib/python3.7/dist-packages/tensorflow/python/ops/variables.py\u001b[0m in \u001b[0;36m__call__\u001b[0;34m(cls, *args, **kwargs)\u001b[0m\n\u001b[1;32m    262\u001b[0m       \u001b[0;32mreturn\u001b[0m \u001b[0mcls\u001b[0m\u001b[0;34m.\u001b[0m\u001b[0m_variable_v2_call\u001b[0m\u001b[0;34m(\u001b[0m\u001b[0;34m*\u001b[0m\u001b[0margs\u001b[0m\u001b[0;34m,\u001b[0m \u001b[0;34m**\u001b[0m\u001b[0mkwargs\u001b[0m\u001b[0;34m)\u001b[0m\u001b[0;34m\u001b[0m\u001b[0;34m\u001b[0m\u001b[0m\n\u001b[1;32m    263\u001b[0m     \u001b[0;32melse\u001b[0m\u001b[0;34m:\u001b[0m\u001b[0;34m\u001b[0m\u001b[0;34m\u001b[0m\u001b[0m\n\u001b[0;32m--> 264\u001b[0;31m       \u001b[0;32mreturn\u001b[0m \u001b[0msuper\u001b[0m\u001b[0;34m(\u001b[0m\u001b[0mVariableMetaclass\u001b[0m\u001b[0;34m,\u001b[0m \u001b[0mcls\u001b[0m\u001b[0;34m)\u001b[0m\u001b[0;34m.\u001b[0m\u001b[0m__call__\u001b[0m\u001b[0;34m(\u001b[0m\u001b[0;34m*\u001b[0m\u001b[0margs\u001b[0m\u001b[0;34m,\u001b[0m \u001b[0;34m**\u001b[0m\u001b[0mkwargs\u001b[0m\u001b[0;34m)\u001b[0m\u001b[0;34m\u001b[0m\u001b[0;34m\u001b[0m\u001b[0m\n\u001b[0m\u001b[1;32m    265\u001b[0m \u001b[0;34m\u001b[0m\u001b[0m\n\u001b[1;32m    266\u001b[0m \u001b[0;34m\u001b[0m\u001b[0m\n",
            "\u001b[0;32m/usr/local/lib/python3.7/dist-packages/tensorflow/python/ops/resource_variable_ops.py\u001b[0m in \u001b[0;36m__init__\u001b[0;34m(self, initial_value, trainable, collections, validate_shape, caching_device, name, dtype, variable_def, import_scope, constraint, distribute_strategy, synchronization, aggregation, shape)\u001b[0m\n\u001b[1;32m   1593\u001b[0m           \u001b[0maggregation\u001b[0m\u001b[0;34m=\u001b[0m\u001b[0maggregation\u001b[0m\u001b[0;34m,\u001b[0m\u001b[0;34m\u001b[0m\u001b[0;34m\u001b[0m\u001b[0m\n\u001b[1;32m   1594\u001b[0m           \u001b[0mshape\u001b[0m\u001b[0;34m=\u001b[0m\u001b[0mshape\u001b[0m\u001b[0;34m,\u001b[0m\u001b[0;34m\u001b[0m\u001b[0;34m\u001b[0m\u001b[0m\n\u001b[0;32m-> 1595\u001b[0;31m           distribute_strategy=distribute_strategy)\n\u001b[0m\u001b[1;32m   1596\u001b[0m \u001b[0;34m\u001b[0m\u001b[0m\n\u001b[1;32m   1597\u001b[0m   def _init_from_args(self,\n",
            "\u001b[0;32m/usr/local/lib/python3.7/dist-packages/tensorflow/python/ops/resource_variable_ops.py\u001b[0m in \u001b[0;36m_init_from_args\u001b[0;34m(self, initial_value, trainable, collections, caching_device, name, dtype, constraint, synchronization, aggregation, distribute_strategy, shape)\u001b[0m\n\u001b[1;32m   1720\u001b[0m           \u001b[0;32mwith\u001b[0m \u001b[0mops\u001b[0m\u001b[0;34m.\u001b[0m\u001b[0mname_scope\u001b[0m\u001b[0;34m(\u001b[0m\u001b[0;34m\"Initializer\"\u001b[0m\u001b[0;34m)\u001b[0m\u001b[0;34m,\u001b[0m \u001b[0mdevice_context_manager\u001b[0m\u001b[0;34m(\u001b[0m\u001b[0;32mNone\u001b[0m\u001b[0;34m)\u001b[0m\u001b[0;34m:\u001b[0m\u001b[0;34m\u001b[0m\u001b[0;34m\u001b[0m\u001b[0m\n\u001b[1;32m   1721\u001b[0m             \u001b[0;32mif\u001b[0m \u001b[0minit_from_fn\u001b[0m\u001b[0;34m:\u001b[0m\u001b[0;34m\u001b[0m\u001b[0;34m\u001b[0m\u001b[0m\n\u001b[0;32m-> 1722\u001b[0;31m               \u001b[0minitial_value\u001b[0m \u001b[0;34m=\u001b[0m \u001b[0minitial_value\u001b[0m\u001b[0;34m(\u001b[0m\u001b[0;34m)\u001b[0m\u001b[0;34m\u001b[0m\u001b[0;34m\u001b[0m\u001b[0m\n\u001b[0m\u001b[1;32m   1723\u001b[0m             \u001b[0;32mif\u001b[0m \u001b[0misinstance\u001b[0m\u001b[0;34m(\u001b[0m\u001b[0minitial_value\u001b[0m\u001b[0;34m,\u001b[0m \u001b[0mtrackable\u001b[0m\u001b[0;34m.\u001b[0m\u001b[0mCheckpointInitialValue\u001b[0m\u001b[0;34m)\u001b[0m\u001b[0;34m:\u001b[0m\u001b[0;34m\u001b[0m\u001b[0;34m\u001b[0m\u001b[0m\n\u001b[1;32m   1724\u001b[0m               \u001b[0mself\u001b[0m\u001b[0;34m.\u001b[0m\u001b[0m_maybe_initialize_trackable\u001b[0m\u001b[0;34m(\u001b[0m\u001b[0;34m)\u001b[0m\u001b[0;34m\u001b[0m\u001b[0;34m\u001b[0m\u001b[0m\n",
            "\u001b[0;32m/usr/local/lib/python3.7/dist-packages/tensorflow/python/keras/initializers/initializers_v2.py\u001b[0m in \u001b[0;36m__call__\u001b[0;34m(self, shape, dtype, **kwargs)\u001b[0m\n\u001b[1;32m    521\u001b[0m     \u001b[0;32melse\u001b[0m\u001b[0;34m:\u001b[0m\u001b[0;34m\u001b[0m\u001b[0;34m\u001b[0m\u001b[0m\n\u001b[1;32m    522\u001b[0m       \u001b[0mlimit\u001b[0m \u001b[0;34m=\u001b[0m \u001b[0mmath\u001b[0m\u001b[0;34m.\u001b[0m\u001b[0msqrt\u001b[0m\u001b[0;34m(\u001b[0m\u001b[0;36m3.0\u001b[0m \u001b[0;34m*\u001b[0m \u001b[0mscale\u001b[0m\u001b[0;34m)\u001b[0m\u001b[0;34m\u001b[0m\u001b[0;34m\u001b[0m\u001b[0m\n\u001b[0;32m--> 523\u001b[0;31m       \u001b[0;32mreturn\u001b[0m \u001b[0mself\u001b[0m\u001b[0;34m.\u001b[0m\u001b[0m_random_generator\u001b[0m\u001b[0;34m.\u001b[0m\u001b[0mrandom_uniform\u001b[0m\u001b[0;34m(\u001b[0m\u001b[0mshape\u001b[0m\u001b[0;34m,\u001b[0m \u001b[0;34m-\u001b[0m\u001b[0mlimit\u001b[0m\u001b[0;34m,\u001b[0m \u001b[0mlimit\u001b[0m\u001b[0;34m,\u001b[0m \u001b[0mdtype\u001b[0m\u001b[0;34m)\u001b[0m\u001b[0;34m\u001b[0m\u001b[0;34m\u001b[0m\u001b[0m\n\u001b[0m\u001b[1;32m    524\u001b[0m \u001b[0;34m\u001b[0m\u001b[0m\n\u001b[1;32m    525\u001b[0m   \u001b[0;32mdef\u001b[0m \u001b[0mget_config\u001b[0m\u001b[0;34m(\u001b[0m\u001b[0mself\u001b[0m\u001b[0;34m)\u001b[0m\u001b[0;34m:\u001b[0m\u001b[0;34m\u001b[0m\u001b[0;34m\u001b[0m\u001b[0m\n",
            "\u001b[0;32m/usr/local/lib/python3.7/dist-packages/tensorflow/python/keras/initializers/initializers_v2.py\u001b[0m in \u001b[0;36mrandom_uniform\u001b[0;34m(self, shape, minval, maxval, dtype)\u001b[0m\n\u001b[1;32m    977\u001b[0m       \u001b[0mop\u001b[0m \u001b[0;34m=\u001b[0m \u001b[0mrandom_ops\u001b[0m\u001b[0;34m.\u001b[0m\u001b[0mrandom_uniform\u001b[0m\u001b[0;34m\u001b[0m\u001b[0;34m\u001b[0m\u001b[0m\n\u001b[1;32m    978\u001b[0m     return op(\n\u001b[0;32m--> 979\u001b[0;31m         shape=shape, minval=minval, maxval=maxval, dtype=dtype, seed=self.seed)\n\u001b[0m\u001b[1;32m    980\u001b[0m \u001b[0;34m\u001b[0m\u001b[0m\n\u001b[1;32m    981\u001b[0m   \u001b[0;32mdef\u001b[0m \u001b[0mtruncated_normal\u001b[0m\u001b[0;34m(\u001b[0m\u001b[0mself\u001b[0m\u001b[0;34m,\u001b[0m \u001b[0mshape\u001b[0m\u001b[0;34m,\u001b[0m \u001b[0mmean\u001b[0m\u001b[0;34m,\u001b[0m \u001b[0mstddev\u001b[0m\u001b[0;34m,\u001b[0m \u001b[0mdtype\u001b[0m\u001b[0;34m)\u001b[0m\u001b[0;34m:\u001b[0m\u001b[0;34m\u001b[0m\u001b[0;34m\u001b[0m\u001b[0m\n",
            "\u001b[0;32m/usr/local/lib/python3.7/dist-packages/tensorflow/python/util/dispatch.py\u001b[0m in \u001b[0;36mwrapper\u001b[0;34m(*args, **kwargs)\u001b[0m\n\u001b[1;32m    204\u001b[0m     \u001b[0;34m\"\"\"Call target, and fall back on dispatchers if there is a TypeError.\"\"\"\u001b[0m\u001b[0;34m\u001b[0m\u001b[0;34m\u001b[0m\u001b[0m\n\u001b[1;32m    205\u001b[0m     \u001b[0;32mtry\u001b[0m\u001b[0;34m:\u001b[0m\u001b[0;34m\u001b[0m\u001b[0;34m\u001b[0m\u001b[0m\n\u001b[0;32m--> 206\u001b[0;31m       \u001b[0;32mreturn\u001b[0m \u001b[0mtarget\u001b[0m\u001b[0;34m(\u001b[0m\u001b[0;34m*\u001b[0m\u001b[0margs\u001b[0m\u001b[0;34m,\u001b[0m \u001b[0;34m**\u001b[0m\u001b[0mkwargs\u001b[0m\u001b[0;34m)\u001b[0m\u001b[0;34m\u001b[0m\u001b[0;34m\u001b[0m\u001b[0m\n\u001b[0m\u001b[1;32m    207\u001b[0m     \u001b[0;32mexcept\u001b[0m \u001b[0;34m(\u001b[0m\u001b[0mTypeError\u001b[0m\u001b[0;34m,\u001b[0m \u001b[0mValueError\u001b[0m\u001b[0;34m)\u001b[0m\u001b[0;34m:\u001b[0m\u001b[0;34m\u001b[0m\u001b[0;34m\u001b[0m\u001b[0m\n\u001b[1;32m    208\u001b[0m       \u001b[0;31m# Note: convert_to_eager_tensor currently raises a ValueError, not a\u001b[0m\u001b[0;34m\u001b[0m\u001b[0;34m\u001b[0m\u001b[0;34m\u001b[0m\u001b[0m\n",
            "\u001b[0;32m/usr/local/lib/python3.7/dist-packages/tensorflow/python/ops/random_ops.py\u001b[0m in \u001b[0;36mrandom_uniform\u001b[0;34m(shape, minval, maxval, dtype, seed, name)\u001b[0m\n\u001b[1;32m    308\u001b[0m     \u001b[0;32melse\u001b[0m\u001b[0;34m:\u001b[0m\u001b[0;34m\u001b[0m\u001b[0;34m\u001b[0m\u001b[0m\n\u001b[1;32m    309\u001b[0m       result = gen_random_ops.random_uniform(\n\u001b[0;32m--> 310\u001b[0;31m           shape, dtype, seed=seed1, seed2=seed2)\n\u001b[0m\u001b[1;32m    311\u001b[0m       \u001b[0;32mif\u001b[0m \u001b[0mminval_is_zero\u001b[0m\u001b[0;34m:\u001b[0m\u001b[0;34m\u001b[0m\u001b[0;34m\u001b[0m\u001b[0m\n\u001b[1;32m    312\u001b[0m         \u001b[0;32mif\u001b[0m \u001b[0;32mnot\u001b[0m \u001b[0mmaxval_is_one\u001b[0m\u001b[0;34m:\u001b[0m\u001b[0;34m\u001b[0m\u001b[0;34m\u001b[0m\u001b[0m\n",
            "\u001b[0;32m/usr/local/lib/python3.7/dist-packages/tensorflow/python/ops/gen_random_ops.py\u001b[0m in \u001b[0;36mrandom_uniform\u001b[0;34m(shape, dtype, seed, seed2, name)\u001b[0m\n\u001b[1;32m    719\u001b[0m       \u001b[0;32mreturn\u001b[0m \u001b[0m_result\u001b[0m\u001b[0;34m\u001b[0m\u001b[0;34m\u001b[0m\u001b[0m\n\u001b[1;32m    720\u001b[0m     \u001b[0;32mexcept\u001b[0m \u001b[0m_core\u001b[0m\u001b[0;34m.\u001b[0m\u001b[0m_NotOkStatusException\u001b[0m \u001b[0;32mas\u001b[0m \u001b[0me\u001b[0m\u001b[0;34m:\u001b[0m\u001b[0;34m\u001b[0m\u001b[0;34m\u001b[0m\u001b[0m\n\u001b[0;32m--> 721\u001b[0;31m       \u001b[0m_ops\u001b[0m\u001b[0;34m.\u001b[0m\u001b[0mraise_from_not_ok_status\u001b[0m\u001b[0;34m(\u001b[0m\u001b[0me\u001b[0m\u001b[0;34m,\u001b[0m \u001b[0mname\u001b[0m\u001b[0;34m)\u001b[0m\u001b[0;34m\u001b[0m\u001b[0;34m\u001b[0m\u001b[0m\n\u001b[0m\u001b[1;32m    722\u001b[0m     \u001b[0;32mexcept\u001b[0m \u001b[0m_core\u001b[0m\u001b[0;34m.\u001b[0m\u001b[0m_FallbackException\u001b[0m\u001b[0;34m:\u001b[0m\u001b[0;34m\u001b[0m\u001b[0;34m\u001b[0m\u001b[0m\n\u001b[1;32m    723\u001b[0m       \u001b[0;32mpass\u001b[0m\u001b[0;34m\u001b[0m\u001b[0;34m\u001b[0m\u001b[0m\n",
            "\u001b[0;32m/usr/local/lib/python3.7/dist-packages/tensorflow/python/framework/ops.py\u001b[0m in \u001b[0;36mraise_from_not_ok_status\u001b[0;34m(e, name)\u001b[0m\n\u001b[1;32m   6895\u001b[0m   \u001b[0mmessage\u001b[0m \u001b[0;34m=\u001b[0m \u001b[0me\u001b[0m\u001b[0;34m.\u001b[0m\u001b[0mmessage\u001b[0m \u001b[0;34m+\u001b[0m \u001b[0;34m(\u001b[0m\u001b[0;34m\" name: \"\u001b[0m \u001b[0;34m+\u001b[0m \u001b[0mname\u001b[0m \u001b[0;32mif\u001b[0m \u001b[0mname\u001b[0m \u001b[0;32mis\u001b[0m \u001b[0;32mnot\u001b[0m \u001b[0;32mNone\u001b[0m \u001b[0;32melse\u001b[0m \u001b[0;34m\"\"\u001b[0m\u001b[0;34m)\u001b[0m\u001b[0;34m\u001b[0m\u001b[0;34m\u001b[0m\u001b[0m\n\u001b[1;32m   6896\u001b[0m   \u001b[0;31m# pylint: disable=protected-access\u001b[0m\u001b[0;34m\u001b[0m\u001b[0;34m\u001b[0m\u001b[0;34m\u001b[0m\u001b[0m\n\u001b[0;32m-> 6897\u001b[0;31m   \u001b[0msix\u001b[0m\u001b[0;34m.\u001b[0m\u001b[0mraise_from\u001b[0m\u001b[0;34m(\u001b[0m\u001b[0mcore\u001b[0m\u001b[0;34m.\u001b[0m\u001b[0m_status_to_exception\u001b[0m\u001b[0;34m(\u001b[0m\u001b[0me\u001b[0m\u001b[0;34m.\u001b[0m\u001b[0mcode\u001b[0m\u001b[0;34m,\u001b[0m \u001b[0mmessage\u001b[0m\u001b[0;34m)\u001b[0m\u001b[0;34m,\u001b[0m \u001b[0;32mNone\u001b[0m\u001b[0;34m)\u001b[0m\u001b[0;34m\u001b[0m\u001b[0;34m\u001b[0m\u001b[0m\n\u001b[0m\u001b[1;32m   6898\u001b[0m   \u001b[0;31m# pylint: enable=protected-access\u001b[0m\u001b[0;34m\u001b[0m\u001b[0;34m\u001b[0m\u001b[0;34m\u001b[0m\u001b[0m\n\u001b[1;32m   6899\u001b[0m \u001b[0;34m\u001b[0m\u001b[0m\n",
            "\u001b[0;32m/usr/local/lib/python3.7/dist-packages/six.py\u001b[0m in \u001b[0;36mraise_from\u001b[0;34m(value, from_value)\u001b[0m\n",
            "\u001b[0;31mResourceExhaustedError\u001b[0m: OOM when allocating tensor with shape[308025,1232100] and type float on /job:localhost/replica:0/task:0/device:GPU:0 by allocator GPU_0_bfc [Op:RandomUniform]"
          ]
        }
      ]
    },
    {
      "cell_type": "code",
      "metadata": {
        "id": "v_UWaXpQxLyM"
      },
      "source": [
        "model.compile(loss='categorical_crossentropy', optimizer='adam', metrics=['accuracy'])"
      ],
      "execution_count": null,
      "outputs": []
    },
    {
      "cell_type": "code",
      "metadata": {
        "id": "cT3LEz2m6Vdd"
      },
      "source": [
        ""
      ],
      "execution_count": null,
      "outputs": []
    }
  ]
}